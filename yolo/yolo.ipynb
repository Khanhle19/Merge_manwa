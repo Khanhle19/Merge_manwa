{
 "cells": [
  {
   "cell_type": "code",
   "execution_count": 1,
   "id": "f38b4fb4",
   "metadata": {},
   "outputs": [
    {
     "name": "stdout",
     "output_type": "stream",
     "text": [
      "Collecting roboflow\n",
      "  Using cached roboflow-1.1.65-py3-none-any.whl.metadata (9.7 kB)\n",
      "Collecting certifi (from roboflow)\n",
      "  Using cached certifi-2025.4.26-py3-none-any.whl.metadata (2.5 kB)\n",
      "Collecting idna==3.7 (from roboflow)\n",
      "  Using cached idna-3.7-py3-none-any.whl.metadata (9.9 kB)\n",
      "Collecting cycler (from roboflow)\n",
      "  Using cached cycler-0.12.1-py3-none-any.whl.metadata (3.8 kB)\n",
      "Collecting kiwisolver>=1.3.1 (from roboflow)\n",
      "  Downloading kiwisolver-1.4.8-cp311-cp311-win_amd64.whl.metadata (6.3 kB)\n",
      "Collecting matplotlib (from roboflow)\n",
      "  Downloading matplotlib-3.10.3-cp311-cp311-win_amd64.whl.metadata (11 kB)\n",
      "Requirement already satisfied: numpy>=1.18.5 in c:\\users\\admin\\miniconda3\\envs\\yolov12\\lib\\site-packages (from roboflow) (2.2.6)\n",
      "Collecting opencv-python-headless==4.10.0.84 (from roboflow)\n",
      "  Using cached opencv_python_headless-4.10.0.84-cp37-abi3-win_amd64.whl.metadata (20 kB)\n",
      "Collecting Pillow>=7.1.2 (from roboflow)\n",
      "  Downloading pillow-11.2.1-cp311-cp311-win_amd64.whl.metadata (9.1 kB)\n",
      "Collecting pillow-heif>=0.18.0 (from roboflow)\n",
      "  Downloading pillow_heif-0.22.0-cp311-cp311-win_amd64.whl.metadata (9.8 kB)\n",
      "Requirement already satisfied: python-dateutil in c:\\users\\admin\\miniconda3\\envs\\yolov12\\lib\\site-packages (from roboflow) (2.9.0.post0)\n",
      "Collecting python-dotenv (from roboflow)\n",
      "  Using cached python_dotenv-1.1.0-py3-none-any.whl.metadata (24 kB)\n",
      "Collecting requests (from roboflow)\n",
      "  Using cached requests-2.32.3-py3-none-any.whl.metadata (4.6 kB)\n",
      "Requirement already satisfied: six in c:\\users\\admin\\miniconda3\\envs\\yolov12\\lib\\site-packages (from roboflow) (1.17.0)\n",
      "Collecting urllib3>=1.26.6 (from roboflow)\n",
      "  Using cached urllib3-2.4.0-py3-none-any.whl.metadata (6.5 kB)\n",
      "Collecting tqdm>=4.41.0 (from roboflow)\n",
      "  Using cached tqdm-4.67.1-py3-none-any.whl.metadata (57 kB)\n",
      "Collecting PyYAML>=5.3.1 (from roboflow)\n",
      "  Downloading PyYAML-6.0.2-cp311-cp311-win_amd64.whl.metadata (2.1 kB)\n",
      "Collecting requests-toolbelt (from roboflow)\n",
      "  Using cached requests_toolbelt-1.0.0-py2.py3-none-any.whl.metadata (14 kB)\n",
      "Collecting filetype (from roboflow)\n",
      "  Using cached filetype-1.2.0-py2.py3-none-any.whl.metadata (6.5 kB)\n",
      "Requirement already satisfied: colorama in c:\\users\\admin\\miniconda3\\envs\\yolov12\\lib\\site-packages (from tqdm>=4.41.0->roboflow) (0.4.6)\n",
      "Collecting contourpy>=1.0.1 (from matplotlib->roboflow)\n",
      "  Downloading contourpy-1.3.2-cp311-cp311-win_amd64.whl.metadata (5.5 kB)\n",
      "Collecting fonttools>=4.22.0 (from matplotlib->roboflow)\n",
      "  Downloading fonttools-4.58.1-cp311-cp311-win_amd64.whl.metadata (108 kB)\n",
      "Requirement already satisfied: packaging>=20.0 in c:\\users\\admin\\miniconda3\\envs\\yolov12\\lib\\site-packages (from matplotlib->roboflow) (25.0)\n",
      "Collecting pyparsing>=2.3.1 (from matplotlib->roboflow)\n",
      "  Using cached pyparsing-3.2.3-py3-none-any.whl.metadata (5.0 kB)\n",
      "Collecting charset-normalizer<4,>=2 (from requests->roboflow)\n",
      "  Downloading charset_normalizer-3.4.2-cp311-cp311-win_amd64.whl.metadata (36 kB)\n",
      "Using cached roboflow-1.1.65-py3-none-any.whl (85 kB)\n",
      "Using cached idna-3.7-py3-none-any.whl (66 kB)\n",
      "Using cached opencv_python_headless-4.10.0.84-cp37-abi3-win_amd64.whl (38.8 MB)\n",
      "Downloading kiwisolver-1.4.8-cp311-cp311-win_amd64.whl (71 kB)\n",
      "Downloading pillow-11.2.1-cp311-cp311-win_amd64.whl (2.7 MB)\n",
      "   ---------------------------------------- 0.0/2.7 MB ? eta -:--:--\n",
      "   --------------- ------------------------ 1.0/2.7 MB 8.4 MB/s eta 0:00:01\n",
      "   ---------------------------------------- 2.7/2.7 MB 10.3 MB/s eta 0:00:00\n",
      "Downloading pillow_heif-0.22.0-cp311-cp311-win_amd64.whl (8.6 MB)\n",
      "   ---------------------------------------- 0.0/8.6 MB ? eta -:--:--\n",
      "   --------- ------------------------------ 2.1/8.6 MB 13.1 MB/s eta 0:00:01\n",
      "   ------------------ --------------------- 3.9/8.6 MB 9.4 MB/s eta 0:00:01\n",
      "   -------------------------- ------------- 5.8/8.6 MB 9.5 MB/s eta 0:00:01\n",
      "   ---------------------------------------  8.4/8.6 MB 10.4 MB/s eta 0:00:01\n",
      "   ---------------------------------------- 8.6/8.6 MB 10.0 MB/s eta 0:00:00\n",
      "Downloading PyYAML-6.0.2-cp311-cp311-win_amd64.whl (161 kB)\n",
      "Using cached tqdm-4.67.1-py3-none-any.whl (78 kB)\n",
      "Using cached urllib3-2.4.0-py3-none-any.whl (128 kB)\n",
      "Using cached certifi-2025.4.26-py3-none-any.whl (159 kB)\n",
      "Using cached cycler-0.12.1-py3-none-any.whl (8.3 kB)\n",
      "Using cached filetype-1.2.0-py2.py3-none-any.whl (19 kB)\n",
      "Downloading matplotlib-3.10.3-cp311-cp311-win_amd64.whl (8.1 MB)\n",
      "   ---------------------------------------- 0.0/8.1 MB ? eta -:--:--\n",
      "   ----------- ---------------------------- 2.4/8.1 MB 11.2 MB/s eta 0:00:01\n",
      "   ----------------------- ---------------- 4.7/8.1 MB 11.4 MB/s eta 0:00:01\n",
      "   ------------------------------------ --- 7.3/8.1 MB 11.6 MB/s eta 0:00:01\n",
      "   ---------------------------------------- 8.1/8.1 MB 11.4 MB/s eta 0:00:00\n",
      "Downloading contourpy-1.3.2-cp311-cp311-win_amd64.whl (222 kB)\n",
      "Downloading fonttools-4.58.1-cp311-cp311-win_amd64.whl (2.2 MB)\n",
      "   ---------------------------------------- 0.0/2.2 MB ? eta -:--:--\n",
      "   ---------------------------------------- 2.2/2.2 MB 10.6 MB/s eta 0:00:00\n",
      "Using cached pyparsing-3.2.3-py3-none-any.whl (111 kB)\n",
      "Using cached python_dotenv-1.1.0-py3-none-any.whl (20 kB)\n",
      "Using cached requests-2.32.3-py3-none-any.whl (64 kB)\n",
      "Downloading charset_normalizer-3.4.2-cp311-cp311-win_amd64.whl (105 kB)\n",
      "Using cached requests_toolbelt-1.0.0-py2.py3-none-any.whl (54 kB)\n",
      "Installing collected packages: filetype, urllib3, tqdm, PyYAML, python-dotenv, pyparsing, Pillow, opencv-python-headless, kiwisolver, idna, fonttools, cycler, contourpy, charset-normalizer, certifi, requests, pillow-heif, matplotlib, requests-toolbelt, roboflow\n",
      "\n",
      "   ------ ---------------------------------  3/20 [PyYAML]\n",
      "   ------------ ---------------------------  6/20 [Pillow]\n",
      "   ------------ ---------------------------  6/20 [Pillow]\n",
      "   -------------- -------------------------  7/20 [opencv-python-headless]\n",
      "   -------------- -------------------------  7/20 [opencv-python-headless]\n",
      "   -------------------- ------------------- 10/20 [fonttools]\n",
      "   -------------------- ------------------- 10/20 [fonttools]\n",
      "   -------------------- ------------------- 10/20 [fonttools]\n",
      "   -------------------- ------------------- 10/20 [fonttools]\n",
      "   ------------------------ --------------- 12/20 [contourpy]\n",
      "   -------------------------------- ------- 16/20 [pillow-heif]\n",
      "   ---------------------------------- ----- 17/20 [matplotlib]\n",
      "   ---------------------------------- ----- 17/20 [matplotlib]\n",
      "   ---------------------------------- ----- 17/20 [matplotlib]\n",
      "   ---------------------------------- ----- 17/20 [matplotlib]\n",
      "   ---------------------------------- ----- 17/20 [matplotlib]\n",
      "   ---------------------------------- ----- 17/20 [matplotlib]\n",
      "   ---------------------------------- ----- 17/20 [matplotlib]\n",
      "   ---------------------------------------- 20/20 [roboflow]\n",
      "\n",
      "Successfully installed Pillow-11.2.1 PyYAML-6.0.2 certifi-2025.4.26 charset-normalizer-3.4.2 contourpy-1.3.2 cycler-0.12.1 filetype-1.2.0 fonttools-4.58.1 idna-3.7 kiwisolver-1.4.8 matplotlib-3.10.3 opencv-python-headless-4.10.0.84 pillow-heif-0.22.0 pyparsing-3.2.3 python-dotenv-1.1.0 requests-2.32.3 requests-toolbelt-1.0.0 roboflow-1.1.65 tqdm-4.67.1 urllib3-2.4.0\n",
      "loading Roboflow workspace...\n",
      "loading Roboflow project...\n"
     ]
    },
    {
     "name": "stderr",
     "output_type": "stream",
     "text": [
      "Downloading Dataset Version Zip in detect_ads-2 to yolov8:: 100%|██████████| 54539/54539 [00:07<00:00, 6964.07it/s] "
     ]
    },
    {
     "name": "stdout",
     "output_type": "stream",
     "text": [
      "\n"
     ]
    },
    {
     "name": "stderr",
     "output_type": "stream",
     "text": [
      "\n",
      "Extracting Dataset Version Zip to detect_ads-2 in yolov8:: 100%|██████████| 918/918 [00:00<00:00, 6059.69it/s]\n"
     ]
    }
   ],
   "source": [
    "!pip install roboflow\n",
    "\n",
    "from roboflow import Roboflow\n",
    "rf = Roboflow(api_key=\"XccuiW0r9cso9fh8Kg4n\")\n",
    "project = rf.workspace(\"deepl-n1zpl\").project(\"detect_ads\")\n",
    "version = project.version(2)\n",
    "dataset = version.download(\"yolov8\")\n",
    "                "
   ]
  },
  {
   "cell_type": "code",
   "execution_count": 3,
   "id": "2621910b",
   "metadata": {},
   "outputs": [
    {
     "name": "stdout",
     "output_type": "stream",
     "text": [
      "Tue Jun  3 11:20:42 2025       \n",
      "+-----------------------------------------------------------------------------------------+\n",
      "| NVIDIA-SMI 572.83                 Driver Version: 572.83         CUDA Version: 12.8     |\n",
      "|-----------------------------------------+------------------------+----------------------+\n",
      "| GPU  Name                  Driver-Model | Bus-Id          Disp.A | Volatile Uncorr. ECC |\n",
      "| Fan  Temp   Perf          Pwr:Usage/Cap |           Memory-Usage | GPU-Util  Compute M. |\n",
      "|                                         |                        |               MIG M. |\n",
      "|=========================================+========================+======================|\n",
      "|   0  NVIDIA GeForce RTX 4070      WDDM  |   00000000:01:00.0  On |                  N/A |\n",
      "|  0%   51C    P2             38W /  215W |    4928MiB /  12282MiB |      2%      Default |\n",
      "|                                         |                        |                  N/A |\n",
      "+-----------------------------------------+------------------------+----------------------+\n",
      "                                                                                         \n",
      "+-----------------------------------------------------------------------------------------+\n",
      "| Processes:                                                                              |\n",
      "|  GPU   GI   CI              PID   Type   Process name                        GPU Memory |\n",
      "|        ID   ID                                                               Usage      |\n",
      "|=========================================================================================|\n",
      "|    0   N/A  N/A            1796    C+G   ...4__cv1g1gvanyjgm\\WhatsApp.exe      N/A      |\n",
      "|    0   N/A  N/A            3844      C   ...miniconda3\\envs\\AI\\python.exe      N/A      |\n",
      "|    0   N/A  N/A            8700    C+G   ...IA app\\CEF\\NVIDIA Overlay.exe      N/A      |\n",
      "|    0   N/A  N/A           12056    C+G   ...Signer Java\\jre\\bin\\javaw.exe      N/A      |\n",
      "|    0   N/A  N/A           12688    C+G   ...h_cw5n1h2txyewy\\SearchApp.exe      N/A      |\n",
      "|    0   N/A  N/A           13180    C+G   ...y\\StartMenuExperienceHost.exe      N/A      |\n",
      "|    0   N/A  N/A           15568    C+G   C:\\Windows\\explorer.exe               N/A      |\n",
      "|    0   N/A  N/A           16160    C+G   ...xyewy\\ShellExperienceHost.exe      N/A      |\n",
      "|    0   N/A  N/A           17416    C+G   ...IA app\\CEF\\NVIDIA Overlay.exe      N/A      |\n",
      "|    0   N/A  N/A           18344    C+G   ...ms\\Microsoft VS Code\\Code.exe      N/A      |\n",
      "|    0   N/A  N/A           19004    C+G   ...ogram Files\\reWASD\\Engine.exe      N/A      |\n",
      "|    0   N/A  N/A           20548    C+G   ...5n1h2txyewy\\TextInputHost.exe      N/A      |\n",
      "|    0   N/A  N/A           21980    C+G   ...cord\\app-1.0.9193\\Discord.exe      N/A      |\n",
      "|    0   N/A  N/A           22152    C+G   ...ef.win7x64\\steamwebhelper.exe      N/A      |\n",
      "|    0   N/A  N/A           23640    C+G   ...em_tray\\lghub_system_tray.exe      N/A      |\n",
      "|    0   N/A  N/A           27124    C+G   ...lare WARP\\Cloudflare WARP.exe      N/A      |\n",
      "|    0   N/A  N/A           27400    C+G   ...App_cw5n1h2txyewy\\LockApp.exe      N/A      |\n",
      "|    0   N/A  N/A           29604    C+G   ...8bbwe\\PhoneExperienceHost.exe      N/A      |\n",
      "+-----------------------------------------------------------------------------------------+\n"
     ]
    }
   ],
   "source": [
    "!nvidia-smi"
   ]
  },
  {
   "cell_type": "code",
   "execution_count": 4,
   "id": "41ee6301",
   "metadata": {},
   "outputs": [
    {
     "name": "stdout",
     "output_type": "stream",
     "text": [
      "Collecting torch\n",
      "  Downloading torch-2.7.0-cp311-cp311-win_amd64.whl.metadata (29 kB)\n",
      "Collecting torchvision\n",
      "  Downloading torchvision-0.22.0-cp311-cp311-win_amd64.whl.metadata (6.3 kB)\n",
      "Collecting torchaudio\n",
      "  Downloading torchaudio-2.7.0-cp311-cp311-win_amd64.whl.metadata (6.7 kB)\n",
      "Collecting filelock (from torch)\n",
      "  Using cached filelock-3.18.0-py3-none-any.whl.metadata (2.9 kB)\n",
      "Requirement already satisfied: typing-extensions>=4.10.0 in c:\\users\\admin\\miniconda3\\envs\\yolov12\\lib\\site-packages (from torch) (4.13.2)\n",
      "Collecting sympy>=1.13.3 (from torch)\n",
      "  Using cached sympy-1.14.0-py3-none-any.whl.metadata (12 kB)\n",
      "Collecting networkx (from torch)\n",
      "  Downloading networkx-3.5-py3-none-any.whl.metadata (6.3 kB)\n",
      "Collecting jinja2 (from torch)\n",
      "  Using cached jinja2-3.1.6-py3-none-any.whl.metadata (2.9 kB)\n",
      "Collecting fsspec (from torch)\n",
      "  Using cached fsspec-2025.5.1-py3-none-any.whl.metadata (11 kB)\n",
      "Requirement already satisfied: numpy in c:\\users\\admin\\miniconda3\\envs\\yolov12\\lib\\site-packages (from torchvision) (2.2.6)\n",
      "Requirement already satisfied: pillow!=8.3.*,>=5.3.0 in c:\\users\\admin\\miniconda3\\envs\\yolov12\\lib\\site-packages (from torchvision) (11.2.1)\n",
      "Collecting mpmath<1.4,>=1.1.0 (from sympy>=1.13.3->torch)\n",
      "  Using cached mpmath-1.3.0-py3-none-any.whl.metadata (8.6 kB)\n",
      "Collecting MarkupSafe>=2.0 (from jinja2->torch)\n",
      "  Downloading MarkupSafe-3.0.2-cp311-cp311-win_amd64.whl.metadata (4.1 kB)\n",
      "Downloading torch-2.7.0-cp311-cp311-win_amd64.whl (212.5 MB)\n",
      "   ---------------------------------------- 0.0/212.5 MB ? eta -:--:--\n",
      "   ---------------------------------------- 0.5/212.5 MB 4.2 MB/s eta 0:00:51\n",
      "    --------------------------------------- 3.1/212.5 MB 9.7 MB/s eta 0:00:22\n",
      "   - -------------------------------------- 5.5/212.5 MB 10.5 MB/s eta 0:00:20\n",
      "   - -------------------------------------- 8.1/212.5 MB 10.9 MB/s eta 0:00:19\n",
      "   -- ------------------------------------- 10.7/212.5 MB 11.0 MB/s eta 0:00:19\n",
      "   -- ------------------------------------- 13.1/212.5 MB 11.1 MB/s eta 0:00:18\n",
      "   -- ------------------------------------- 15.7/212.5 MB 11.2 MB/s eta 0:00:18\n",
      "   --- ------------------------------------ 18.1/212.5 MB 11.3 MB/s eta 0:00:18\n",
      "   --- ------------------------------------ 20.7/212.5 MB 11.4 MB/s eta 0:00:17\n",
      "   ---- ----------------------------------- 23.3/212.5 MB 11.4 MB/s eta 0:00:17\n",
      "   ---- ----------------------------------- 25.7/212.5 MB 11.5 MB/s eta 0:00:17\n",
      "   ----- ---------------------------------- 28.3/212.5 MB 11.5 MB/s eta 0:00:17\n",
      "   ----- ---------------------------------- 30.7/212.5 MB 11.5 MB/s eta 0:00:16\n",
      "   ------ --------------------------------- 33.3/212.5 MB 11.5 MB/s eta 0:00:16\n",
      "   ------ --------------------------------- 35.9/212.5 MB 11.5 MB/s eta 0:00:16\n",
      "   ------- -------------------------------- 38.3/212.5 MB 11.5 MB/s eta 0:00:16\n",
      "   ------- -------------------------------- 40.6/212.5 MB 11.5 MB/s eta 0:00:15\n",
      "   -------- ------------------------------- 43.3/212.5 MB 11.6 MB/s eta 0:00:15\n",
      "   -------- ------------------------------- 45.9/212.5 MB 11.6 MB/s eta 0:00:15\n",
      "   --------- ------------------------------ 48.2/212.5 MB 11.6 MB/s eta 0:00:15\n",
      "   --------- ------------------------------ 50.6/212.5 MB 11.6 MB/s eta 0:00:14\n",
      "   --------- ------------------------------ 53.0/212.5 MB 11.6 MB/s eta 0:00:14\n",
      "   ---------- ----------------------------- 55.6/212.5 MB 11.6 MB/s eta 0:00:14\n",
      "   ---------- ----------------------------- 57.7/212.5 MB 11.6 MB/s eta 0:00:14\n",
      "   ----------- ---------------------------- 60.3/212.5 MB 11.6 MB/s eta 0:00:14\n",
      "   ----------- ---------------------------- 62.7/212.5 MB 11.5 MB/s eta 0:00:14\n",
      "   ------------ --------------------------- 64.7/212.5 MB 11.5 MB/s eta 0:00:13\n",
      "   ------------ --------------------------- 67.1/212.5 MB 11.5 MB/s eta 0:00:13\n",
      "   ------------- -------------------------- 69.5/212.5 MB 11.4 MB/s eta 0:00:13\n",
      "   ------------- -------------------------- 71.8/212.5 MB 11.4 MB/s eta 0:00:13\n",
      "   ------------- -------------------------- 73.9/212.5 MB 11.4 MB/s eta 0:00:13\n",
      "   -------------- ------------------------- 76.5/212.5 MB 11.4 MB/s eta 0:00:12\n",
      "   -------------- ------------------------- 78.9/212.5 MB 11.4 MB/s eta 0:00:12\n",
      "   --------------- ------------------------ 81.5/212.5 MB 11.5 MB/s eta 0:00:12\n",
      "   --------------- ------------------------ 83.9/212.5 MB 11.5 MB/s eta 0:00:12\n",
      "   ---------------- ----------------------- 86.2/212.5 MB 11.5 MB/s eta 0:00:12\n",
      "   ---------------- ----------------------- 88.6/212.5 MB 11.5 MB/s eta 0:00:11\n",
      "   ----------------- ---------------------- 91.2/212.5 MB 11.5 MB/s eta 0:00:11\n",
      "   ----------------- ---------------------- 93.6/212.5 MB 11.5 MB/s eta 0:00:11\n",
      "   ------------------ --------------------- 95.9/212.5 MB 11.5 MB/s eta 0:00:11\n",
      "   ------------------ --------------------- 98.6/212.5 MB 11.5 MB/s eta 0:00:10\n",
      "   ------------------ -------------------- 100.9/212.5 MB 11.5 MB/s eta 0:00:10\n",
      "   ------------------- ------------------- 103.5/212.5 MB 11.5 MB/s eta 0:00:10\n",
      "   ------------------- ------------------- 105.9/212.5 MB 11.5 MB/s eta 0:00:10\n",
      "   ------------------- ------------------- 107.7/212.5 MB 11.4 MB/s eta 0:00:10\n",
      "   -------------------- ------------------ 109.6/212.5 MB 11.4 MB/s eta 0:00:10\n",
      "   -------------------- ------------------ 111.4/212.5 MB 11.3 MB/s eta 0:00:09\n",
      "   -------------------- ------------------ 113.5/212.5 MB 11.3 MB/s eta 0:00:09\n",
      "   --------------------- ----------------- 115.6/212.5 MB 11.3 MB/s eta 0:00:09\n",
      "   --------------------- ----------------- 117.4/212.5 MB 11.2 MB/s eta 0:00:09\n",
      "   --------------------- ----------------- 119.5/212.5 MB 11.2 MB/s eta 0:00:09\n",
      "   ---------------------- ---------------- 121.6/212.5 MB 11.2 MB/s eta 0:00:09\n",
      "   ---------------------- ---------------- 123.7/212.5 MB 11.1 MB/s eta 0:00:08\n",
      "   ----------------------- --------------- 125.8/212.5 MB 11.1 MB/s eta 0:00:08\n",
      "   ----------------------- --------------- 127.9/212.5 MB 11.1 MB/s eta 0:00:08\n",
      "   ----------------------- --------------- 130.0/212.5 MB 11.1 MB/s eta 0:00:08\n",
      "   ------------------------ -------------- 132.1/212.5 MB 11.1 MB/s eta 0:00:08\n",
      "   ------------------------ -------------- 134.2/212.5 MB 11.1 MB/s eta 0:00:08\n",
      "   ------------------------- ------------- 136.3/212.5 MB 11.1 MB/s eta 0:00:07\n",
      "   ------------------------- ------------- 138.7/212.5 MB 11.0 MB/s eta 0:00:07\n",
      "   ------------------------- ------------- 140.8/212.5 MB 11.0 MB/s eta 0:00:07\n",
      "   -------------------------- ------------ 143.1/212.5 MB 11.0 MB/s eta 0:00:07\n",
      "   -------------------------- ------------ 145.2/212.5 MB 11.0 MB/s eta 0:00:07\n",
      "   -------------------------- ------------ 147.1/212.5 MB 11.0 MB/s eta 0:00:06\n",
      "   --------------------------- ----------- 148.6/212.5 MB 10.9 MB/s eta 0:00:06\n",
      "   --------------------------- ----------- 150.5/212.5 MB 10.9 MB/s eta 0:00:06\n",
      "   --------------------------- ----------- 152.0/212.5 MB 10.8 MB/s eta 0:00:06\n",
      "   ---------------------------- ---------- 153.9/212.5 MB 10.8 MB/s eta 0:00:06\n",
      "   ---------------------------- ---------- 155.7/212.5 MB 10.8 MB/s eta 0:00:06\n",
      "   ---------------------------- ---------- 157.5/212.5 MB 10.7 MB/s eta 0:00:06\n",
      "   ----------------------------- --------- 159.4/212.5 MB 10.7 MB/s eta 0:00:05\n",
      "   ----------------------------- --------- 161.5/212.5 MB 10.7 MB/s eta 0:00:05\n",
      "   ------------------------------ -------- 163.6/212.5 MB 10.7 MB/s eta 0:00:05\n",
      "   ------------------------------ -------- 165.4/212.5 MB 10.6 MB/s eta 0:00:05\n",
      "   ------------------------------ -------- 167.5/212.5 MB 10.6 MB/s eta 0:00:05\n",
      "   ------------------------------- ------- 169.3/212.5 MB 10.6 MB/s eta 0:00:05\n",
      "   ------------------------------- ------- 171.4/212.5 MB 10.6 MB/s eta 0:00:04\n",
      "   ------------------------------- ------- 173.5/212.5 MB 10.6 MB/s eta 0:00:04\n",
      "   -------------------------------- ------ 175.9/212.5 MB 10.6 MB/s eta 0:00:04\n",
      "   -------------------------------- ------ 178.0/212.5 MB 10.6 MB/s eta 0:00:04\n",
      "   -------------------------------- ------ 179.6/212.5 MB 10.5 MB/s eta 0:00:04\n",
      "   --------------------------------- ----- 181.1/212.5 MB 10.5 MB/s eta 0:00:03\n",
      "   --------------------------------- ----- 182.7/212.5 MB 10.5 MB/s eta 0:00:03\n",
      "   --------------------------------- ----- 184.3/212.5 MB 10.4 MB/s eta 0:00:03\n",
      "   ---------------------------------- ---- 186.1/212.5 MB 10.4 MB/s eta 0:00:03\n",
      "   ---------------------------------- ---- 187.7/212.5 MB 10.4 MB/s eta 0:00:03\n",
      "   ---------------------------------- ---- 189.3/212.5 MB 10.3 MB/s eta 0:00:03\n",
      "   ---------------------------------- ---- 190.3/212.5 MB 10.3 MB/s eta 0:00:03\n",
      "   ----------------------------------- --- 191.6/212.5 MB 10.2 MB/s eta 0:00:03\n",
      "   ----------------------------------- --- 192.9/212.5 MB 10.2 MB/s eta 0:00:02\n",
      "   ----------------------------------- --- 194.2/212.5 MB 10.2 MB/s eta 0:00:02\n",
      "   ----------------------------------- --- 195.6/212.5 MB 10.1 MB/s eta 0:00:02\n",
      "   ------------------------------------ -- 196.9/212.5 MB 10.1 MB/s eta 0:00:02\n",
      "   ------------------------------------ -- 198.4/212.5 MB 10.0 MB/s eta 0:00:02\n",
      "   ------------------------------------ -- 199.8/212.5 MB 10.0 MB/s eta 0:00:02\n",
      "   ------------------------------------ -- 201.1/212.5 MB 10.0 MB/s eta 0:00:02\n",
      "   -------------------------------------- - 202.6/212.5 MB 9.9 MB/s eta 0:00:01\n",
      "   -------------------------------------- - 204.2/212.5 MB 9.9 MB/s eta 0:00:01\n",
      "   -------------------------------------- - 205.5/212.5 MB 9.9 MB/s eta 0:00:01\n",
      "   -------------------------------------- - 207.1/212.5 MB 9.8 MB/s eta 0:00:01\n",
      "   ---------------------------------------  208.4/212.5 MB 9.8 MB/s eta 0:00:01\n",
      "   ---------------------------------------  210.0/212.5 MB 9.8 MB/s eta 0:00:01\n",
      "   ---------------------------------------  211.3/212.5 MB 9.7 MB/s eta 0:00:01\n",
      "   ---------------------------------------  212.3/212.5 MB 9.7 MB/s eta 0:00:01\n",
      "   ---------------------------------------- 212.5/212.5 MB 9.6 MB/s eta 0:00:00\n",
      "Downloading torchvision-0.22.0-cp311-cp311-win_amd64.whl (1.7 MB)\n",
      "   ---------------------------------------- 0.0/1.7 MB ? eta -:--:--\n",
      "   ------------------------------ --------- 1.3/1.7 MB 7.5 MB/s eta 0:00:01\n",
      "   ---------------------------------------- 1.7/1.7 MB 7.2 MB/s eta 0:00:00\n",
      "Downloading torchaudio-2.7.0-cp311-cp311-win_amd64.whl (2.5 MB)\n",
      "   ---------------------------------------- 0.0/2.5 MB ? eta -:--:--\n",
      "   --------------------- ------------------ 1.3/2.5 MB 6.7 MB/s eta 0:00:01\n",
      "   ---------------------------------------- 2.5/2.5 MB 6.8 MB/s eta 0:00:00\n",
      "Using cached sympy-1.14.0-py3-none-any.whl (6.3 MB)\n",
      "Using cached mpmath-1.3.0-py3-none-any.whl (536 kB)\n",
      "Using cached filelock-3.18.0-py3-none-any.whl (16 kB)\n",
      "Using cached fsspec-2025.5.1-py3-none-any.whl (199 kB)\n",
      "Using cached jinja2-3.1.6-py3-none-any.whl (134 kB)\n",
      "Downloading MarkupSafe-3.0.2-cp311-cp311-win_amd64.whl (15 kB)\n",
      "Downloading networkx-3.5-py3-none-any.whl (2.0 MB)\n",
      "   ---------------------------------------- 0.0/2.0 MB ? eta -:--:--\n",
      "   ------------------------- -------------- 1.3/2.0 MB 6.7 MB/s eta 0:00:01\n",
      "   ---------------------------------------- 2.0/2.0 MB 6.7 MB/s eta 0:00:00\n",
      "Installing collected packages: mpmath, sympy, networkx, MarkupSafe, fsspec, filelock, jinja2, torch, torchvision, torchaudio\n",
      "\n",
      "   ----------------------------------------  0/10 [mpmath]\n",
      "   ---- -----------------------------------  1/10 [sympy]\n",
      "   ---- -----------------------------------  1/10 [sympy]\n",
      "   ---- -----------------------------------  1/10 [sympy]\n",
      "   ---- -----------------------------------  1/10 [sympy]\n",
      "   ---- -----------------------------------  1/10 [sympy]\n",
      "   ---- -----------------------------------  1/10 [sympy]\n",
      "   ---- -----------------------------------  1/10 [sympy]\n",
      "   ---- -----------------------------------  1/10 [sympy]\n",
      "   ---- -----------------------------------  1/10 [sympy]\n",
      "   ---- -----------------------------------  1/10 [sympy]\n",
      "   ---- -----------------------------------  1/10 [sympy]\n",
      "   ---- -----------------------------------  1/10 [sympy]\n",
      "   ---- -----------------------------------  1/10 [sympy]\n",
      "   ---- -----------------------------------  1/10 [sympy]\n",
      "   ---- -----------------------------------  1/10 [sympy]\n",
      "   ---- -----------------------------------  1/10 [sympy]\n",
      "   ---- -----------------------------------  1/10 [sympy]\n",
      "   ---- -----------------------------------  1/10 [sympy]\n",
      "   ---- -----------------------------------  1/10 [sympy]\n",
      "   ---- -----------------------------------  1/10 [sympy]\n",
      "   ---- -----------------------------------  1/10 [sympy]\n",
      "   ---- -----------------------------------  1/10 [sympy]\n",
      "   ---- -----------------------------------  1/10 [sympy]\n",
      "   ---- -----------------------------------  1/10 [sympy]\n",
      "   ---- -----------------------------------  1/10 [sympy]\n",
      "   ---- -----------------------------------  1/10 [sympy]\n",
      "   -------- -------------------------------  2/10 [networkx]\n",
      "   -------- -------------------------------  2/10 [networkx]\n",
      "   -------- -------------------------------  2/10 [networkx]\n",
      "   -------- -------------------------------  2/10 [networkx]\n",
      "   -------- -------------------------------  2/10 [networkx]\n",
      "   -------- -------------------------------  2/10 [networkx]\n",
      "   -------- -------------------------------  2/10 [networkx]\n",
      "   ---------------- -----------------------  4/10 [fsspec]\n",
      "   ---------------------------- -----------  7/10 [torch]\n",
      "   ---------------------------- -----------  7/10 [torch]\n",
      "   ---------------------------- -----------  7/10 [torch]\n",
      "   ---------------------------- -----------  7/10 [torch]\n",
      "   ---------------------------- -----------  7/10 [torch]\n",
      "   ---------------------------- -----------  7/10 [torch]\n",
      "   ---------------------------- -----------  7/10 [torch]\n",
      "   ---------------------------- -----------  7/10 [torch]\n",
      "   ---------------------------- -----------  7/10 [torch]\n",
      "   ---------------------------- -----------  7/10 [torch]\n",
      "   ---------------------------- -----------  7/10 [torch]\n",
      "   ---------------------------- -----------  7/10 [torch]\n",
      "   ---------------------------- -----------  7/10 [torch]\n",
      "   ---------------------------- -----------  7/10 [torch]\n",
      "   ---------------------------- -----------  7/10 [torch]\n",
      "   ---------------------------- -----------  7/10 [torch]\n",
      "   ---------------------------- -----------  7/10 [torch]\n",
      "   ---------------------------- -----------  7/10 [torch]\n",
      "   ---------------------------- -----------  7/10 [torch]\n",
      "   ---------------------------- -----------  7/10 [torch]\n",
      "   ---------------------------- -----------  7/10 [torch]\n",
      "   ---------------------------- -----------  7/10 [torch]\n",
      "   ---------------------------- -----------  7/10 [torch]\n",
      "   ---------------------------- -----------  7/10 [torch]\n",
      "   ---------------------------- -----------  7/10 [torch]\n",
      "   ---------------------------- -----------  7/10 [torch]\n",
      "   ---------------------------- -----------  7/10 [torch]\n",
      "   ---------------------------- -----------  7/10 [torch]\n",
      "   ---------------------------- -----------  7/10 [torch]\n",
      "   ---------------------------- -----------  7/10 [torch]\n",
      "   ---------------------------- -----------  7/10 [torch]\n",
      "   ---------------------------- -----------  7/10 [torch]\n",
      "   ---------------------------- -----------  7/10 [torch]\n",
      "   ---------------------------- -----------  7/10 [torch]\n",
      "   ---------------------------- -----------  7/10 [torch]\n",
      "   ---------------------------- -----------  7/10 [torch]\n",
      "   ---------------------------- -----------  7/10 [torch]\n",
      "   ---------------------------- -----------  7/10 [torch]\n",
      "   ---------------------------- -----------  7/10 [torch]\n",
      "   ---------------------------- -----------  7/10 [torch]\n",
      "   ---------------------------- -----------  7/10 [torch]\n",
      "   ---------------------------- -----------  7/10 [torch]\n",
      "   ---------------------------- -----------  7/10 [torch]\n",
      "   ---------------------------- -----------  7/10 [torch]\n",
      "   ---------------------------- -----------  7/10 [torch]\n",
      "   ---------------------------- -----------  7/10 [torch]\n",
      "   ---------------------------- -----------  7/10 [torch]\n",
      "   ---------------------------- -----------  7/10 [torch]\n",
      "   ---------------------------- -----------  7/10 [torch]\n",
      "   ---------------------------- -----------  7/10 [torch]\n",
      "   ---------------------------- -----------  7/10 [torch]\n",
      "   ---------------------------- -----------  7/10 [torch]\n",
      "   ---------------------------- -----------  7/10 [torch]\n",
      "   ---------------------------- -----------  7/10 [torch]\n",
      "   -------------------------------- -------  8/10 [torchvision]\n",
      "   -------------------------------- -------  8/10 [torchvision]\n",
      "   -------------------------------- -------  8/10 [torchvision]\n",
      "   ------------------------------------ ---  9/10 [torchaudio]\n",
      "   ---------------------------------------- 10/10 [torchaudio]\n",
      "\n",
      "Successfully installed MarkupSafe-3.0.2 filelock-3.18.0 fsspec-2025.5.1 jinja2-3.1.6 mpmath-1.3.0 networkx-3.5 sympy-1.14.0 torch-2.7.0 torchaudio-2.7.0 torchvision-0.22.0\n",
      "Collecting ultralytics\n",
      "  Downloading ultralytics-8.3.148-py3-none-any.whl.metadata (37 kB)\n",
      "Requirement already satisfied: numpy>=1.23.0 in c:\\users\\admin\\miniconda3\\envs\\yolov12\\lib\\site-packages (from ultralytics) (2.2.6)\n",
      "Requirement already satisfied: matplotlib>=3.3.0 in c:\\users\\admin\\miniconda3\\envs\\yolov12\\lib\\site-packages (from ultralytics) (3.10.3)\n",
      "Collecting opencv-python>=4.6.0 (from ultralytics)\n",
      "  Using cached opencv_python-4.11.0.86-cp37-abi3-win_amd64.whl.metadata (20 kB)\n",
      "Requirement already satisfied: pillow>=7.1.2 in c:\\users\\admin\\miniconda3\\envs\\yolov12\\lib\\site-packages (from ultralytics) (11.2.1)\n",
      "Requirement already satisfied: pyyaml>=5.3.1 in c:\\users\\admin\\miniconda3\\envs\\yolov12\\lib\\site-packages (from ultralytics) (6.0.2)\n",
      "Requirement already satisfied: requests>=2.23.0 in c:\\users\\admin\\miniconda3\\envs\\yolov12\\lib\\site-packages (from ultralytics) (2.32.3)\n",
      "Collecting scipy>=1.4.1 (from ultralytics)\n",
      "  Downloading scipy-1.15.3-cp311-cp311-win_amd64.whl.metadata (60 kB)\n",
      "Requirement already satisfied: torch>=1.8.0 in c:\\users\\admin\\miniconda3\\envs\\yolov12\\lib\\site-packages (from ultralytics) (2.7.0)\n",
      "Requirement already satisfied: torchvision>=0.9.0 in c:\\users\\admin\\miniconda3\\envs\\yolov12\\lib\\site-packages (from ultralytics) (0.22.0)\n",
      "Requirement already satisfied: tqdm>=4.64.0 in c:\\users\\admin\\miniconda3\\envs\\yolov12\\lib\\site-packages (from ultralytics) (4.67.1)\n",
      "Requirement already satisfied: psutil in c:\\users\\admin\\miniconda3\\envs\\yolov12\\lib\\site-packages (from ultralytics) (7.0.0)\n",
      "Collecting py-cpuinfo (from ultralytics)\n",
      "  Using cached py_cpuinfo-9.0.0-py3-none-any.whl.metadata (794 bytes)\n",
      "Collecting pandas>=1.1.4 (from ultralytics)\n",
      "  Downloading pandas-2.2.3-cp311-cp311-win_amd64.whl.metadata (19 kB)\n",
      "Collecting ultralytics-thop>=2.0.0 (from ultralytics)\n",
      "  Using cached ultralytics_thop-2.0.14-py3-none-any.whl.metadata (9.4 kB)\n",
      "Requirement already satisfied: contourpy>=1.0.1 in c:\\users\\admin\\miniconda3\\envs\\yolov12\\lib\\site-packages (from matplotlib>=3.3.0->ultralytics) (1.3.2)\n",
      "Requirement already satisfied: cycler>=0.10 in c:\\users\\admin\\miniconda3\\envs\\yolov12\\lib\\site-packages (from matplotlib>=3.3.0->ultralytics) (0.12.1)\n",
      "Requirement already satisfied: fonttools>=4.22.0 in c:\\users\\admin\\miniconda3\\envs\\yolov12\\lib\\site-packages (from matplotlib>=3.3.0->ultralytics) (4.58.1)\n",
      "Requirement already satisfied: kiwisolver>=1.3.1 in c:\\users\\admin\\miniconda3\\envs\\yolov12\\lib\\site-packages (from matplotlib>=3.3.0->ultralytics) (1.4.8)\n",
      "Requirement already satisfied: packaging>=20.0 in c:\\users\\admin\\miniconda3\\envs\\yolov12\\lib\\site-packages (from matplotlib>=3.3.0->ultralytics) (25.0)\n",
      "Requirement already satisfied: pyparsing>=2.3.1 in c:\\users\\admin\\miniconda3\\envs\\yolov12\\lib\\site-packages (from matplotlib>=3.3.0->ultralytics) (3.2.3)\n",
      "Requirement already satisfied: python-dateutil>=2.7 in c:\\users\\admin\\miniconda3\\envs\\yolov12\\lib\\site-packages (from matplotlib>=3.3.0->ultralytics) (2.9.0.post0)\n",
      "Collecting pytz>=2020.1 (from pandas>=1.1.4->ultralytics)\n",
      "  Using cached pytz-2025.2-py2.py3-none-any.whl.metadata (22 kB)\n",
      "Collecting tzdata>=2022.7 (from pandas>=1.1.4->ultralytics)\n",
      "  Using cached tzdata-2025.2-py2.py3-none-any.whl.metadata (1.4 kB)\n",
      "Requirement already satisfied: six>=1.5 in c:\\users\\admin\\miniconda3\\envs\\yolov12\\lib\\site-packages (from python-dateutil>=2.7->matplotlib>=3.3.0->ultralytics) (1.17.0)\n",
      "Requirement already satisfied: charset-normalizer<4,>=2 in c:\\users\\admin\\miniconda3\\envs\\yolov12\\lib\\site-packages (from requests>=2.23.0->ultralytics) (3.4.2)\n",
      "Requirement already satisfied: idna<4,>=2.5 in c:\\users\\admin\\miniconda3\\envs\\yolov12\\lib\\site-packages (from requests>=2.23.0->ultralytics) (3.7)\n",
      "Requirement already satisfied: urllib3<3,>=1.21.1 in c:\\users\\admin\\miniconda3\\envs\\yolov12\\lib\\site-packages (from requests>=2.23.0->ultralytics) (2.4.0)\n",
      "Requirement already satisfied: certifi>=2017.4.17 in c:\\users\\admin\\miniconda3\\envs\\yolov12\\lib\\site-packages (from requests>=2.23.0->ultralytics) (2025.4.26)\n",
      "Requirement already satisfied: filelock in c:\\users\\admin\\miniconda3\\envs\\yolov12\\lib\\site-packages (from torch>=1.8.0->ultralytics) (3.18.0)\n",
      "Requirement already satisfied: typing-extensions>=4.10.0 in c:\\users\\admin\\miniconda3\\envs\\yolov12\\lib\\site-packages (from torch>=1.8.0->ultralytics) (4.13.2)\n",
      "Requirement already satisfied: sympy>=1.13.3 in c:\\users\\admin\\miniconda3\\envs\\yolov12\\lib\\site-packages (from torch>=1.8.0->ultralytics) (1.14.0)\n",
      "Requirement already satisfied: networkx in c:\\users\\admin\\miniconda3\\envs\\yolov12\\lib\\site-packages (from torch>=1.8.0->ultralytics) (3.5)\n",
      "Requirement already satisfied: jinja2 in c:\\users\\admin\\miniconda3\\envs\\yolov12\\lib\\site-packages (from torch>=1.8.0->ultralytics) (3.1.6)\n",
      "Requirement already satisfied: fsspec in c:\\users\\admin\\miniconda3\\envs\\yolov12\\lib\\site-packages (from torch>=1.8.0->ultralytics) (2025.5.1)\n",
      "Requirement already satisfied: mpmath<1.4,>=1.1.0 in c:\\users\\admin\\miniconda3\\envs\\yolov12\\lib\\site-packages (from sympy>=1.13.3->torch>=1.8.0->ultralytics) (1.3.0)\n",
      "Requirement already satisfied: colorama in c:\\users\\admin\\miniconda3\\envs\\yolov12\\lib\\site-packages (from tqdm>=4.64.0->ultralytics) (0.4.6)\n",
      "Requirement already satisfied: MarkupSafe>=2.0 in c:\\users\\admin\\miniconda3\\envs\\yolov12\\lib\\site-packages (from jinja2->torch>=1.8.0->ultralytics) (3.0.2)\n",
      "Downloading ultralytics-8.3.148-py3-none-any.whl (1.0 MB)\n",
      "   ---------------------------------------- 0.0/1.0 MB ? eta -:--:--\n",
      "   ---------------------------------------- 1.0/1.0 MB 7.1 MB/s eta 0:00:00\n",
      "Using cached opencv_python-4.11.0.86-cp37-abi3-win_amd64.whl (39.5 MB)\n",
      "Downloading pandas-2.2.3-cp311-cp311-win_amd64.whl (11.6 MB)\n",
      "   ---------------------------------------- 0.0/11.6 MB ? eta -:--:--\n",
      "   ----- ---------------------------------- 1.6/11.6 MB 11.9 MB/s eta 0:00:01\n",
      "   ----------------- ---------------------- 5.0/11.6 MB 12.1 MB/s eta 0:00:01\n",
      "   ------------------------- -------------- 7.3/11.6 MB 11.9 MB/s eta 0:00:01\n",
      "   -------------------------------- ------- 9.4/11.6 MB 11.7 MB/s eta 0:00:01\n",
      "   ---------------------------------------- 11.6/11.6 MB 11.5 MB/s eta 0:00:00\n",
      "Using cached pytz-2025.2-py2.py3-none-any.whl (509 kB)\n",
      "Downloading scipy-1.15.3-cp311-cp311-win_amd64.whl (41.2 MB)\n",
      "   ---------------------------------------- 0.0/41.2 MB ? eta -:--:--\n",
      "   -- ------------------------------------- 2.4/41.2 MB 11.2 MB/s eta 0:00:04\n",
      "   --- ------------------------------------ 3.4/41.2 MB 11.8 MB/s eta 0:00:04\n",
      "   ------ --------------------------------- 7.1/41.2 MB 11.8 MB/s eta 0:00:03\n",
      "   --------- ------------------------------ 9.4/41.2 MB 11.7 MB/s eta 0:00:03\n",
      "   ----------- ---------------------------- 11.8/41.2 MB 11.7 MB/s eta 0:00:03\n",
      "   ------------- -------------------------- 14.2/41.2 MB 11.7 MB/s eta 0:00:03\n",
      "   ---------------- ----------------------- 16.5/41.2 MB 11.7 MB/s eta 0:00:03\n",
      "   ------------------ --------------------- 19.1/41.2 MB 11.7 MB/s eta 0:00:02\n",
      "   -------------------- ------------------- 21.5/41.2 MB 11.7 MB/s eta 0:00:02\n",
      "   ----------------------- ---------------- 23.9/41.2 MB 11.7 MB/s eta 0:00:02\n",
      "   ------------------------- -------------- 26.5/41.2 MB 11.7 MB/s eta 0:00:02\n",
      "   -------------------------- ------------- 27.8/41.2 MB 11.7 MB/s eta 0:00:02\n",
      "   ------------------------------ --------- 31.5/41.2 MB 11.7 MB/s eta 0:00:01\n",
      "   -------------------------------- ------- 33.8/41.2 MB 11.7 MB/s eta 0:00:01\n",
      "   ----------------------------------- ---- 36.2/41.2 MB 11.7 MB/s eta 0:00:01\n",
      "   ------------------------------------- -- 38.5/41.2 MB 11.7 MB/s eta 0:00:01\n",
      "   ---------------------------------------  41.2/41.2 MB 11.7 MB/s eta 0:00:01\n",
      "   ---------------------------------------- 41.2/41.2 MB 11.6 MB/s eta 0:00:00\n",
      "Using cached tzdata-2025.2-py2.py3-none-any.whl (347 kB)\n",
      "Using cached ultralytics_thop-2.0.14-py3-none-any.whl (26 kB)\n",
      "Using cached py_cpuinfo-9.0.0-py3-none-any.whl (22 kB)\n",
      "Installing collected packages: pytz, py-cpuinfo, tzdata, scipy, opencv-python, pandas, ultralytics-thop, ultralytics\n",
      "\n",
      "   ----- ---------------------------------- 1/8 [py-cpuinfo]\n",
      "   --------------- ------------------------ 3/8 [scipy]\n",
      "   --------------- ------------------------ 3/8 [scipy]\n",
      "   --------------- ------------------------ 3/8 [scipy]\n",
      "   --------------- ------------------------ 3/8 [scipy]\n",
      "   --------------- ------------------------ 3/8 [scipy]\n",
      "   --------------- ------------------------ 3/8 [scipy]\n",
      "   --------------- ------------------------ 3/8 [scipy]\n",
      "   --------------- ------------------------ 3/8 [scipy]\n",
      "   --------------- ------------------------ 3/8 [scipy]\n",
      "   --------------- ------------------------ 3/8 [scipy]\n",
      "   --------------- ------------------------ 3/8 [scipy]\n",
      "   --------------- ------------------------ 3/8 [scipy]\n",
      "   --------------- ------------------------ 3/8 [scipy]\n",
      "   --------------- ------------------------ 3/8 [scipy]\n",
      "   --------------- ------------------------ 3/8 [scipy]\n",
      "   --------------- ------------------------ 3/8 [scipy]\n",
      "   --------------- ------------------------ 3/8 [scipy]\n",
      "   --------------- ------------------------ 3/8 [scipy]\n",
      "   -------------------- ------------------- 4/8 [opencv-python]\n",
      "   -------------------- ------------------- 4/8 [opencv-python]\n",
      "   -------------------- ------------------- 4/8 [opencv-python]\n",
      "   ------------------------- -------------- 5/8 [pandas]\n",
      "   ------------------------- -------------- 5/8 [pandas]\n",
      "   ------------------------- -------------- 5/8 [pandas]\n",
      "   ------------------------- -------------- 5/8 [pandas]\n",
      "   ------------------------- -------------- 5/8 [pandas]\n",
      "   ------------------------- -------------- 5/8 [pandas]\n",
      "   ------------------------- -------------- 5/8 [pandas]\n",
      "   ------------------------- -------------- 5/8 [pandas]\n",
      "   ------------------------- -------------- 5/8 [pandas]\n",
      "   ------------------------- -------------- 5/8 [pandas]\n",
      "   ------------------------- -------------- 5/8 [pandas]\n",
      "   ------------------------- -------------- 5/8 [pandas]\n",
      "   ------------------------- -------------- 5/8 [pandas]\n",
      "   ------------------------- -------------- 5/8 [pandas]\n",
      "   ------------------------- -------------- 5/8 [pandas]\n",
      "   ------------------------- -------------- 5/8 [pandas]\n",
      "   ------------------------- -------------- 5/8 [pandas]\n",
      "   ------------------------- -------------- 5/8 [pandas]\n",
      "   ------------------------- -------------- 5/8 [pandas]\n",
      "   ------------------------- -------------- 5/8 [pandas]\n",
      "   ----------------------------------- ---- 7/8 [ultralytics]\n",
      "   ----------------------------------- ---- 7/8 [ultralytics]\n",
      "   ---------------------------------------- 8/8 [ultralytics]\n",
      "\n",
      "Successfully installed opencv-python-4.11.0.86 pandas-2.2.3 py-cpuinfo-9.0.0 pytz-2025.2 scipy-1.15.3 tzdata-2025.2 ultralytics-8.3.148 ultralytics-thop-2.0.14\n",
      "PyTorch version: 2.7.0+cpu\n",
      "GPU available: False\n"
     ]
    }
   ],
   "source": [
    "!pip install torch torchvision torchaudio\n",
    "\n",
    "# Cài đặt Ultralytics YOLOv8\n",
    "!pip install ultralytics\n",
    "\n",
    "# Kiểm tra cài đặt\n",
    "import torch\n",
    "print(f\"PyTorch version: {torch.__version__}\")\n",
    "print(f\"GPU available: {torch.cuda.is_available()}\")"
   ]
  },
  {
   "cell_type": "code",
   "execution_count": 6,
   "id": "d3ddf2c1",
   "metadata": {},
   "outputs": [
    {
     "name": "stdout",
     "output_type": "stream",
     "text": [
      "Tue Jun  3 11:24:36 2025       \n",
      "+-----------------------------------------------------------------------------------------+\n",
      "| NVIDIA-SMI 572.83                 Driver Version: 572.83         CUDA Version: 12.8     |\n",
      "|-----------------------------------------+------------------------+----------------------+\n",
      "| GPU  Name                  Driver-Model | Bus-Id          Disp.A | Volatile Uncorr. ECC |\n",
      "| Fan  Temp   Perf          Pwr:Usage/Cap |           Memory-Usage | GPU-Util  Compute M. |\n",
      "|                                         |                        |               MIG M. |\n",
      "|=========================================+========================+======================|\n",
      "|   0  NVIDIA GeForce RTX 4070      WDDM  |   00000000:01:00.0  On |                  N/A |\n",
      "|  0%   50C    P2             38W /  215W |    4937MiB /  12282MiB |      6%      Default |\n",
      "|                                         |                        |                  N/A |\n",
      "+-----------------------------------------+------------------------+----------------------+\n",
      "                                                                                         \n",
      "+-----------------------------------------------------------------------------------------+\n",
      "| Processes:                                                                              |\n",
      "|  GPU   GI   CI              PID   Type   Process name                        GPU Memory |\n",
      "|        ID   ID                                                               Usage      |\n",
      "|=========================================================================================|\n",
      "|    0   N/A  N/A            1796    C+G   ...4__cv1g1gvanyjgm\\WhatsApp.exe      N/A      |\n",
      "|    0   N/A  N/A            3844      C   ...miniconda3\\envs\\AI\\python.exe      N/A      |\n",
      "|    0   N/A  N/A            8700    C+G   ...IA app\\CEF\\NVIDIA Overlay.exe      N/A      |\n",
      "|    0   N/A  N/A           12056    C+G   ...Signer Java\\jre\\bin\\javaw.exe      N/A      |\n",
      "|    0   N/A  N/A           12688    C+G   ...h_cw5n1h2txyewy\\SearchApp.exe      N/A      |\n",
      "|    0   N/A  N/A           13180    C+G   ...y\\StartMenuExperienceHost.exe      N/A      |\n",
      "|    0   N/A  N/A           15568    C+G   C:\\Windows\\explorer.exe               N/A      |\n",
      "|    0   N/A  N/A           16160    C+G   ...xyewy\\ShellExperienceHost.exe      N/A      |\n",
      "|    0   N/A  N/A           17416    C+G   ...IA app\\CEF\\NVIDIA Overlay.exe      N/A      |\n",
      "|    0   N/A  N/A           18344    C+G   ...ms\\Microsoft VS Code\\Code.exe      N/A      |\n",
      "|    0   N/A  N/A           19004    C+G   ...ogram Files\\reWASD\\Engine.exe      N/A      |\n",
      "|    0   N/A  N/A           20548    C+G   ...5n1h2txyewy\\TextInputHost.exe      N/A      |\n",
      "|    0   N/A  N/A           21980    C+G   ...cord\\app-1.0.9193\\Discord.exe      N/A      |\n",
      "|    0   N/A  N/A           22152    C+G   ...ef.win7x64\\steamwebhelper.exe      N/A      |\n",
      "|    0   N/A  N/A           23640    C+G   ...em_tray\\lghub_system_tray.exe      N/A      |\n",
      "|    0   N/A  N/A           27124    C+G   ...lare WARP\\Cloudflare WARP.exe      N/A      |\n",
      "|    0   N/A  N/A           27400    C+G   ...App_cw5n1h2txyewy\\LockApp.exe      N/A      |\n",
      "|    0   N/A  N/A           29604    C+G   ...8bbwe\\PhoneExperienceHost.exe      N/A      |\n",
      "+-----------------------------------------------------------------------------------------+\n"
     ]
    }
   ],
   "source": [
    "!nvidia-smi"
   ]
  },
  {
   "cell_type": "code",
   "execution_count": 7,
   "id": "efe541a1",
   "metadata": {},
   "outputs": [
    {
     "name": "stdout",
     "output_type": "stream",
     "text": [
      "PyTorch version: 2.7.0+cpu\n",
      "CUDA version: Not available\n"
     ]
    }
   ],
   "source": [
    "import torch\n",
    "print(f\"PyTorch version: {torch.__version__}\")\n",
    "print(f\"CUDA version: {torch.version.cuda if torch.cuda.is_available() else 'Not available'}\")"
   ]
  },
  {
   "cell_type": "code",
   "execution_count": 8,
   "id": "0a3c17dd",
   "metadata": {},
   "outputs": [
    {
     "name": "stdout",
     "output_type": "stream",
     "text": [
      "Found existing installation: torch 2.7.0\n",
      "Uninstalling torch-2.7.0:\n",
      "  Successfully uninstalled torch-2.7.0\n",
      "Found existing installation: torchvision 0.22.0\n",
      "Uninstalling torchvision-0.22.0:\n",
      "  Successfully uninstalled torchvision-0.22.0\n",
      "Found existing installation: torchaudio 2.7.0\n",
      "Uninstalling torchaudio-2.7.0:\n",
      "  Successfully uninstalled torchaudio-2.7.0\n",
      "Note: you may need to restart the kernel to use updated packages.\n"
     ]
    },
    {
     "name": "stderr",
     "output_type": "stream",
     "text": [
      "WARNING: Failed to remove contents in a temporary directory 'C:\\Users\\Admin\\miniconda3\\envs\\yolov12\\Lib\\site-packages\\~orch'.\n",
      "You can safely remove it manually.\n"
     ]
    }
   ],
   "source": [
    "pip uninstall -y torch torchvision torchaudio"
   ]
  },
  {
   "cell_type": "code",
   "execution_count": 9,
   "id": "70d6e3b5",
   "metadata": {},
   "outputs": [
    {
     "name": "stdout",
     "output_type": "stream",
     "text": [
      "Looking in indexes: https://download.pytorch.org/whl/cu121\n",
      "Collecting torch\n",
      "  Downloading https://download.pytorch.org/whl/cu121/torch-2.5.1%2Bcu121-cp311-cp311-win_amd64.whl (2449.4 MB)\n",
      "     ---------------------------------------- 0.0/2.4 GB ? eta -:--:--\n",
      "     ---------------------------------------- 0.0/2.4 GB 8.4 MB/s eta 0:04:53\n",
      "     ---------------------------------------- 0.0/2.4 GB 10.9 MB/s eta 0:03:45\n",
      "     ---------------------------------------- 0.0/2.4 GB 11.2 MB/s eta 0:03:39\n",
      "     ---------------------------------------- 0.0/2.4 GB 11.4 MB/s eta 0:03:34\n",
      "     ---------------------------------------- 0.0/2.4 GB 11.5 MB/s eta 0:03:33\n",
      "     ---------------------------------------- 0.0/2.4 GB 11.5 MB/s eta 0:03:33\n",
      "     ---------------------------------------- 0.0/2.4 GB 11.6 MB/s eta 0:03:31\n",
      "     ---------------------------------------- 0.0/2.4 GB 11.6 MB/s eta 0:03:31\n",
      "     ---------------------------------------- 0.0/2.4 GB 11.6 MB/s eta 0:03:30\n",
      "     ---------------------------------------- 0.0/2.4 GB 11.6 MB/s eta 0:03:30\n",
      "     ---------------------------------------- 0.0/2.4 GB 11.6 MB/s eta 0:03:29\n",
      "     ---------------------------------------- 0.0/2.4 GB 11.6 MB/s eta 0:03:29\n",
      "     ---------------------------------------- 0.0/2.4 GB 11.6 MB/s eta 0:03:29\n",
      "      --------------------------------------- 0.0/2.4 GB 11.6 MB/s eta 0:03:28\n",
      "      --------------------------------------- 0.0/2.4 GB 11.5 MB/s eta 0:03:30\n",
      "      --------------------------------------- 0.0/2.4 GB 11.6 MB/s eta 0:03:29\n",
      "      --------------------------------------- 0.0/2.4 GB 11.6 MB/s eta 0:03:29\n",
      "      --------------------------------------- 0.0/2.4 GB 11.6 MB/s eta 0:03:29\n",
      "      --------------------------------------- 0.0/2.4 GB 11.6 MB/s eta 0:03:28\n",
      "      --------------------------------------- 0.0/2.4 GB 11.6 MB/s eta 0:03:28\n",
      "      --------------------------------------- 0.0/2.4 GB 11.6 MB/s eta 0:03:27\n",
      "      --------------------------------------- 0.1/2.4 GB 11.6 MB/s eta 0:03:27\n",
      "      --------------------------------------- 0.1/2.4 GB 11.6 MB/s eta 0:03:27\n",
      "      --------------------------------------- 0.1/2.4 GB 11.6 MB/s eta 0:03:27\n",
      "      --------------------------------------- 0.1/2.4 GB 11.6 MB/s eta 0:03:27\n",
      "     - -------------------------------------- 0.1/2.4 GB 11.6 MB/s eta 0:03:26\n",
      "     - -------------------------------------- 0.1/2.4 GB 11.6 MB/s eta 0:03:27\n",
      "     - -------------------------------------- 0.1/2.4 GB 11.6 MB/s eta 0:03:27\n",
      "     - -------------------------------------- 0.1/2.4 GB 11.6 MB/s eta 0:03:26\n",
      "     - -------------------------------------- 0.1/2.4 GB 11.6 MB/s eta 0:03:26\n",
      "     - -------------------------------------- 0.1/2.4 GB 11.6 MB/s eta 0:03:26\n",
      "     - -------------------------------------- 0.1/2.4 GB 11.6 MB/s eta 0:03:25\n",
      "     - -------------------------------------- 0.1/2.4 GB 11.6 MB/s eta 0:03:25\n",
      "     - -------------------------------------- 0.1/2.4 GB 11.6 MB/s eta 0:03:25\n",
      "     - -------------------------------------- 0.1/2.4 GB 11.6 MB/s eta 0:03:24\n",
      "     - -------------------------------------- 0.1/2.4 GB 11.6 MB/s eta 0:03:24\n",
      "     - -------------------------------------- 0.1/2.4 GB 11.6 MB/s eta 0:03:24\n",
      "     - -------------------------------------- 0.1/2.4 GB 11.6 MB/s eta 0:03:23\n",
      "     - -------------------------------------- 0.1/2.4 GB 11.6 MB/s eta 0:03:23\n",
      "     - -------------------------------------- 0.1/2.4 GB 11.6 MB/s eta 0:03:23\n",
      "     - -------------------------------------- 0.1/2.4 GB 11.6 MB/s eta 0:03:23\n",
      "     - -------------------------------------- 0.1/2.4 GB 11.6 MB/s eta 0:03:23\n",
      "     - -------------------------------------- 0.1/2.4 GB 11.6 MB/s eta 0:03:22\n",
      "     - -------------------------------------- 0.1/2.4 GB 11.6 MB/s eta 0:03:23\n",
      "     - -------------------------------------- 0.1/2.4 GB 11.5 MB/s eta 0:03:23\n",
      "     - -------------------------------------- 0.1/2.4 GB 11.5 MB/s eta 0:03:25\n",
      "     - -------------------------------------- 0.1/2.4 GB 11.4 MB/s eta 0:03:25\n",
      "     - -------------------------------------- 0.1/2.4 GB 11.4 MB/s eta 0:03:26\n",
      "     - -------------------------------------- 0.1/2.4 GB 11.4 MB/s eta 0:03:25\n",
      "     - -------------------------------------- 0.1/2.4 GB 11.4 MB/s eta 0:03:25\n",
      "     - -------------------------------------- 0.1/2.4 GB 11.1 MB/s eta 0:03:31\n",
      "     - -------------------------------------- 0.1/2.4 GB 11.1 MB/s eta 0:03:30\n",
      "     - -------------------------------------- 0.1/2.4 GB 11.1 MB/s eta 0:03:30\n",
      "     -- ------------------------------------- 0.1/2.4 GB 11.1 MB/s eta 0:03:29\n",
      "     -- ------------------------------------- 0.1/2.4 GB 11.1 MB/s eta 0:03:29\n",
      "     -- ------------------------------------- 0.1/2.4 GB 11.2 MB/s eta 0:03:29\n",
      "     -- ------------------------------------- 0.1/2.4 GB 11.2 MB/s eta 0:03:28\n",
      "     -- ------------------------------------- 0.1/2.4 GB 11.2 MB/s eta 0:03:28\n",
      "     -- ------------------------------------- 0.1/2.4 GB 11.2 MB/s eta 0:03:27\n",
      "     -- ------------------------------------- 0.1/2.4 GB 11.2 MB/s eta 0:03:27\n",
      "     -- ------------------------------------- 0.1/2.4 GB 11.2 MB/s eta 0:03:27\n",
      "     -- ------------------------------------- 0.1/2.4 GB 11.2 MB/s eta 0:03:26\n",
      "     -- ------------------------------------- 0.1/2.4 GB 11.2 MB/s eta 0:03:26\n",
      "     -- ------------------------------------- 0.1/2.4 GB 11.2 MB/s eta 0:03:25\n",
      "     -- ------------------------------------- 0.2/2.4 GB 11.2 MB/s eta 0:03:25\n",
      "     -- ------------------------------------- 0.2/2.4 GB 11.2 MB/s eta 0:03:25\n",
      "     -- ------------------------------------- 0.2/2.4 GB 11.3 MB/s eta 0:03:24\n",
      "     -- ------------------------------------- 0.2/2.4 GB 11.3 MB/s eta 0:03:24\n",
      "     -- ------------------------------------- 0.2/2.4 GB 11.3 MB/s eta 0:03:24\n",
      "     -- ------------------------------------- 0.2/2.4 GB 11.3 MB/s eta 0:03:23\n",
      "     -- ------------------------------------- 0.2/2.4 GB 11.3 MB/s eta 0:03:23\n",
      "     -- ------------------------------------- 0.2/2.4 GB 11.3 MB/s eta 0:03:23\n",
      "     -- ------------------------------------- 0.2/2.4 GB 11.3 MB/s eta 0:03:22\n",
      "     -- ------------------------------------- 0.2/2.4 GB 11.3 MB/s eta 0:03:22\n",
      "     -- ------------------------------------- 0.2/2.4 GB 11.3 MB/s eta 0:03:22\n",
      "     -- ------------------------------------- 0.2/2.4 GB 11.3 MB/s eta 0:03:21\n",
      "     -- ------------------------------------- 0.2/2.4 GB 11.3 MB/s eta 0:03:21\n",
      "     -- ------------------------------------- 0.2/2.4 GB 11.3 MB/s eta 0:03:21\n",
      "     --- ------------------------------------ 0.2/2.4 GB 11.3 MB/s eta 0:03:20\n",
      "     --- ------------------------------------ 0.2/2.4 GB 11.3 MB/s eta 0:03:20\n",
      "     --- ------------------------------------ 0.2/2.4 GB 11.3 MB/s eta 0:03:20\n",
      "     --- ------------------------------------ 0.2/2.4 GB 11.3 MB/s eta 0:03:20\n",
      "     --- ------------------------------------ 0.2/2.4 GB 11.3 MB/s eta 0:03:21\n",
      "     --- ------------------------------------ 0.2/2.4 GB 11.2 MB/s eta 0:03:21\n",
      "     --- ------------------------------------ 0.2/2.4 GB 11.2 MB/s eta 0:03:21\n",
      "     --- ------------------------------------ 0.2/2.4 GB 11.2 MB/s eta 0:03:20\n",
      "     --- ------------------------------------ 0.2/2.4 GB 11.3 MB/s eta 0:03:20\n",
      "     --- ------------------------------------ 0.2/2.4 GB 11.3 MB/s eta 0:03:20\n",
      "     --- ------------------------------------ 0.2/2.4 GB 11.3 MB/s eta 0:03:19\n",
      "     --- ------------------------------------ 0.2/2.4 GB 11.3 MB/s eta 0:03:19\n",
      "     --- ------------------------------------ 0.2/2.4 GB 11.3 MB/s eta 0:03:19\n",
      "     --- ------------------------------------ 0.2/2.4 GB 11.3 MB/s eta 0:03:18\n",
      "     --- ------------------------------------ 0.2/2.4 GB 11.3 MB/s eta 0:03:18\n",
      "     --- ------------------------------------ 0.2/2.4 GB 11.3 MB/s eta 0:03:18\n",
      "     --- ------------------------------------ 0.2/2.4 GB 11.3 MB/s eta 0:03:18\n",
      "     --- ------------------------------------ 0.2/2.4 GB 11.3 MB/s eta 0:03:17\n",
      "     --- ------------------------------------ 0.2/2.4 GB 11.3 MB/s eta 0:03:17\n",
      "     --- ------------------------------------ 0.2/2.4 GB 11.3 MB/s eta 0:03:17\n",
      "     --- ------------------------------------ 0.2/2.4 GB 11.3 MB/s eta 0:03:17\n",
      "     --- ------------------------------------ 0.2/2.4 GB 11.2 MB/s eta 0:03:19\n",
      "     --- ------------------------------------ 0.2/2.4 GB 11.2 MB/s eta 0:03:19\n",
      "     --- ------------------------------------ 0.2/2.4 GB 11.2 MB/s eta 0:03:18\n",
      "     --- ------------------------------------ 0.2/2.4 GB 11.2 MB/s eta 0:03:18\n",
      "     --- ------------------------------------ 0.2/2.4 GB 11.2 MB/s eta 0:03:18\n",
      "     ---- ----------------------------------- 0.2/2.4 GB 11.2 MB/s eta 0:03:17\n",
      "     ---- ----------------------------------- 0.2/2.4 GB 11.2 MB/s eta 0:03:17\n",
      "     ---- ----------------------------------- 0.3/2.4 GB 11.2 MB/s eta 0:03:17\n",
      "     ---- ----------------------------------- 0.3/2.4 GB 11.2 MB/s eta 0:03:16\n",
      "     ---- ----------------------------------- 0.3/2.4 GB 11.2 MB/s eta 0:03:16\n",
      "     ---- ----------------------------------- 0.3/2.4 GB 11.2 MB/s eta 0:03:16\n",
      "     ---- ----------------------------------- 0.3/2.4 GB 11.2 MB/s eta 0:03:16\n",
      "     ---- ----------------------------------- 0.3/2.4 GB 11.2 MB/s eta 0:03:15\n",
      "     ---- ----------------------------------- 0.3/2.4 GB 11.3 MB/s eta 0:03:15\n",
      "     ---- ----------------------------------- 0.3/2.4 GB 11.3 MB/s eta 0:03:14\n",
      "     ---- ----------------------------------- 0.3/2.4 GB 11.2 MB/s eta 0:03:14\n",
      "     ---- ----------------------------------- 0.3/2.4 GB 11.2 MB/s eta 0:03:14\n",
      "     ---- ----------------------------------- 0.3/2.4 GB 11.2 MB/s eta 0:03:14\n",
      "     ---- ----------------------------------- 0.3/2.4 GB 11.2 MB/s eta 0:03:14\n",
      "     ---- ----------------------------------- 0.3/2.4 GB 11.2 MB/s eta 0:03:14\n",
      "     ---- ----------------------------------- 0.3/2.4 GB 11.2 MB/s eta 0:03:13\n",
      "     ---- ----------------------------------- 0.3/2.4 GB 11.2 MB/s eta 0:03:13\n",
      "     ---- ----------------------------------- 0.3/2.4 GB 11.2 MB/s eta 0:03:13\n",
      "     ---- ----------------------------------- 0.3/2.4 GB 11.2 MB/s eta 0:03:12\n",
      "     ---- ----------------------------------- 0.3/2.4 GB 11.2 MB/s eta 0:03:12\n",
      "     ---- ----------------------------------- 0.3/2.4 GB 11.2 MB/s eta 0:03:12\n",
      "     ---- ----------------------------------- 0.3/2.4 GB 11.3 MB/s eta 0:03:11\n",
      "     ---- ----------------------------------- 0.3/2.4 GB 11.3 MB/s eta 0:03:12\n",
      "     ---- ----------------------------------- 0.3/2.4 GB 11.3 MB/s eta 0:03:11\n",
      "     ---- ----------------------------------- 0.3/2.4 GB 11.2 MB/s eta 0:03:11\n",
      "     ----- ---------------------------------- 0.3/2.4 GB 11.2 MB/s eta 0:03:11\n",
      "     ----- ---------------------------------- 0.3/2.4 GB 11.2 MB/s eta 0:03:11\n",
      "     ----- ---------------------------------- 0.3/2.4 GB 11.2 MB/s eta 0:03:11\n",
      "     ----- ---------------------------------- 0.3/2.4 GB 11.2 MB/s eta 0:03:11\n",
      "     ----- ---------------------------------- 0.3/2.4 GB 11.2 MB/s eta 0:03:11\n",
      "     ----- ---------------------------------- 0.3/2.4 GB 11.2 MB/s eta 0:03:11\n",
      "     ----- ---------------------------------- 0.3/2.4 GB 11.2 MB/s eta 0:03:10\n",
      "     ----- ---------------------------------- 0.3/2.4 GB 11.2 MB/s eta 0:03:10\n",
      "     ----- ---------------------------------- 0.3/2.4 GB 11.2 MB/s eta 0:03:10\n",
      "     ----- ---------------------------------- 0.3/2.4 GB 11.2 MB/s eta 0:03:09\n",
      "     ----- ---------------------------------- 0.3/2.4 GB 11.2 MB/s eta 0:03:09\n",
      "     ----- ---------------------------------- 0.3/2.4 GB 11.2 MB/s eta 0:03:09\n",
      "     ----- ---------------------------------- 0.3/2.4 GB 11.2 MB/s eta 0:03:09\n",
      "     ----- ---------------------------------- 0.3/2.4 GB 11.2 MB/s eta 0:03:09\n",
      "     ----- ---------------------------------- 0.3/2.4 GB 11.2 MB/s eta 0:03:08\n",
      "     ----- ---------------------------------- 0.3/2.4 GB 11.2 MB/s eta 0:03:08\n",
      "     ----- ---------------------------------- 0.3/2.4 GB 11.2 MB/s eta 0:03:08\n",
      "     ----- ---------------------------------- 0.3/2.4 GB 11.2 MB/s eta 0:03:08\n",
      "     ----- ---------------------------------- 0.3/2.4 GB 11.2 MB/s eta 0:03:08\n",
      "     ----- ---------------------------------- 0.4/2.4 GB 11.2 MB/s eta 0:03:09\n",
      "     ----- ---------------------------------- 0.4/2.4 GB 11.1 MB/s eta 0:03:09\n",
      "     ----- ---------------------------------- 0.4/2.4 GB 11.1 MB/s eta 0:03:09\n",
      "     ----- ---------------------------------- 0.4/2.4 GB 11.1 MB/s eta 0:03:09\n",
      "     ----- ---------------------------------- 0.4/2.4 GB 11.1 MB/s eta 0:03:09\n",
      "     ----- ---------------------------------- 0.4/2.4 GB 11.1 MB/s eta 0:03:09\n",
      "     ----- ---------------------------------- 0.4/2.4 GB 11.1 MB/s eta 0:03:08\n",
      "     ----- ---------------------------------- 0.4/2.4 GB 11.2 MB/s eta 0:03:07\n",
      "     ------ --------------------------------- 0.4/2.4 GB 11.2 MB/s eta 0:03:07\n",
      "     ------ --------------------------------- 0.4/2.4 GB 11.2 MB/s eta 0:03:06\n",
      "     ------ --------------------------------- 0.4/2.4 GB 11.2 MB/s eta 0:03:06\n",
      "     ------ --------------------------------- 0.4/2.4 GB 11.2 MB/s eta 0:03:05\n",
      "     ------ --------------------------------- 0.4/2.4 GB 11.3 MB/s eta 0:03:03\n",
      "     ------ --------------------------------- 0.4/2.4 GB 11.3 MB/s eta 0:03:03\n",
      "     ------ --------------------------------- 0.4/2.4 GB 11.3 MB/s eta 0:03:03\n",
      "     ------ --------------------------------- 0.4/2.4 GB 11.3 MB/s eta 0:03:02\n",
      "     ------ --------------------------------- 0.4/2.4 GB 11.3 MB/s eta 0:03:02\n",
      "     ------ --------------------------------- 0.4/2.4 GB 11.3 MB/s eta 0:03:02\n",
      "     ------ --------------------------------- 0.4/2.4 GB 11.3 MB/s eta 0:03:02\n",
      "     ------ --------------------------------- 0.4/2.4 GB 11.3 MB/s eta 0:03:02\n",
      "     ------ --------------------------------- 0.4/2.4 GB 11.3 MB/s eta 0:03:01\n",
      "     ------ --------------------------------- 0.4/2.4 GB 11.3 MB/s eta 0:03:01\n",
      "     ------ --------------------------------- 0.4/2.4 GB 11.3 MB/s eta 0:03:01\n",
      "     ------ --------------------------------- 0.4/2.4 GB 11.3 MB/s eta 0:03:01\n",
      "     ------ --------------------------------- 0.4/2.4 GB 11.3 MB/s eta 0:03:01\n",
      "     ------ --------------------------------- 0.4/2.4 GB 11.3 MB/s eta 0:03:00\n",
      "     ------ --------------------------------- 0.4/2.4 GB 11.3 MB/s eta 0:03:00\n",
      "     ------ --------------------------------- 0.4/2.4 GB 11.3 MB/s eta 0:03:00\n",
      "     ------ --------------------------------- 0.4/2.4 GB 11.3 MB/s eta 0:03:00\n",
      "     ------ --------------------------------- 0.4/2.4 GB 11.3 MB/s eta 0:03:00\n",
      "     ------ --------------------------------- 0.4/2.4 GB 11.3 MB/s eta 0:03:00\n",
      "     ------ --------------------------------- 0.4/2.4 GB 11.3 MB/s eta 0:03:00\n",
      "     ------ --------------------------------- 0.4/2.4 GB 11.3 MB/s eta 0:03:00\n",
      "     ------- -------------------------------- 0.4/2.4 GB 11.3 MB/s eta 0:02:59\n",
      "     ------- -------------------------------- 0.4/2.4 GB 11.3 MB/s eta 0:02:59\n",
      "     ------- -------------------------------- 0.4/2.4 GB 11.3 MB/s eta 0:02:59\n",
      "     ------- -------------------------------- 0.4/2.4 GB 11.3 MB/s eta 0:02:59\n",
      "     ------- -------------------------------- 0.4/2.4 GB 11.3 MB/s eta 0:02:58\n",
      "     ------- -------------------------------- 0.4/2.4 GB 11.3 MB/s eta 0:02:58\n",
      "     ------- -------------------------------- 0.4/2.4 GB 11.3 MB/s eta 0:02:58\n",
      "     ------- -------------------------------- 0.4/2.4 GB 11.3 MB/s eta 0:02:58\n",
      "     ------- -------------------------------- 0.5/2.4 GB 11.3 MB/s eta 0:02:58\n",
      "     ------- -------------------------------- 0.5/2.4 GB 11.3 MB/s eta 0:02:57\n",
      "     ------- -------------------------------- 0.5/2.4 GB 11.3 MB/s eta 0:02:56\n",
      "     ------- -------------------------------- 0.5/2.4 GB 11.4 MB/s eta 0:02:56\n",
      "     ------- -------------------------------- 0.5/2.4 GB 11.4 MB/s eta 0:02:55\n",
      "     ------- -------------------------------- 0.5/2.4 GB 11.4 MB/s eta 0:02:55\n",
      "     ------- -------------------------------- 0.5/2.4 GB 11.4 MB/s eta 0:02:55\n",
      "     ------- -------------------------------- 0.5/2.4 GB 11.4 MB/s eta 0:02:55\n",
      "     ------- -------------------------------- 0.5/2.4 GB 11.2 MB/s eta 0:02:57\n",
      "     ------- -------------------------------- 0.5/2.4 GB 11.3 MB/s eta 0:02:56\n",
      "     ------- -------------------------------- 0.5/2.4 GB 11.2 MB/s eta 0:02:56\n",
      "     ------- -------------------------------- 0.5/2.4 GB 11.2 MB/s eta 0:02:56\n",
      "     ------- -------------------------------- 0.5/2.4 GB 11.2 MB/s eta 0:02:56\n",
      "     ------- -------------------------------- 0.5/2.4 GB 11.2 MB/s eta 0:02:56\n",
      "     ------- -------------------------------- 0.5/2.4 GB 11.2 MB/s eta 0:02:56\n",
      "     ------- -------------------------------- 0.5/2.4 GB 11.2 MB/s eta 0:02:55\n",
      "     ------- -------------------------------- 0.5/2.4 GB 11.2 MB/s eta 0:02:55\n",
      "     ------- -------------------------------- 0.5/2.4 GB 11.2 MB/s eta 0:02:55\n",
      "     -------- ------------------------------- 0.5/2.4 GB 11.2 MB/s eta 0:02:55\n",
      "     -------- ------------------------------- 0.5/2.4 GB 11.4 MB/s eta 0:02:52\n",
      "     -------- ------------------------------- 0.5/2.4 GB 11.4 MB/s eta 0:02:52\n",
      "     -------- ------------------------------- 0.5/2.4 GB 11.4 MB/s eta 0:02:52\n",
      "     -------- ------------------------------- 0.5/2.4 GB 11.4 MB/s eta 0:02:52\n",
      "     -------- ------------------------------- 0.5/2.4 GB 11.4 MB/s eta 0:02:52\n",
      "     -------- ------------------------------- 0.5/2.4 GB 11.4 MB/s eta 0:02:51\n",
      "     -------- ------------------------------- 0.5/2.4 GB 11.4 MB/s eta 0:02:51\n",
      "     -------- ------------------------------- 0.5/2.4 GB 11.4 MB/s eta 0:02:51\n",
      "     -------- ------------------------------- 0.5/2.4 GB 11.3 MB/s eta 0:02:51\n",
      "     -------- ------------------------------- 0.5/2.4 GB 11.3 MB/s eta 0:02:51\n",
      "     -------- ------------------------------- 0.5/2.4 GB 11.3 MB/s eta 0:02:51\n",
      "     -------- ------------------------------- 0.5/2.4 GB 11.3 MB/s eta 0:02:51\n",
      "     -------- ------------------------------- 0.5/2.4 GB 11.3 MB/s eta 0:02:51\n",
      "     -------- ------------------------------- 0.5/2.4 GB 11.3 MB/s eta 0:02:50\n",
      "     -------- ------------------------------- 0.5/2.4 GB 11.3 MB/s eta 0:02:50\n",
      "     -------- ------------------------------- 0.5/2.4 GB 11.3 MB/s eta 0:02:50\n",
      "     -------- ------------------------------- 0.5/2.4 GB 11.3 MB/s eta 0:02:50\n",
      "     -------- ------------------------------- 0.5/2.4 GB 11.3 MB/s eta 0:02:50\n",
      "     -------- ------------------------------- 0.5/2.4 GB 11.3 MB/s eta 0:02:49\n",
      "     -------- ------------------------------- 0.5/2.4 GB 11.3 MB/s eta 0:02:49\n",
      "     -------- ------------------------------- 0.5/2.4 GB 11.3 MB/s eta 0:02:49\n",
      "     -------- ------------------------------- 0.5/2.4 GB 11.3 MB/s eta 0:02:49\n",
      "     -------- ------------------------------- 0.5/2.4 GB 11.3 MB/s eta 0:02:49\n",
      "     -------- ------------------------------- 0.5/2.4 GB 11.3 MB/s eta 0:02:48\n",
      "     --------- ------------------------------ 0.6/2.4 GB 11.3 MB/s eta 0:02:48\n",
      "     --------- ------------------------------ 0.6/2.4 GB 11.3 MB/s eta 0:02:48\n",
      "     --------- ------------------------------ 0.6/2.4 GB 11.3 MB/s eta 0:02:48\n",
      "     --------- ------------------------------ 0.6/2.4 GB 11.3 MB/s eta 0:02:47\n",
      "     --------- ------------------------------ 0.6/2.4 GB 11.3 MB/s eta 0:02:47\n",
      "     --------- ------------------------------ 0.6/2.4 GB 11.3 MB/s eta 0:02:47\n",
      "     --------- ------------------------------ 0.6/2.4 GB 11.3 MB/s eta 0:02:47\n",
      "     --------- ------------------------------ 0.6/2.4 GB 11.3 MB/s eta 0:02:46\n",
      "     --------- ------------------------------ 0.6/2.4 GB 11.4 MB/s eta 0:02:46\n",
      "     --------- ------------------------------ 0.6/2.4 GB 11.4 MB/s eta 0:02:45\n",
      "     --------- ------------------------------ 0.6/2.4 GB 11.4 MB/s eta 0:02:45\n",
      "     --------- ------------------------------ 0.6/2.4 GB 11.4 MB/s eta 0:02:45\n",
      "     --------- ------------------------------ 0.6/2.4 GB 11.4 MB/s eta 0:02:45\n",
      "     --------- ------------------------------ 0.6/2.4 GB 11.4 MB/s eta 0:02:45\n",
      "     --------- ------------------------------ 0.6/2.4 GB 11.2 MB/s eta 0:02:46\n",
      "     --------- ------------------------------ 0.6/2.4 GB 11.2 MB/s eta 0:02:46\n",
      "     --------- ------------------------------ 0.6/2.4 GB 11.2 MB/s eta 0:02:46\n",
      "     --------- ------------------------------ 0.6/2.4 GB 11.2 MB/s eta 0:02:46\n",
      "     --------- ------------------------------ 0.6/2.4 GB 11.2 MB/s eta 0:02:46\n",
      "     --------- ------------------------------ 0.6/2.4 GB 11.2 MB/s eta 0:02:45\n",
      "     --------- ------------------------------ 0.6/2.4 GB 11.2 MB/s eta 0:02:45\n",
      "     --------- ------------------------------ 0.6/2.4 GB 11.2 MB/s eta 0:02:45\n",
      "     --------- ------------------------------ 0.6/2.4 GB 11.2 MB/s eta 0:02:45\n",
      "     --------- ------------------------------ 0.6/2.4 GB 11.2 MB/s eta 0:02:44\n",
      "     --------- ------------------------------ 0.6/2.4 GB 11.2 MB/s eta 0:02:44\n",
      "     --------- ------------------------------ 0.6/2.4 GB 11.2 MB/s eta 0:02:44\n",
      "     ---------- ----------------------------- 0.6/2.4 GB 11.4 MB/s eta 0:02:42\n",
      "     ---------- ----------------------------- 0.6/2.4 GB 11.4 MB/s eta 0:02:42\n",
      "     ---------- ----------------------------- 0.6/2.4 GB 11.4 MB/s eta 0:02:41\n",
      "     ---------- ----------------------------- 0.6/2.4 GB 11.4 MB/s eta 0:02:41\n",
      "     ---------- ----------------------------- 0.6/2.4 GB 11.3 MB/s eta 0:02:42\n",
      "     ---------- ----------------------------- 0.6/2.4 GB 11.3 MB/s eta 0:02:42\n",
      "     ---------- ----------------------------- 0.6/2.4 GB 11.3 MB/s eta 0:02:41\n",
      "     ---------- ----------------------------- 0.6/2.4 GB 11.3 MB/s eta 0:02:41\n",
      "     ---------- ----------------------------- 0.6/2.4 GB 11.3 MB/s eta 0:02:41\n",
      "     ---------- ----------------------------- 0.6/2.4 GB 11.3 MB/s eta 0:02:41\n",
      "     ---------- ----------------------------- 0.6/2.4 GB 11.3 MB/s eta 0:02:40\n",
      "     ---------- ----------------------------- 0.6/2.4 GB 11.3 MB/s eta 0:02:40\n",
      "     ---------- ----------------------------- 0.6/2.4 GB 11.3 MB/s eta 0:02:40\n",
      "     ---------- ----------------------------- 0.6/2.4 GB 11.3 MB/s eta 0:02:40\n",
      "     ---------- ----------------------------- 0.6/2.4 GB 11.3 MB/s eta 0:02:39\n",
      "     ---------- ----------------------------- 0.6/2.4 GB 11.3 MB/s eta 0:02:39\n",
      "     ---------- ----------------------------- 0.7/2.4 GB 11.3 MB/s eta 0:02:39\n",
      "     ---------- ----------------------------- 0.7/2.4 GB 11.3 MB/s eta 0:02:39\n",
      "     ---------- ----------------------------- 0.7/2.4 GB 11.3 MB/s eta 0:02:39\n",
      "     ---------- ----------------------------- 0.7/2.4 GB 11.3 MB/s eta 0:02:38\n",
      "     ---------- ----------------------------- 0.7/2.4 GB 11.3 MB/s eta 0:02:38\n",
      "     ---------- ----------------------------- 0.7/2.4 GB 11.3 MB/s eta 0:02:38\n",
      "     ---------- ----------------------------- 0.7/2.4 GB 11.3 MB/s eta 0:02:38\n",
      "     ---------- ----------------------------- 0.7/2.4 GB 11.3 MB/s eta 0:02:38\n",
      "     ---------- ----------------------------- 0.7/2.4 GB 11.3 MB/s eta 0:02:37\n",
      "     ----------- ---------------------------- 0.7/2.4 GB 11.3 MB/s eta 0:02:37\n",
      "     ----------- ---------------------------- 0.7/2.4 GB 11.3 MB/s eta 0:02:37\n",
      "     ----------- ---------------------------- 0.7/2.4 GB 11.3 MB/s eta 0:02:37\n",
      "     ----------- ---------------------------- 0.7/2.4 GB 11.3 MB/s eta 0:02:36\n",
      "     ----------- ---------------------------- 0.7/2.4 GB 11.4 MB/s eta 0:02:36\n",
      "     ----------- ---------------------------- 0.7/2.4 GB 11.4 MB/s eta 0:02:36\n",
      "     ----------- ---------------------------- 0.7/2.4 GB 11.4 MB/s eta 0:02:35\n",
      "     ----------- ---------------------------- 0.7/2.4 GB 11.4 MB/s eta 0:02:35\n",
      "     ----------- ---------------------------- 0.7/2.4 GB 11.4 MB/s eta 0:02:35\n",
      "     ----------- ---------------------------- 0.7/2.4 GB 11.4 MB/s eta 0:02:35\n",
      "     ----------- ---------------------------- 0.7/2.4 GB 11.4 MB/s eta 0:02:34\n",
      "     ----------- ---------------------------- 0.7/2.4 GB 11.4 MB/s eta 0:02:34\n",
      "     ----------- ---------------------------- 0.7/2.4 GB 11.2 MB/s eta 0:02:36\n",
      "     ----------- ---------------------------- 0.7/2.4 GB 11.2 MB/s eta 0:02:36\n",
      "     ----------- ---------------------------- 0.7/2.4 GB 11.2 MB/s eta 0:02:35\n",
      "     ----------- ---------------------------- 0.7/2.4 GB 11.2 MB/s eta 0:02:35\n",
      "     ----------- ---------------------------- 0.7/2.4 GB 11.2 MB/s eta 0:02:35\n",
      "     ----------- ---------------------------- 0.7/2.4 GB 11.2 MB/s eta 0:02:35\n",
      "     ----------- ---------------------------- 0.7/2.4 GB 11.2 MB/s eta 0:02:35\n",
      "     ----------- ---------------------------- 0.7/2.4 GB 11.2 MB/s eta 0:02:35\n",
      "     ----------- ---------------------------- 0.7/2.4 GB 11.2 MB/s eta 0:02:35\n",
      "     ----------- ---------------------------- 0.7/2.4 GB 11.2 MB/s eta 0:02:35\n",
      "     ----------- ---------------------------- 0.7/2.4 GB 11.2 MB/s eta 0:02:34\n",
      "     ----------- ---------------------------- 0.7/2.4 GB 11.2 MB/s eta 0:02:34\n",
      "     ----------- ---------------------------- 0.7/2.4 GB 11.3 MB/s eta 0:02:32\n",
      "     ----------- ---------------------------- 0.7/2.4 GB 11.3 MB/s eta 0:02:32\n",
      "     ----------- ---------------------------- 0.7/2.4 GB 11.3 MB/s eta 0:02:32\n",
      "     ------------ --------------------------- 0.7/2.4 GB 11.3 MB/s eta 0:02:32\n",
      "     ------------ --------------------------- 0.7/2.4 GB 11.3 MB/s eta 0:02:31\n",
      "     ------------ --------------------------- 0.7/2.4 GB 11.3 MB/s eta 0:02:31\n",
      "     ------------ --------------------------- 0.7/2.4 GB 11.3 MB/s eta 0:02:31\n",
      "     ------------ --------------------------- 0.7/2.4 GB 11.3 MB/s eta 0:02:31\n",
      "     ------------ --------------------------- 0.7/2.4 GB 11.3 MB/s eta 0:02:30\n",
      "     ------------ --------------------------- 0.8/2.4 GB 11.3 MB/s eta 0:02:30\n",
      "     ------------ --------------------------- 0.8/2.4 GB 11.3 MB/s eta 0:02:30\n",
      "     ------------ --------------------------- 0.8/2.4 GB 11.3 MB/s eta 0:02:30\n",
      "     ------------ --------------------------- 0.8/2.4 GB 11.3 MB/s eta 0:02:30\n",
      "     ------------ --------------------------- 0.8/2.4 GB 11.3 MB/s eta 0:02:29\n",
      "     ------------ --------------------------- 0.8/2.4 GB 11.3 MB/s eta 0:02:29\n",
      "     ------------ --------------------------- 0.8/2.4 GB 11.3 MB/s eta 0:02:29\n",
      "     ------------ --------------------------- 0.8/2.4 GB 11.3 MB/s eta 0:02:29\n",
      "     ------------ --------------------------- 0.8/2.4 GB 11.3 MB/s eta 0:02:28\n",
      "     ------------ --------------------------- 0.8/2.4 GB 11.4 MB/s eta 0:02:28\n",
      "     ------------ --------------------------- 0.8/2.4 GB 11.4 MB/s eta 0:02:27\n",
      "     ------------ --------------------------- 0.8/2.4 GB 11.4 MB/s eta 0:02:27\n",
      "     ------------ --------------------------- 0.8/2.4 GB 11.4 MB/s eta 0:02:27\n",
      "     ------------ --------------------------- 0.8/2.4 GB 11.4 MB/s eta 0:02:27\n",
      "     ------------ --------------------------- 0.8/2.4 GB 11.4 MB/s eta 0:02:27\n",
      "     ------------ --------------------------- 0.8/2.4 GB 11.4 MB/s eta 0:02:26\n",
      "     ------------ --------------------------- 0.8/2.4 GB 11.4 MB/s eta 0:02:26\n",
      "     ------------ --------------------------- 0.8/2.4 GB 11.4 MB/s eta 0:02:26\n",
      "     ------------- -------------------------- 0.8/2.4 GB 11.4 MB/s eta 0:02:26\n",
      "     ------------- -------------------------- 0.8/2.4 GB 11.4 MB/s eta 0:02:26\n",
      "     ------------- -------------------------- 0.8/2.4 GB 11.4 MB/s eta 0:02:25\n",
      "     ------------- -------------------------- 0.8/2.4 GB 11.4 MB/s eta 0:02:25\n",
      "     ------------- -------------------------- 0.8/2.4 GB 11.4 MB/s eta 0:02:25\n",
      "     ------------- -------------------------- 0.8/2.4 GB 11.4 MB/s eta 0:02:25\n",
      "     ------------- -------------------------- 0.8/2.4 GB 11.4 MB/s eta 0:02:24\n",
      "     ------------- -------------------------- 0.8/2.4 GB 11.4 MB/s eta 0:02:24\n",
      "     ------------- -------------------------- 0.8/2.4 GB 11.4 MB/s eta 0:02:24\n",
      "     ------------- -------------------------- 0.8/2.4 GB 11.4 MB/s eta 0:02:24\n",
      "     ------------- -------------------------- 0.8/2.4 GB 11.2 MB/s eta 0:02:26\n",
      "     ------------- -------------------------- 0.8/2.4 GB 11.2 MB/s eta 0:02:25\n",
      "     ------------- -------------------------- 0.8/2.4 GB 11.2 MB/s eta 0:02:25\n",
      "     ------------- -------------------------- 0.8/2.4 GB 11.2 MB/s eta 0:02:25\n",
      "     ------------- -------------------------- 0.8/2.4 GB 11.2 MB/s eta 0:02:25\n",
      "     ------------- -------------------------- 0.8/2.4 GB 11.2 MB/s eta 0:02:24\n",
      "     ------------- -------------------------- 0.8/2.4 GB 11.2 MB/s eta 0:02:24\n",
      "     ------------- -------------------------- 0.8/2.4 GB 11.2 MB/s eta 0:02:24\n",
      "     ------------- -------------------------- 0.8/2.4 GB 11.2 MB/s eta 0:02:24\n",
      "     ------------- -------------------------- 0.8/2.4 GB 11.2 MB/s eta 0:02:24\n",
      "     ------------- -------------------------- 0.8/2.4 GB 11.2 MB/s eta 0:02:23\n",
      "     ------------- -------------------------- 0.8/2.4 GB 11.4 MB/s eta 0:02:21\n",
      "     ------------- -------------------------- 0.8/2.4 GB 11.4 MB/s eta 0:02:22\n",
      "     ------------- -------------------------- 0.8/2.4 GB 11.3 MB/s eta 0:02:22\n",
      "     ------------- -------------------------- 0.9/2.4 GB 11.3 MB/s eta 0:02:22\n",
      "     ------------- -------------------------- 0.9/2.4 GB 11.3 MB/s eta 0:02:21\n",
      "     ------------- -------------------------- 0.9/2.4 GB 11.3 MB/s eta 0:02:21\n",
      "     -------------- ------------------------- 0.9/2.4 GB 11.3 MB/s eta 0:02:21\n",
      "     -------------- ------------------------- 0.9/2.4 GB 11.3 MB/s eta 0:02:21\n",
      "     -------------- ------------------------- 0.9/2.4 GB 11.3 MB/s eta 0:02:20\n",
      "     -------------- ------------------------- 0.9/2.4 GB 11.3 MB/s eta 0:02:20\n",
      "     -------------- ------------------------- 0.9/2.4 GB 11.3 MB/s eta 0:02:20\n",
      "     -------------- ------------------------- 0.9/2.4 GB 11.3 MB/s eta 0:02:20\n",
      "     -------------- ------------------------- 0.9/2.4 GB 11.3 MB/s eta 0:02:19\n",
      "     -------------- ------------------------- 0.9/2.4 GB 11.3 MB/s eta 0:02:19\n",
      "     -------------- ------------------------- 0.9/2.4 GB 11.3 MB/s eta 0:02:19\n",
      "     -------------- ------------------------- 0.9/2.4 GB 11.3 MB/s eta 0:02:19\n",
      "     -------------- ------------------------- 0.9/2.4 GB 11.3 MB/s eta 0:02:18\n",
      "     -------------- ------------------------- 0.9/2.4 GB 11.4 MB/s eta 0:02:18\n",
      "     -------------- ------------------------- 0.9/2.4 GB 11.4 MB/s eta 0:02:18\n",
      "     -------------- ------------------------- 0.9/2.4 GB 11.4 MB/s eta 0:02:18\n",
      "     -------------- ------------------------- 0.9/2.4 GB 11.4 MB/s eta 0:02:17\n",
      "     -------------- ------------------------- 0.9/2.4 GB 11.4 MB/s eta 0:02:17\n",
      "     -------------- ------------------------- 0.9/2.4 GB 11.4 MB/s eta 0:02:17\n",
      "     -------------- ------------------------- 0.9/2.4 GB 11.4 MB/s eta 0:02:17\n",
      "     -------------- ------------------------- 0.9/2.4 GB 11.4 MB/s eta 0:02:16\n",
      "     -------------- ------------------------- 0.9/2.4 GB 11.4 MB/s eta 0:02:16\n",
      "     -------------- ------------------------- 0.9/2.4 GB 11.4 MB/s eta 0:02:16\n",
      "     -------------- ------------------------- 0.9/2.4 GB 11.4 MB/s eta 0:02:16\n",
      "     -------------- ------------------------- 0.9/2.4 GB 11.4 MB/s eta 0:02:16\n",
      "     -------------- ------------------------- 0.9/2.4 GB 11.4 MB/s eta 0:02:15\n",
      "     -------------- ------------------------- 0.9/2.4 GB 11.4 MB/s eta 0:02:15\n",
      "     --------------- ------------------------ 0.9/2.4 GB 11.4 MB/s eta 0:02:15\n",
      "     --------------- ------------------------ 0.9/2.4 GB 11.4 MB/s eta 0:02:15\n",
      "     --------------- ------------------------ 0.9/2.4 GB 11.4 MB/s eta 0:02:15\n",
      "     --------------- ------------------------ 0.9/2.4 GB 11.4 MB/s eta 0:02:14\n",
      "     --------------- ------------------------ 0.9/2.4 GB 11.4 MB/s eta 0:02:14\n",
      "     --------------- ------------------------ 0.9/2.4 GB 11.4 MB/s eta 0:02:14\n",
      "     --------------- ------------------------ 0.9/2.4 GB 11.4 MB/s eta 0:02:14\n",
      "     --------------- ------------------------ 0.9/2.4 GB 11.2 MB/s eta 0:02:15\n",
      "     --------------- ------------------------ 0.9/2.4 GB 11.2 MB/s eta 0:02:15\n",
      "     --------------- ------------------------ 0.9/2.4 GB 11.2 MB/s eta 0:02:15\n",
      "     --------------- ------------------------ 0.9/2.4 GB 11.2 MB/s eta 0:02:15\n",
      "     --------------- ------------------------ 0.9/2.4 GB 11.2 MB/s eta 0:02:14\n",
      "     --------------- ------------------------ 0.9/2.4 GB 11.2 MB/s eta 0:02:14\n",
      "     --------------- ------------------------ 0.9/2.4 GB 11.2 MB/s eta 0:02:14\n",
      "     --------------- ------------------------ 1.0/2.4 GB 11.2 MB/s eta 0:02:14\n",
      "     --------------- ------------------------ 1.0/2.4 GB 11.2 MB/s eta 0:02:14\n",
      "     --------------- ------------------------ 1.0/2.4 GB 11.2 MB/s eta 0:02:13\n",
      "     --------------- ------------------------ 1.0/2.4 GB 11.2 MB/s eta 0:02:13\n",
      "     --------------- ------------------------ 1.0/2.4 GB 11.2 MB/s eta 0:02:13\n",
      "     --------------- ------------------------ 1.0/2.4 GB 11.2 MB/s eta 0:02:13\n",
      "     --------------- ------------------------ 1.0/2.4 GB 11.3 MB/s eta 0:02:12\n",
      "     --------------- ------------------------ 1.0/2.4 GB 11.3 MB/s eta 0:02:11\n",
      "     --------------- ------------------------ 1.0/2.4 GB 11.3 MB/s eta 0:02:11\n",
      "     --------------- ------------------------ 1.0/2.4 GB 11.3 MB/s eta 0:02:11\n",
      "     --------------- ------------------------ 1.0/2.4 GB 11.3 MB/s eta 0:02:11\n",
      "     --------------- ------------------------ 1.0/2.4 GB 11.4 MB/s eta 0:02:10\n",
      "     --------------- ------------------------ 1.0/2.4 GB 11.4 MB/s eta 0:02:10\n",
      "     ---------------- ----------------------- 1.0/2.4 GB 11.4 MB/s eta 0:02:10\n",
      "     ---------------- ----------------------- 1.0/2.4 GB 11.4 MB/s eta 0:02:09\n",
      "     ---------------- ----------------------- 1.0/2.4 GB 11.4 MB/s eta 0:02:09\n",
      "     ---------------- ----------------------- 1.0/2.4 GB 11.4 MB/s eta 0:02:09\n",
      "     ---------------- ----------------------- 1.0/2.4 GB 11.4 MB/s eta 0:02:09\n",
      "     ---------------- ----------------------- 1.0/2.4 GB 11.4 MB/s eta 0:02:09\n",
      "     ---------------- ----------------------- 1.0/2.4 GB 11.4 MB/s eta 0:02:08\n",
      "     ---------------- ----------------------- 1.0/2.4 GB 11.4 MB/s eta 0:02:08\n",
      "     ---------------- ----------------------- 1.0/2.4 GB 11.4 MB/s eta 0:02:08\n",
      "     ---------------- ----------------------- 1.0/2.4 GB 11.4 MB/s eta 0:02:08\n",
      "     ---------------- ----------------------- 1.0/2.4 GB 11.4 MB/s eta 0:02:08\n",
      "     ---------------- ----------------------- 1.0/2.4 GB 11.4 MB/s eta 0:02:08\n",
      "     ---------------- ----------------------- 1.0/2.4 GB 11.3 MB/s eta 0:02:08\n",
      "     ---------------- ----------------------- 1.0/2.4 GB 11.3 MB/s eta 0:02:07\n",
      "     ---------------- ----------------------- 1.0/2.4 GB 11.3 MB/s eta 0:02:07\n",
      "     ---------------- ----------------------- 1.0/2.4 GB 11.3 MB/s eta 0:02:07\n",
      "     ---------------- ----------------------- 1.0/2.4 GB 11.3 MB/s eta 0:02:07\n",
      "     ---------------- ----------------------- 1.0/2.4 GB 11.3 MB/s eta 0:02:07\n",
      "     ---------------- ----------------------- 1.0/2.4 GB 11.3 MB/s eta 0:02:06\n",
      "     ---------------- ----------------------- 1.0/2.4 GB 11.3 MB/s eta 0:02:06\n",
      "     ---------------- ----------------------- 1.0/2.4 GB 11.3 MB/s eta 0:02:06\n",
      "     ---------------- ----------------------- 1.0/2.4 GB 11.3 MB/s eta 0:02:06\n",
      "     ---------------- ----------------------- 1.0/2.4 GB 11.3 MB/s eta 0:02:05\n",
      "     ---------------- ----------------------- 1.0/2.4 GB 11.3 MB/s eta 0:02:05\n",
      "     ---------------- ----------------------- 1.0/2.4 GB 11.3 MB/s eta 0:02:05\n",
      "     ----------------- ---------------------- 1.0/2.4 GB 11.3 MB/s eta 0:02:05\n",
      "     ----------------- ---------------------- 1.0/2.4 GB 11.3 MB/s eta 0:02:05\n",
      "     ----------------- ---------------------- 1.0/2.4 GB 11.3 MB/s eta 0:02:04\n",
      "     ----------------- ---------------------- 1.0/2.4 GB 11.3 MB/s eta 0:02:04\n",
      "     ----------------- ---------------------- 1.1/2.4 GB 11.3 MB/s eta 0:02:04\n",
      "     ----------------- ---------------------- 1.1/2.4 GB 11.2 MB/s eta 0:02:05\n",
      "     ----------------- ---------------------- 1.1/2.4 GB 11.2 MB/s eta 0:02:05\n",
      "     ----------------- ---------------------- 1.1/2.4 GB 11.2 MB/s eta 0:02:05\n",
      "     ----------------- ---------------------- 1.1/2.4 GB 11.2 MB/s eta 0:02:05\n",
      "     ----------------- ---------------------- 1.1/2.4 GB 11.2 MB/s eta 0:02:04\n",
      "     ----------------- ---------------------- 1.1/2.4 GB 11.2 MB/s eta 0:02:04\n",
      "     ----------------- ---------------------- 1.1/2.4 GB 11.2 MB/s eta 0:02:04\n",
      "     ----------------- ---------------------- 1.1/2.4 GB 11.2 MB/s eta 0:02:04\n",
      "     ----------------- ---------------------- 1.1/2.4 GB 11.2 MB/s eta 0:02:04\n",
      "     ----------------- ---------------------- 1.1/2.4 GB 11.2 MB/s eta 0:02:03\n",
      "     ----------------- ---------------------- 1.1/2.4 GB 11.2 MB/s eta 0:02:03\n",
      "     ----------------- ---------------------- 1.1/2.4 GB 11.2 MB/s eta 0:02:03\n",
      "     ----------------- ---------------------- 1.1/2.4 GB 11.3 MB/s eta 0:02:01\n",
      "     ----------------- ---------------------- 1.1/2.4 GB 11.3 MB/s eta 0:02:01\n",
      "     ----------------- ---------------------- 1.1/2.4 GB 11.3 MB/s eta 0:02:01\n",
      "     ----------------- ---------------------- 1.1/2.4 GB 11.3 MB/s eta 0:02:01\n",
      "     ----------------- ---------------------- 1.1/2.4 GB 11.3 MB/s eta 0:02:01\n",
      "     ----------------- ---------------------- 1.1/2.4 GB 11.3 MB/s eta 0:02:00\n",
      "     ----------------- ---------------------- 1.1/2.4 GB 11.3 MB/s eta 0:02:00\n",
      "     ----------------- ---------------------- 1.1/2.4 GB 11.3 MB/s eta 0:02:00\n",
      "     ----------------- ---------------------- 1.1/2.4 GB 11.3 MB/s eta 0:02:00\n",
      "     ----------------- ---------------------- 1.1/2.4 GB 11.3 MB/s eta 0:02:00\n",
      "     ------------------ --------------------- 1.1/2.4 GB 11.3 MB/s eta 0:02:00\n",
      "     ------------------ --------------------- 1.1/2.4 GB 11.3 MB/s eta 0:02:00\n",
      "     ------------------ --------------------- 1.1/2.4 GB 11.3 MB/s eta 0:01:59\n",
      "     ------------------ --------------------- 1.1/2.4 GB 11.3 MB/s eta 0:01:59\n",
      "     ------------------ --------------------- 1.1/2.4 GB 11.3 MB/s eta 0:01:58\n",
      "     ------------------ --------------------- 1.1/2.4 GB 11.3 MB/s eta 0:01:58\n",
      "     ------------------ --------------------- 1.1/2.4 GB 11.3 MB/s eta 0:01:58\n",
      "     ------------------ --------------------- 1.1/2.4 GB 11.3 MB/s eta 0:01:58\n",
      "     ------------------ --------------------- 1.1/2.4 GB 11.3 MB/s eta 0:01:58\n",
      "     ------------------ --------------------- 1.1/2.4 GB 11.3 MB/s eta 0:01:57\n",
      "     ------------------ --------------------- 1.1/2.4 GB 11.3 MB/s eta 0:01:57\n",
      "     ------------------ --------------------- 1.1/2.4 GB 11.3 MB/s eta 0:01:57\n",
      "     ------------------ --------------------- 1.1/2.4 GB 11.3 MB/s eta 0:01:57\n",
      "     ------------------ --------------------- 1.1/2.4 GB 11.3 MB/s eta 0:01:56\n",
      "     ------------------ --------------------- 1.1/2.4 GB 11.3 MB/s eta 0:01:56\n",
      "     ------------------ --------------------- 1.1/2.4 GB 11.3 MB/s eta 0:01:56\n",
      "     ------------------ --------------------- 1.1/2.4 GB 11.3 MB/s eta 0:01:56\n",
      "     ------------------ --------------------- 1.1/2.4 GB 11.3 MB/s eta 0:01:56\n",
      "     ------------------ --------------------- 1.1/2.4 GB 11.3 MB/s eta 0:01:55\n",
      "     ------------------ --------------------- 1.2/2.4 GB 11.3 MB/s eta 0:01:55\n",
      "     ------------------ --------------------- 1.2/2.4 GB 11.3 MB/s eta 0:01:55\n",
      "     ------------------ --------------------- 1.2/2.4 GB 11.3 MB/s eta 0:01:55\n",
      "     ------------------ --------------------- 1.2/2.4 GB 11.3 MB/s eta 0:01:55\n",
      "     ------------------ --------------------- 1.2/2.4 GB 11.3 MB/s eta 0:01:54\n",
      "     ------------------ --------------------- 1.2/2.4 GB 11.3 MB/s eta 0:01:54\n",
      "     ------------------- -------------------- 1.2/2.4 GB 11.3 MB/s eta 0:01:54\n",
      "     ------------------- -------------------- 1.2/2.4 GB 11.3 MB/s eta 0:01:54\n",
      "     ------------------- -------------------- 1.2/2.4 GB 11.2 MB/s eta 0:01:55\n",
      "     ------------------- -------------------- 1.2/2.4 GB 11.2 MB/s eta 0:01:55\n",
      "     ------------------- -------------------- 1.2/2.4 GB 11.2 MB/s eta 0:01:54\n",
      "     ------------------- -------------------- 1.2/2.4 GB 11.2 MB/s eta 0:01:54\n",
      "     ------------------- -------------------- 1.2/2.4 GB 11.2 MB/s eta 0:01:54\n",
      "     ------------------- -------------------- 1.2/2.4 GB 11.2 MB/s eta 0:01:54\n",
      "     ------------------- -------------------- 1.2/2.4 GB 11.2 MB/s eta 0:01:53\n",
      "     ------------------- -------------------- 1.2/2.4 GB 11.2 MB/s eta 0:01:53\n",
      "     ------------------- -------------------- 1.2/2.4 GB 11.2 MB/s eta 0:01:53\n",
      "     ------------------- -------------------- 1.2/2.4 GB 11.2 MB/s eta 0:01:53\n",
      "     ------------------- -------------------- 1.2/2.4 GB 11.2 MB/s eta 0:01:53\n",
      "     ------------------- -------------------- 1.2/2.4 GB 11.3 MB/s eta 0:01:51\n",
      "     ------------------- -------------------- 1.2/2.4 GB 11.3 MB/s eta 0:01:51\n",
      "     ------------------- -------------------- 1.2/2.4 GB 11.3 MB/s eta 0:01:51\n",
      "     ------------------- -------------------- 1.2/2.4 GB 11.3 MB/s eta 0:01:50\n",
      "     ------------------- -------------------- 1.2/2.4 GB 11.3 MB/s eta 0:01:50\n",
      "     ------------------- -------------------- 1.2/2.4 GB 11.3 MB/s eta 0:01:50\n",
      "     ------------------- -------------------- 1.2/2.4 GB 11.3 MB/s eta 0:01:50\n",
      "     ------------------- -------------------- 1.2/2.4 GB 11.3 MB/s eta 0:01:49\n",
      "     ------------------- -------------------- 1.2/2.4 GB 11.3 MB/s eta 0:01:49\n",
      "     ------------------- -------------------- 1.2/2.4 GB 11.3 MB/s eta 0:01:49\n",
      "     ------------------- -------------------- 1.2/2.4 GB 11.3 MB/s eta 0:01:49\n",
      "     ------------------- -------------------- 1.2/2.4 GB 11.4 MB/s eta 0:01:48\n",
      "     -------------------- ------------------- 1.2/2.4 GB 11.4 MB/s eta 0:01:48\n",
      "     -------------------- ------------------- 1.2/2.4 GB 11.4 MB/s eta 0:01:48\n",
      "     -------------------- ------------------- 1.2/2.4 GB 11.4 MB/s eta 0:01:48\n",
      "     -------------------- ------------------- 1.2/2.4 GB 11.4 MB/s eta 0:01:47\n",
      "     -------------------- ------------------- 1.2/2.4 GB 11.4 MB/s eta 0:01:48\n",
      "     -------------------- ------------------- 1.2/2.4 GB 11.3 MB/s eta 0:01:47\n",
      "     -------------------- ------------------- 1.2/2.4 GB 11.3 MB/s eta 0:01:47\n",
      "     -------------------- ------------------- 1.2/2.4 GB 11.3 MB/s eta 0:01:47\n",
      "     -------------------- ------------------- 1.2/2.4 GB 11.3 MB/s eta 0:01:47\n",
      "     -------------------- ------------------- 1.2/2.4 GB 11.3 MB/s eta 0:01:47\n",
      "     -------------------- ------------------- 1.2/2.4 GB 11.3 MB/s eta 0:01:46\n",
      "     -------------------- ------------------- 1.3/2.4 GB 11.3 MB/s eta 0:01:46\n",
      "     -------------------- ------------------- 1.3/2.4 GB 11.3 MB/s eta 0:01:46\n",
      "     -------------------- ------------------- 1.3/2.4 GB 11.3 MB/s eta 0:01:46\n",
      "     -------------------- ------------------- 1.3/2.4 GB 11.3 MB/s eta 0:01:45\n",
      "     -------------------- ------------------- 1.3/2.4 GB 11.3 MB/s eta 0:01:45\n",
      "     -------------------- ------------------- 1.3/2.4 GB 11.3 MB/s eta 0:01:45\n",
      "     -------------------- ------------------- 1.3/2.4 GB 11.3 MB/s eta 0:01:45\n",
      "     -------------------- ------------------- 1.3/2.4 GB 11.4 MB/s eta 0:01:44\n",
      "     -------------------- ------------------- 1.3/2.4 GB 11.4 MB/s eta 0:01:44\n",
      "     -------------------- ------------------- 1.3/2.4 GB 11.4 MB/s eta 0:01:44\n",
      "     -------------------- ------------------- 1.3/2.4 GB 11.4 MB/s eta 0:01:44\n",
      "     -------------------- ------------------- 1.3/2.4 GB 11.4 MB/s eta 0:01:43\n",
      "     -------------------- ------------------- 1.3/2.4 GB 11.4 MB/s eta 0:01:43\n",
      "     -------------------- ------------------- 1.3/2.4 GB 11.4 MB/s eta 0:01:43\n",
      "     -------------------- ------------------- 1.3/2.4 GB 11.4 MB/s eta 0:01:43\n",
      "     -------------------- ------------------- 1.3/2.4 GB 11.3 MB/s eta 0:01:44\n",
      "     --------------------- ------------------ 1.3/2.4 GB 11.3 MB/s eta 0:01:44\n",
      "     --------------------- ------------------ 1.3/2.4 GB 11.3 MB/s eta 0:01:43\n",
      "     --------------------- ------------------ 1.3/2.4 GB 11.3 MB/s eta 0:01:43\n",
      "     --------------------- ------------------ 1.3/2.4 GB 11.3 MB/s eta 0:01:43\n",
      "     --------------------- ------------------ 1.3/2.4 GB 11.3 MB/s eta 0:01:43\n",
      "     --------------------- ------------------ 1.3/2.4 GB 11.3 MB/s eta 0:01:43\n",
      "     --------------------- ------------------ 1.3/2.4 GB 11.3 MB/s eta 0:01:42\n",
      "     --------------------- ------------------ 1.3/2.4 GB 11.3 MB/s eta 0:01:42\n",
      "     --------------------- ------------------ 1.3/2.4 GB 11.3 MB/s eta 0:01:42\n",
      "     --------------------- ------------------ 1.3/2.4 GB 11.3 MB/s eta 0:01:42\n",
      "     --------------------- ------------------ 1.3/2.4 GB 11.4 MB/s eta 0:01:40\n",
      "     --------------------- ------------------ 1.3/2.4 GB 11.4 MB/s eta 0:01:40\n",
      "     --------------------- ------------------ 1.3/2.4 GB 11.4 MB/s eta 0:01:40\n",
      "     --------------------- ------------------ 1.3/2.4 GB 11.4 MB/s eta 0:01:40\n",
      "     --------------------- ------------------ 1.3/2.4 GB 11.4 MB/s eta 0:01:39\n",
      "     --------------------- ------------------ 1.3/2.4 GB 11.4 MB/s eta 0:01:39\n",
      "     --------------------- ------------------ 1.3/2.4 GB 11.4 MB/s eta 0:01:39\n",
      "     --------------------- ------------------ 1.3/2.4 GB 11.4 MB/s eta 0:01:39\n",
      "     --------------------- ------------------ 1.3/2.4 GB 11.4 MB/s eta 0:01:39\n",
      "     --------------------- ------------------ 1.3/2.4 GB 11.4 MB/s eta 0:01:38\n",
      "     --------------------- ------------------ 1.3/2.4 GB 11.4 MB/s eta 0:01:38\n",
      "     --------------------- ------------------ 1.3/2.4 GB 11.4 MB/s eta 0:01:38\n",
      "     --------------------- ------------------ 1.3/2.4 GB 11.4 MB/s eta 0:01:38\n",
      "     --------------------- ------------------ 1.3/2.4 GB 11.4 MB/s eta 0:01:38\n",
      "     --------------------- ------------------ 1.3/2.4 GB 11.4 MB/s eta 0:01:37\n",
      "     ---------------------- ----------------- 1.3/2.4 GB 11.3 MB/s eta 0:01:38\n",
      "     ---------------------- ----------------- 1.4/2.4 GB 11.3 MB/s eta 0:01:37\n",
      "     ---------------------- ----------------- 1.4/2.4 GB 11.3 MB/s eta 0:01:37\n",
      "     ---------------------- ----------------- 1.4/2.4 GB 11.3 MB/s eta 0:01:37\n",
      "     ---------------------- ----------------- 1.4/2.4 GB 11.4 MB/s eta 0:01:37\n",
      "     ---------------------- ----------------- 1.4/2.4 GB 11.4 MB/s eta 0:01:36\n",
      "     ---------------------- ----------------- 1.4/2.4 GB 11.4 MB/s eta 0:01:36\n",
      "     ---------------------- ----------------- 1.4/2.4 GB 11.4 MB/s eta 0:01:35\n",
      "     ---------------------- ----------------- 1.4/2.4 GB 11.4 MB/s eta 0:01:35\n",
      "     ---------------------- ----------------- 1.4/2.4 GB 11.4 MB/s eta 0:01:35\n",
      "     ---------------------- ----------------- 1.4/2.4 GB 11.4 MB/s eta 0:01:35\n",
      "     ---------------------- ----------------- 1.4/2.4 GB 11.4 MB/s eta 0:01:35\n",
      "     ---------------------- ----------------- 1.4/2.4 GB 11.4 MB/s eta 0:01:35\n",
      "     ---------------------- ----------------- 1.4/2.4 GB 11.4 MB/s eta 0:01:34\n",
      "     ---------------------- ----------------- 1.4/2.4 GB 11.4 MB/s eta 0:01:34\n",
      "     ---------------------- ----------------- 1.4/2.4 GB 11.4 MB/s eta 0:01:34\n",
      "     ---------------------- ----------------- 1.4/2.4 GB 11.4 MB/s eta 0:01:34\n",
      "     ---------------------- ----------------- 1.4/2.4 GB 11.4 MB/s eta 0:01:33\n",
      "     ---------------------- ----------------- 1.4/2.4 GB 11.4 MB/s eta 0:01:33\n",
      "     ---------------------- ----------------- 1.4/2.4 GB 11.4 MB/s eta 0:01:33\n",
      "     ---------------------- ----------------- 1.4/2.4 GB 11.4 MB/s eta 0:01:33\n",
      "     ---------------------- ----------------- 1.4/2.4 GB 11.4 MB/s eta 0:01:33\n",
      "     ---------------------- ----------------- 1.4/2.4 GB 11.4 MB/s eta 0:01:33\n",
      "     ---------------------- ----------------- 1.4/2.4 GB 11.3 MB/s eta 0:01:33\n",
      "     ---------------------- ----------------- 1.4/2.4 GB 11.3 MB/s eta 0:01:33\n",
      "     ---------------------- ----------------- 1.4/2.4 GB 11.3 MB/s eta 0:01:33\n",
      "     ----------------------- ---------------- 1.4/2.4 GB 11.3 MB/s eta 0:01:33\n",
      "     ----------------------- ---------------- 1.4/2.4 GB 11.3 MB/s eta 0:01:33\n",
      "     ----------------------- ---------------- 1.4/2.4 GB 11.3 MB/s eta 0:01:32\n",
      "     ----------------------- ---------------- 1.4/2.4 GB 11.3 MB/s eta 0:01:32\n",
      "     ----------------------- ---------------- 1.4/2.4 GB 11.3 MB/s eta 0:01:32\n",
      "     ----------------------- ---------------- 1.4/2.4 GB 11.3 MB/s eta 0:01:32\n",
      "     ----------------------- ---------------- 1.4/2.4 GB 11.3 MB/s eta 0:01:32\n",
      "     ----------------------- ---------------- 1.4/2.4 GB 11.3 MB/s eta 0:01:31\n",
      "     ----------------------- ---------------- 1.4/2.4 GB 11.4 MB/s eta 0:01:30\n",
      "     ----------------------- ---------------- 1.4/2.4 GB 11.4 MB/s eta 0:01:30\n",
      "     ----------------------- ---------------- 1.4/2.4 GB 11.4 MB/s eta 0:01:30\n",
      "     ----------------------- ---------------- 1.4/2.4 GB 11.4 MB/s eta 0:01:30\n",
      "     ----------------------- ---------------- 1.4/2.4 GB 11.3 MB/s eta 0:01:30\n",
      "     ----------------------- ---------------- 1.4/2.4 GB 11.3 MB/s eta 0:01:30\n",
      "     ----------------------- ---------------- 1.4/2.4 GB 11.3 MB/s eta 0:01:29\n",
      "     ----------------------- ---------------- 1.4/2.4 GB 11.3 MB/s eta 0:01:29\n",
      "     ----------------------- ---------------- 1.4/2.4 GB 11.3 MB/s eta 0:01:29\n",
      "     ----------------------- ---------------- 1.5/2.4 GB 11.3 MB/s eta 0:01:29\n",
      "     ----------------------- ---------------- 1.5/2.4 GB 11.3 MB/s eta 0:01:28\n",
      "     ----------------------- ---------------- 1.5/2.4 GB 11.3 MB/s eta 0:01:28\n",
      "     ----------------------- ---------------- 1.5/2.4 GB 11.3 MB/s eta 0:01:28\n",
      "     ----------------------- ---------------- 1.5/2.4 GB 11.3 MB/s eta 0:01:28\n",
      "     ----------------------- ---------------- 1.5/2.4 GB 11.3 MB/s eta 0:01:28\n",
      "     ----------------------- ---------------- 1.5/2.4 GB 11.3 MB/s eta 0:01:27\n",
      "     ----------------------- ---------------- 1.5/2.4 GB 11.3 MB/s eta 0:01:27\n",
      "     ------------------------ --------------- 1.5/2.4 GB 11.3 MB/s eta 0:01:27\n",
      "     ------------------------ --------------- 1.5/2.4 GB 11.3 MB/s eta 0:01:27\n",
      "     ------------------------ --------------- 1.5/2.4 GB 11.3 MB/s eta 0:01:26\n",
      "     ------------------------ --------------- 1.5/2.4 GB 11.3 MB/s eta 0:01:26\n",
      "     ------------------------ --------------- 1.5/2.4 GB 11.3 MB/s eta 0:01:26\n",
      "     ------------------------ --------------- 1.5/2.4 GB 11.3 MB/s eta 0:01:26\n",
      "     ------------------------ --------------- 1.5/2.4 GB 11.3 MB/s eta 0:01:26\n",
      "     ------------------------ --------------- 1.5/2.4 GB 11.3 MB/s eta 0:01:25\n",
      "     ------------------------ --------------- 1.5/2.4 GB 11.3 MB/s eta 0:01:25\n",
      "     ------------------------ --------------- 1.5/2.4 GB 11.3 MB/s eta 0:01:25\n",
      "     ------------------------ --------------- 1.5/2.4 GB 11.3 MB/s eta 0:01:25\n",
      "     ------------------------ --------------- 1.5/2.4 GB 11.4 MB/s eta 0:01:24\n",
      "     ------------------------ --------------- 1.5/2.4 GB 11.4 MB/s eta 0:01:24\n",
      "     ------------------------ --------------- 1.5/2.4 GB 11.4 MB/s eta 0:01:24\n",
      "     ------------------------ --------------- 1.5/2.4 GB 11.4 MB/s eta 0:01:24\n",
      "     ------------------------ --------------- 1.5/2.4 GB 11.4 MB/s eta 0:01:23\n",
      "     ------------------------ --------------- 1.5/2.4 GB 11.4 MB/s eta 0:01:23\n",
      "     ------------------------ --------------- 1.5/2.4 GB 11.4 MB/s eta 0:01:23\n",
      "     ------------------------ --------------- 1.5/2.4 GB 11.4 MB/s eta 0:01:23\n",
      "     ------------------------ --------------- 1.5/2.4 GB 11.4 MB/s eta 0:01:22\n",
      "     ------------------------ --------------- 1.5/2.4 GB 11.4 MB/s eta 0:01:22\n",
      "     ------------------------ --------------- 1.5/2.4 GB 11.2 MB/s eta 0:01:23\n",
      "     ------------------------ --------------- 1.5/2.4 GB 11.2 MB/s eta 0:01:23\n",
      "     ------------------------ --------------- 1.5/2.4 GB 11.2 MB/s eta 0:01:23\n",
      "     ------------------------ --------------- 1.5/2.4 GB 11.2 MB/s eta 0:01:23\n",
      "     ------------------------ --------------- 1.5/2.4 GB 11.2 MB/s eta 0:01:22\n",
      "     ------------------------- -------------- 1.5/2.4 GB 11.2 MB/s eta 0:01:22\n",
      "     ------------------------- -------------- 1.5/2.4 GB 11.2 MB/s eta 0:01:22\n",
      "     ------------------------- -------------- 1.5/2.4 GB 11.2 MB/s eta 0:01:22\n",
      "     ------------------------- -------------- 1.5/2.4 GB 11.2 MB/s eta 0:01:21\n",
      "     ------------------------- -------------- 1.5/2.4 GB 11.2 MB/s eta 0:01:21\n",
      "     ------------------------- -------------- 1.5/2.4 GB 11.2 MB/s eta 0:01:21\n",
      "     ------------------------- -------------- 1.5/2.4 GB 11.2 MB/s eta 0:01:21\n",
      "     ------------------------- -------------- 1.5/2.4 GB 11.4 MB/s eta 0:01:20\n",
      "     ------------------------- -------------- 1.6/2.4 GB 11.4 MB/s eta 0:01:19\n",
      "     ------------------------- -------------- 1.6/2.4 GB 11.4 MB/s eta 0:01:19\n",
      "     ------------------------- -------------- 1.6/2.4 GB 11.4 MB/s eta 0:01:19\n",
      "     ------------------------- -------------- 1.6/2.4 GB 11.4 MB/s eta 0:01:19\n",
      "     ------------------------- -------------- 1.6/2.4 GB 11.4 MB/s eta 0:01:19\n",
      "     ------------------------- -------------- 1.6/2.4 GB 11.4 MB/s eta 0:01:18\n",
      "     ------------------------- -------------- 1.6/2.4 GB 11.4 MB/s eta 0:01:18\n",
      "     ------------------------- -------------- 1.6/2.4 GB 11.4 MB/s eta 0:01:18\n",
      "     ------------------------- -------------- 1.6/2.4 GB 11.4 MB/s eta 0:01:18\n",
      "     ------------------------- -------------- 1.6/2.4 GB 11.4 MB/s eta 0:01:17\n",
      "     ------------------------- -------------- 1.6/2.4 GB 11.4 MB/s eta 0:01:17\n",
      "     ------------------------- -------------- 1.6/2.4 GB 11.4 MB/s eta 0:01:17\n",
      "     ------------------------- -------------- 1.6/2.4 GB 11.4 MB/s eta 0:01:17\n",
      "     ------------------------- -------------- 1.6/2.4 GB 11.4 MB/s eta 0:01:17\n",
      "     ------------------------- -------------- 1.6/2.4 GB 11.4 MB/s eta 0:01:17\n",
      "     ------------------------- -------------- 1.6/2.4 GB 11.4 MB/s eta 0:01:16\n",
      "     ------------------------- -------------- 1.6/2.4 GB 11.4 MB/s eta 0:01:16\n",
      "     ------------------------- -------------- 1.6/2.4 GB 11.4 MB/s eta 0:01:16\n",
      "     -------------------------- ------------- 1.6/2.4 GB 11.4 MB/s eta 0:01:16\n",
      "     -------------------------- ------------- 1.6/2.4 GB 11.4 MB/s eta 0:01:16\n",
      "     -------------------------- ------------- 1.6/2.4 GB 11.3 MB/s eta 0:01:16\n",
      "     -------------------------- ------------- 1.6/2.4 GB 11.3 MB/s eta 0:01:15\n",
      "     -------------------------- ------------- 1.6/2.4 GB 11.3 MB/s eta 0:01:15\n",
      "     -------------------------- ------------- 1.6/2.4 GB 11.3 MB/s eta 0:01:15\n",
      "     -------------------------- ------------- 1.6/2.4 GB 11.3 MB/s eta 0:01:15\n",
      "     -------------------------- ------------- 1.6/2.4 GB 11.4 MB/s eta 0:01:14\n",
      "     -------------------------- ------------- 1.6/2.4 GB 11.4 MB/s eta 0:01:14\n",
      "     -------------------------- ------------- 1.6/2.4 GB 11.4 MB/s eta 0:01:14\n",
      "     -------------------------- ------------- 1.6/2.4 GB 11.4 MB/s eta 0:01:14\n",
      "     -------------------------- ------------- 1.6/2.4 GB 11.4 MB/s eta 0:01:13\n",
      "     -------------------------- ------------- 1.6/2.4 GB 11.4 MB/s eta 0:01:13\n",
      "     -------------------------- ------------- 1.6/2.4 GB 11.4 MB/s eta 0:01:13\n",
      "     -------------------------- ------------- 1.6/2.4 GB 11.4 MB/s eta 0:01:13\n",
      "     -------------------------- ------------- 1.6/2.4 GB 11.4 MB/s eta 0:01:13\n",
      "     -------------------------- ------------- 1.6/2.4 GB 11.4 MB/s eta 0:01:12\n",
      "     -------------------------- ------------- 1.6/2.4 GB 11.4 MB/s eta 0:01:12\n",
      "     -------------------------- ------------- 1.6/2.4 GB 11.2 MB/s eta 0:01:13\n",
      "     -------------------------- ------------- 1.6/2.4 GB 11.2 MB/s eta 0:01:13\n",
      "     -------------------------- ------------- 1.6/2.4 GB 11.2 MB/s eta 0:01:13\n",
      "     -------------------------- ------------- 1.6/2.4 GB 11.2 MB/s eta 0:01:12\n",
      "     -------------------------- ------------- 1.6/2.4 GB 11.2 MB/s eta 0:01:12\n",
      "     -------------------------- ------------- 1.6/2.4 GB 11.2 MB/s eta 0:01:12\n",
      "     -------------------------- ------------- 1.6/2.4 GB 11.2 MB/s eta 0:01:12\n",
      "     -------------------------- ------------- 1.7/2.4 GB 11.2 MB/s eta 0:01:11\n",
      "     --------------------------- ------------ 1.7/2.4 GB 11.2 MB/s eta 0:01:11\n",
      "     --------------------------- ------------ 1.7/2.4 GB 11.2 MB/s eta 0:01:11\n",
      "     --------------------------- ------------ 1.7/2.4 GB 11.2 MB/s eta 0:01:11\n",
      "     --------------------------- ------------ 1.7/2.4 GB 11.2 MB/s eta 0:01:11\n",
      "     --------------------------- ------------ 1.7/2.4 GB 11.4 MB/s eta 0:01:10\n",
      "     --------------------------- ------------ 1.7/2.4 GB 11.4 MB/s eta 0:01:09\n",
      "     --------------------------- ------------ 1.7/2.4 GB 11.4 MB/s eta 0:01:09\n",
      "     --------------------------- ------------ 1.7/2.4 GB 11.4 MB/s eta 0:01:09\n",
      "     --------------------------- ------------ 1.7/2.4 GB 11.4 MB/s eta 0:01:09\n",
      "     --------------------------- ------------ 1.7/2.4 GB 11.4 MB/s eta 0:01:08\n",
      "     --------------------------- ------------ 1.7/2.4 GB 11.4 MB/s eta 0:01:08\n",
      "     --------------------------- ------------ 1.7/2.4 GB 11.4 MB/s eta 0:01:08\n",
      "     --------------------------- ------------ 1.7/2.4 GB 11.4 MB/s eta 0:01:08\n",
      "     --------------------------- ------------ 1.7/2.4 GB 11.4 MB/s eta 0:01:08\n",
      "     --------------------------- ------------ 1.7/2.4 GB 11.3 MB/s eta 0:01:08\n",
      "     --------------------------- ------------ 1.7/2.4 GB 11.3 MB/s eta 0:01:08\n",
      "     --------------------------- ------------ 1.7/2.4 GB 11.3 MB/s eta 0:01:07\n",
      "     --------------------------- ------------ 1.7/2.4 GB 11.3 MB/s eta 0:01:07\n",
      "     --------------------------- ------------ 1.7/2.4 GB 11.3 MB/s eta 0:01:07\n",
      "     --------------------------- ------------ 1.7/2.4 GB 11.4 MB/s eta 0:01:06\n",
      "     --------------------------- ------------ 1.7/2.4 GB 11.4 MB/s eta 0:01:06\n",
      "     --------------------------- ------------ 1.7/2.4 GB 11.4 MB/s eta 0:01:06\n",
      "     --------------------------- ------------ 1.7/2.4 GB 11.4 MB/s eta 0:01:06\n",
      "     --------------------------- ------------ 1.7/2.4 GB 11.4 MB/s eta 0:01:06\n",
      "     --------------------------- ------------ 1.7/2.4 GB 11.4 MB/s eta 0:01:05\n",
      "     --------------------------- ------------ 1.7/2.4 GB 11.4 MB/s eta 0:01:05\n",
      "     ---------------------------- ----------- 1.7/2.4 GB 11.4 MB/s eta 0:01:05\n",
      "     ---------------------------- ----------- 1.7/2.4 GB 11.4 MB/s eta 0:01:05\n",
      "     ---------------------------- ----------- 1.7/2.4 GB 11.4 MB/s eta 0:01:04\n",
      "     ---------------------------- ----------- 1.7/2.4 GB 11.4 MB/s eta 0:01:04\n",
      "     ---------------------------- ----------- 1.7/2.4 GB 11.4 MB/s eta 0:01:04\n",
      "     ---------------------------- ----------- 1.7/2.4 GB 11.4 MB/s eta 0:01:04\n",
      "     ---------------------------- ----------- 1.7/2.4 GB 11.4 MB/s eta 0:01:04\n",
      "     ---------------------------- ----------- 1.7/2.4 GB 11.4 MB/s eta 0:01:03\n",
      "     ---------------------------- ----------- 1.7/2.4 GB 11.4 MB/s eta 0:01:03\n",
      "     ---------------------------- ----------- 1.7/2.4 GB 11.4 MB/s eta 0:01:03\n",
      "     ---------------------------- ----------- 1.7/2.4 GB 11.4 MB/s eta 0:01:03\n",
      "     ---------------------------- ----------- 1.7/2.4 GB 11.4 MB/s eta 0:01:03\n",
      "     ---------------------------- ----------- 1.7/2.4 GB 11.4 MB/s eta 0:01:02\n",
      "     ---------------------------- ----------- 1.7/2.4 GB 11.4 MB/s eta 0:01:02\n",
      "     ---------------------------- ----------- 1.7/2.4 GB 11.4 MB/s eta 0:01:02\n",
      "     ---------------------------- ----------- 1.8/2.4 GB 11.2 MB/s eta 0:01:03\n",
      "     ---------------------------- ----------- 1.8/2.4 GB 11.2 MB/s eta 0:01:02\n",
      "     ---------------------------- ----------- 1.8/2.4 GB 11.2 MB/s eta 0:01:02\n",
      "     ---------------------------- ----------- 1.8/2.4 GB 11.2 MB/s eta 0:01:02\n",
      "     ---------------------------- ----------- 1.8/2.4 GB 11.2 MB/s eta 0:01:02\n",
      "     ---------------------------- ----------- 1.8/2.4 GB 11.2 MB/s eta 0:01:02\n",
      "     ---------------------------- ----------- 1.8/2.4 GB 11.2 MB/s eta 0:01:01\n",
      "     ---------------------------- ----------- 1.8/2.4 GB 11.2 MB/s eta 0:01:01\n",
      "     ---------------------------- ----------- 1.8/2.4 GB 11.2 MB/s eta 0:01:01\n",
      "     ---------------------------- ----------- 1.8/2.4 GB 11.2 MB/s eta 0:01:01\n",
      "     ---------------------------- ----------- 1.8/2.4 GB 11.3 MB/s eta 0:01:00\n",
      "     ----------------------------- ---------- 1.8/2.4 GB 11.2 MB/s eta 0:01:00\n",
      "     ----------------------------- ---------- 1.8/2.4 GB 11.4 MB/s eta 0:00:59\n",
      "     ----------------------------- ---------- 1.8/2.4 GB 11.4 MB/s eta 0:00:59\n",
      "     ----------------------------- ---------- 1.8/2.4 GB 11.4 MB/s eta 0:00:59\n",
      "     ----------------------------- ---------- 1.8/2.4 GB 11.4 MB/s eta 0:00:59\n",
      "     ----------------------------- ---------- 1.8/2.4 GB 11.4 MB/s eta 0:00:58\n",
      "     ----------------------------- ---------- 1.8/2.4 GB 11.4 MB/s eta 0:00:58\n",
      "     ----------------------------- ---------- 1.8/2.4 GB 11.4 MB/s eta 0:00:58\n",
      "     ----------------------------- ---------- 1.8/2.4 GB 11.4 MB/s eta 0:00:58\n",
      "     ----------------------------- ---------- 1.8/2.4 GB 11.4 MB/s eta 0:00:58\n",
      "     ----------------------------- ---------- 1.8/2.4 GB 11.3 MB/s eta 0:00:58\n",
      "     ----------------------------- ---------- 1.8/2.4 GB 11.3 MB/s eta 0:00:57\n",
      "     ----------------------------- ---------- 1.8/2.4 GB 11.3 MB/s eta 0:00:57\n",
      "     ----------------------------- ---------- 1.8/2.4 GB 11.3 MB/s eta 0:00:57\n",
      "     ----------------------------- ---------- 1.8/2.4 GB 11.3 MB/s eta 0:00:57\n",
      "     ----------------------------- ---------- 1.8/2.4 GB 11.3 MB/s eta 0:00:57\n",
      "     ----------------------------- ---------- 1.8/2.4 GB 11.3 MB/s eta 0:00:56\n",
      "     ----------------------------- ---------- 1.8/2.4 GB 11.3 MB/s eta 0:00:56\n",
      "     ----------------------------- ---------- 1.8/2.4 GB 11.3 MB/s eta 0:00:56\n",
      "     ----------------------------- ---------- 1.8/2.4 GB 11.3 MB/s eta 0:00:56\n",
      "     ----------------------------- ---------- 1.8/2.4 GB 11.3 MB/s eta 0:00:55\n",
      "     ----------------------------- ---------- 1.8/2.4 GB 11.3 MB/s eta 0:00:55\n",
      "     ----------------------------- ---------- 1.8/2.4 GB 11.3 MB/s eta 0:00:55\n",
      "     ----------------------------- ---------- 1.8/2.4 GB 11.3 MB/s eta 0:00:55\n",
      "     ----------------------------- ---------- 1.8/2.4 GB 11.3 MB/s eta 0:00:55\n",
      "     ------------------------------ --------- 1.8/2.4 GB 11.3 MB/s eta 0:00:54\n",
      "     ------------------------------ --------- 1.8/2.4 GB 11.3 MB/s eta 0:00:54\n",
      "     ------------------------------ --------- 1.8/2.4 GB 11.3 MB/s eta 0:00:54\n",
      "     ------------------------------ --------- 1.8/2.4 GB 11.3 MB/s eta 0:00:54\n",
      "     ------------------------------ --------- 1.8/2.4 GB 11.3 MB/s eta 0:00:53\n",
      "     ------------------------------ --------- 1.9/2.4 GB 11.3 MB/s eta 0:00:53\n",
      "     ------------------------------ --------- 1.9/2.4 GB 11.3 MB/s eta 0:00:53\n",
      "     ------------------------------ --------- 1.9/2.4 GB 11.3 MB/s eta 0:00:53\n",
      "     ------------------------------ --------- 1.9/2.4 GB 11.4 MB/s eta 0:00:53\n",
      "     ------------------------------ --------- 1.9/2.4 GB 11.4 MB/s eta 0:00:52\n",
      "     ------------------------------ --------- 1.9/2.4 GB 11.4 MB/s eta 0:00:52\n",
      "     ------------------------------ --------- 1.9/2.4 GB 11.4 MB/s eta 0:00:52\n",
      "     ------------------------------ --------- 1.9/2.4 GB 11.3 MB/s eta 0:00:52\n",
      "     ------------------------------ --------- 1.9/2.4 GB 11.2 MB/s eta 0:00:52\n",
      "     ------------------------------ --------- 1.9/2.4 GB 11.2 MB/s eta 0:00:52\n",
      "     ------------------------------ --------- 1.9/2.4 GB 11.2 MB/s eta 0:00:52\n",
      "     ------------------------------ --------- 1.9/2.4 GB 11.3 MB/s eta 0:00:51\n",
      "     ------------------------------ --------- 1.9/2.4 GB 11.2 MB/s eta 0:00:51\n",
      "     ------------------------------ --------- 1.9/2.4 GB 11.2 MB/s eta 0:00:51\n",
      "     ------------------------------ --------- 1.9/2.4 GB 11.2 MB/s eta 0:00:51\n",
      "     ------------------------------ --------- 1.9/2.4 GB 11.2 MB/s eta 0:00:51\n",
      "     ------------------------------ --------- 1.9/2.4 GB 11.2 MB/s eta 0:00:50\n",
      "     ------------------------------ --------- 1.9/2.4 GB 11.2 MB/s eta 0:00:50\n",
      "     ------------------------------ --------- 1.9/2.4 GB 11.2 MB/s eta 0:00:50\n",
      "     ------------------------------ --------- 1.9/2.4 GB 11.4 MB/s eta 0:00:49\n",
      "     ------------------------------ --------- 1.9/2.4 GB 11.4 MB/s eta 0:00:49\n",
      "     ------------------------------- -------- 1.9/2.4 GB 11.4 MB/s eta 0:00:49\n",
      "     ------------------------------- -------- 1.9/2.4 GB 11.4 MB/s eta 0:00:49\n",
      "     ------------------------------- -------- 1.9/2.4 GB 11.4 MB/s eta 0:00:48\n",
      "     ------------------------------- -------- 1.9/2.4 GB 11.4 MB/s eta 0:00:48\n",
      "     ------------------------------- -------- 1.9/2.4 GB 11.4 MB/s eta 0:00:48\n",
      "     ------------------------------- -------- 1.9/2.4 GB 11.4 MB/s eta 0:00:48\n",
      "     ------------------------------- -------- 1.9/2.4 GB 11.4 MB/s eta 0:00:47\n",
      "     ------------------------------- -------- 1.9/2.4 GB 11.4 MB/s eta 0:00:47\n",
      "     ------------------------------- -------- 1.9/2.4 GB 11.4 MB/s eta 0:00:47\n",
      "     ------------------------------- -------- 1.9/2.4 GB 11.4 MB/s eta 0:00:47\n",
      "     ------------------------------- -------- 1.9/2.4 GB 11.4 MB/s eta 0:00:47\n",
      "     ------------------------------- -------- 1.9/2.4 GB 11.4 MB/s eta 0:00:46\n",
      "     ------------------------------- -------- 1.9/2.4 GB 11.4 MB/s eta 0:00:46\n",
      "     ------------------------------- -------- 1.9/2.4 GB 11.4 MB/s eta 0:00:46\n",
      "     ------------------------------- -------- 1.9/2.4 GB 11.4 MB/s eta 0:00:46\n",
      "     ------------------------------- -------- 1.9/2.4 GB 11.3 MB/s eta 0:00:46\n",
      "     ------------------------------- -------- 1.9/2.4 GB 11.3 MB/s eta 0:00:46\n",
      "     ------------------------------- -------- 1.9/2.4 GB 11.3 MB/s eta 0:00:45\n",
      "     ------------------------------- -------- 1.9/2.4 GB 11.3 MB/s eta 0:00:45\n",
      "     ------------------------------- -------- 1.9/2.4 GB 11.3 MB/s eta 0:00:45\n",
      "     ------------------------------- -------- 1.9/2.4 GB 11.4 MB/s eta 0:00:45\n",
      "     ------------------------------- -------- 2.0/2.4 GB 11.4 MB/s eta 0:00:44\n",
      "     ------------------------------- -------- 2.0/2.4 GB 11.4 MB/s eta 0:00:44\n",
      "     ------------------------------- -------- 2.0/2.4 GB 11.4 MB/s eta 0:00:44\n",
      "     ------------------------------- -------- 2.0/2.4 GB 11.4 MB/s eta 0:00:44\n",
      "     -------------------------------- ------- 2.0/2.4 GB 11.4 MB/s eta 0:00:43\n",
      "     -------------------------------- ------- 2.0/2.4 GB 11.4 MB/s eta 0:00:43\n",
      "     -------------------------------- ------- 2.0/2.4 GB 11.4 MB/s eta 0:00:43\n",
      "     -------------------------------- ------- 2.0/2.4 GB 11.4 MB/s eta 0:00:43\n",
      "     -------------------------------- ------- 2.0/2.4 GB 11.4 MB/s eta 0:00:43\n",
      "     -------------------------------- ------- 2.0/2.4 GB 11.4 MB/s eta 0:00:42\n",
      "     -------------------------------- ------- 2.0/2.4 GB 11.4 MB/s eta 0:00:42\n",
      "     -------------------------------- ------- 2.0/2.4 GB 11.4 MB/s eta 0:00:42\n",
      "     -------------------------------- ------- 2.0/2.4 GB 11.4 MB/s eta 0:00:42\n",
      "     -------------------------------- ------- 2.0/2.4 GB 11.4 MB/s eta 0:00:41\n",
      "     -------------------------------- ------- 2.0/2.4 GB 11.2 MB/s eta 0:00:42\n",
      "     -------------------------------- ------- 2.0/2.4 GB 11.2 MB/s eta 0:00:42\n",
      "     -------------------------------- ------- 2.0/2.4 GB 11.2 MB/s eta 0:00:41\n",
      "     -------------------------------- ------- 2.0/2.4 GB 11.2 MB/s eta 0:00:41\n",
      "     -------------------------------- ------- 2.0/2.4 GB 11.2 MB/s eta 0:00:41\n",
      "     -------------------------------- ------- 2.0/2.4 GB 11.2 MB/s eta 0:00:41\n",
      "     -------------------------------- ------- 2.0/2.4 GB 11.3 MB/s eta 0:00:41\n",
      "     -------------------------------- ------- 2.0/2.4 GB 11.2 MB/s eta 0:00:40\n",
      "     -------------------------------- ------- 2.0/2.4 GB 11.2 MB/s eta 0:00:40\n",
      "     -------------------------------- ------- 2.0/2.4 GB 11.2 MB/s eta 0:00:40\n",
      "     -------------------------------- ------- 2.0/2.4 GB 11.2 MB/s eta 0:00:40\n",
      "     -------------------------------- ------- 2.0/2.4 GB 11.2 MB/s eta 0:00:40\n",
      "     -------------------------------- ------- 2.0/2.4 GB 11.4 MB/s eta 0:00:39\n",
      "     -------------------------------- ------- 2.0/2.4 GB 11.4 MB/s eta 0:00:39\n",
      "     -------------------------------- ------- 2.0/2.4 GB 11.4 MB/s eta 0:00:38\n",
      "     -------------------------------- ------- 2.0/2.4 GB 11.4 MB/s eta 0:00:38\n",
      "     --------------------------------- ------ 2.0/2.4 GB 11.4 MB/s eta 0:00:38\n",
      "     --------------------------------- ------ 2.0/2.4 GB 11.4 MB/s eta 0:00:38\n",
      "     --------------------------------- ------ 2.0/2.4 GB 11.3 MB/s eta 0:00:38\n",
      "     --------------------------------- ------ 2.0/2.4 GB 11.3 MB/s eta 0:00:38\n",
      "     --------------------------------- ------ 2.0/2.4 GB 11.3 MB/s eta 0:00:37\n",
      "     --------------------------------- ------ 2.0/2.4 GB 11.3 MB/s eta 0:00:37\n",
      "     --------------------------------- ------ 2.0/2.4 GB 11.3 MB/s eta 0:00:37\n",
      "     --------------------------------- ------ 2.0/2.4 GB 11.3 MB/s eta 0:00:37\n",
      "     --------------------------------- ------ 2.0/2.4 GB 11.3 MB/s eta 0:00:36\n",
      "     --------------------------------- ------ 2.0/2.4 GB 11.3 MB/s eta 0:00:36\n",
      "     --------------------------------- ------ 2.0/2.4 GB 11.3 MB/s eta 0:00:36\n",
      "     --------------------------------- ------ 2.0/2.4 GB 11.3 MB/s eta 0:00:36\n",
      "     --------------------------------- ------ 2.1/2.4 GB 11.3 MB/s eta 0:00:36\n",
      "     --------------------------------- ------ 2.1/2.4 GB 11.3 MB/s eta 0:00:35\n",
      "     --------------------------------- ------ 2.1/2.4 GB 11.3 MB/s eta 0:00:35\n",
      "     --------------------------------- ------ 2.1/2.4 GB 11.3 MB/s eta 0:00:35\n",
      "     --------------------------------- ------ 2.1/2.4 GB 11.3 MB/s eta 0:00:35\n",
      "     --------------------------------- ------ 2.1/2.4 GB 11.4 MB/s eta 0:00:34\n",
      "     --------------------------------- ------ 2.1/2.4 GB 11.4 MB/s eta 0:00:34\n",
      "     --------------------------------- ------ 2.1/2.4 GB 11.4 MB/s eta 0:00:34\n",
      "     --------------------------------- ------ 2.1/2.4 GB 11.4 MB/s eta 0:00:34\n",
      "     --------------------------------- ------ 2.1/2.4 GB 11.4 MB/s eta 0:00:34\n",
      "     --------------------------------- ------ 2.1/2.4 GB 11.4 MB/s eta 0:00:33\n",
      "     --------------------------------- ------ 2.1/2.4 GB 11.4 MB/s eta 0:00:33\n",
      "     --------------------------------- ------ 2.1/2.4 GB 11.4 MB/s eta 0:00:33\n",
      "     ---------------------------------- ----- 2.1/2.4 GB 11.4 MB/s eta 0:00:33\n",
      "     ---------------------------------- ----- 2.1/2.4 GB 11.4 MB/s eta 0:00:32\n",
      "     ---------------------------------- ----- 2.1/2.4 GB 11.4 MB/s eta 0:00:32\n",
      "     ---------------------------------- ----- 2.1/2.4 GB 11.4 MB/s eta 0:00:32\n",
      "     ---------------------------------- ----- 2.1/2.4 GB 11.4 MB/s eta 0:00:32\n",
      "     ---------------------------------- ----- 2.1/2.4 GB 11.4 MB/s eta 0:00:32\n",
      "     ---------------------------------- ----- 2.1/2.4 GB 11.4 MB/s eta 0:00:31\n",
      "     ---------------------------------- ----- 2.1/2.4 GB 11.4 MB/s eta 0:00:31\n",
      "     ---------------------------------- ----- 2.1/2.4 GB 11.3 MB/s eta 0:00:31\n",
      "     ---------------------------------- ----- 2.1/2.4 GB 11.2 MB/s eta 0:00:31\n",
      "     ---------------------------------- ----- 2.1/2.4 GB 11.2 MB/s eta 0:00:31\n",
      "     ---------------------------------- ----- 2.1/2.4 GB 11.2 MB/s eta 0:00:31\n",
      "     ---------------------------------- ----- 2.1/2.4 GB 11.2 MB/s eta 0:00:31\n",
      "     ---------------------------------- ----- 2.1/2.4 GB 11.2 MB/s eta 0:00:30\n",
      "     ---------------------------------- ----- 2.1/2.4 GB 11.2 MB/s eta 0:00:30\n",
      "     ---------------------------------- ----- 2.1/2.4 GB 11.2 MB/s eta 0:00:30\n",
      "     ---------------------------------- ----- 2.1/2.4 GB 11.2 MB/s eta 0:00:30\n",
      "     ---------------------------------- ----- 2.1/2.4 GB 11.2 MB/s eta 0:00:30\n",
      "     ---------------------------------- ----- 2.1/2.4 GB 11.2 MB/s eta 0:00:29\n",
      "     ---------------------------------- ----- 2.1/2.4 GB 11.2 MB/s eta 0:00:29\n",
      "     ---------------------------------- ----- 2.1/2.4 GB 11.4 MB/s eta 0:00:29\n",
      "     ---------------------------------- ----- 2.1/2.4 GB 11.4 MB/s eta 0:00:28\n",
      "     ---------------------------------- ----- 2.1/2.4 GB 11.4 MB/s eta 0:00:28\n",
      "     ---------------------------------- ----- 2.1/2.4 GB 11.4 MB/s eta 0:00:28\n",
      "     ---------------------------------- ----- 2.1/2.4 GB 11.4 MB/s eta 0:00:28\n",
      "     ---------------------------------- ----- 2.1/2.4 GB 11.4 MB/s eta 0:00:27\n",
      "     ----------------------------------- ---- 2.1/2.4 GB 11.4 MB/s eta 0:00:27\n",
      "     ----------------------------------- ---- 2.1/2.4 GB 11.4 MB/s eta 0:00:27\n",
      "     ----------------------------------- ---- 2.1/2.4 GB 11.4 MB/s eta 0:00:27\n",
      "     ----------------------------------- ---- 2.2/2.4 GB 11.4 MB/s eta 0:00:27\n",
      "     ----------------------------------- ---- 2.2/2.4 GB 11.4 MB/s eta 0:00:26\n",
      "     ----------------------------------- ---- 2.2/2.4 GB 11.4 MB/s eta 0:00:26\n",
      "     ----------------------------------- ---- 2.2/2.4 GB 11.4 MB/s eta 0:00:26\n",
      "     ----------------------------------- ---- 2.2/2.4 GB 11.4 MB/s eta 0:00:26\n",
      "     ----------------------------------- ---- 2.2/2.4 GB 11.3 MB/s eta 0:00:26\n",
      "     ----------------------------------- ---- 2.2/2.4 GB 11.3 MB/s eta 0:00:25\n",
      "     ----------------------------------- ---- 2.2/2.4 GB 11.3 MB/s eta 0:00:25\n",
      "     ----------------------------------- ---- 2.2/2.4 GB 11.3 MB/s eta 0:00:25\n",
      "     ----------------------------------- ---- 2.2/2.4 GB 11.3 MB/s eta 0:00:25\n",
      "     ----------------------------------- ---- 2.2/2.4 GB 11.3 MB/s eta 0:00:25\n",
      "     ----------------------------------- ---- 2.2/2.4 GB 11.3 MB/s eta 0:00:24\n",
      "     ----------------------------------- ---- 2.2/2.4 GB 11.3 MB/s eta 0:00:24\n",
      "     ----------------------------------- ---- 2.2/2.4 GB 11.3 MB/s eta 0:00:24\n",
      "     ----------------------------------- ---- 2.2/2.4 GB 11.3 MB/s eta 0:00:24\n",
      "     ----------------------------------- ---- 2.2/2.4 GB 11.3 MB/s eta 0:00:24\n",
      "     ----------------------------------- ---- 2.2/2.4 GB 11.3 MB/s eta 0:00:23\n",
      "     ----------------------------------- ---- 2.2/2.4 GB 11.3 MB/s eta 0:00:23\n",
      "     ----------------------------------- ---- 2.2/2.4 GB 11.3 MB/s eta 0:00:23\n",
      "     ----------------------------------- ---- 2.2/2.4 GB 11.4 MB/s eta 0:00:23\n",
      "     ----------------------------------- ---- 2.2/2.4 GB 11.4 MB/s eta 0:00:22\n",
      "     ----------------------------------- ---- 2.2/2.4 GB 11.4 MB/s eta 0:00:22\n",
      "     ------------------------------------ --- 2.2/2.4 GB 11.4 MB/s eta 0:00:22\n",
      "     ------------------------------------ --- 2.2/2.4 GB 11.4 MB/s eta 0:00:22\n",
      "     ------------------------------------ --- 2.2/2.4 GB 11.4 MB/s eta 0:00:21\n",
      "     ------------------------------------ --- 2.2/2.4 GB 11.4 MB/s eta 0:00:21\n",
      "     ------------------------------------ --- 2.2/2.4 GB 11.4 MB/s eta 0:00:21\n",
      "     ------------------------------------ --- 2.2/2.4 GB 11.4 MB/s eta 0:00:21\n",
      "     ------------------------------------ --- 2.2/2.4 GB 11.4 MB/s eta 0:00:21\n",
      "     ------------------------------------ --- 2.2/2.4 GB 11.3 MB/s eta 0:00:21\n",
      "     ------------------------------------ --- 2.2/2.4 GB 11.2 MB/s eta 0:00:21\n",
      "     ------------------------------------ --- 2.2/2.4 GB 11.2 MB/s eta 0:00:20\n",
      "     ------------------------------------ --- 2.2/2.4 GB 11.2 MB/s eta 0:00:20\n",
      "     ------------------------------------ --- 2.2/2.4 GB 11.2 MB/s eta 0:00:20\n",
      "     ------------------------------------ --- 2.2/2.4 GB 11.2 MB/s eta 0:00:20\n",
      "     ------------------------------------ --- 2.2/2.4 GB 11.3 MB/s eta 0:00:20\n",
      "     ------------------------------------ --- 2.2/2.4 GB 11.2 MB/s eta 0:00:19\n",
      "     ------------------------------------ --- 2.2/2.4 GB 11.3 MB/s eta 0:00:19\n",
      "     ------------------------------------ --- 2.2/2.4 GB 11.2 MB/s eta 0:00:19\n",
      "     ------------------------------------ --- 2.2/2.4 GB 11.4 MB/s eta 0:00:18\n",
      "     ------------------------------------ --- 2.2/2.4 GB 11.4 MB/s eta 0:00:18\n",
      "     ------------------------------------ --- 2.2/2.4 GB 11.4 MB/s eta 0:00:18\n",
      "     ------------------------------------ --- 2.3/2.4 GB 11.4 MB/s eta 0:00:18\n",
      "     ------------------------------------ --- 2.3/2.4 GB 11.3 MB/s eta 0:00:18\n",
      "     ------------------------------------ --- 2.3/2.4 GB 11.3 MB/s eta 0:00:18\n",
      "     ------------------------------------ --- 2.3/2.4 GB 11.3 MB/s eta 0:00:17\n",
      "     ------------------------------------ --- 2.3/2.4 GB 11.3 MB/s eta 0:00:17\n",
      "     ------------------------------------ --- 2.3/2.4 GB 11.3 MB/s eta 0:00:17\n",
      "     ------------------------------------- -- 2.3/2.4 GB 11.3 MB/s eta 0:00:17\n",
      "     ------------------------------------- -- 2.3/2.4 GB 11.3 MB/s eta 0:00:16\n",
      "     ------------------------------------- -- 2.3/2.4 GB 11.3 MB/s eta 0:00:16\n",
      "     ------------------------------------- -- 2.3/2.4 GB 11.3 MB/s eta 0:00:16\n",
      "     ------------------------------------- -- 2.3/2.4 GB 11.3 MB/s eta 0:00:16\n",
      "     ------------------------------------- -- 2.3/2.4 GB 11.3 MB/s eta 0:00:16\n",
      "     ------------------------------------- -- 2.3/2.4 GB 11.3 MB/s eta 0:00:15\n",
      "     ------------------------------------- -- 2.3/2.4 GB 11.3 MB/s eta 0:00:15\n",
      "     ------------------------------------- -- 2.3/2.4 GB 11.3 MB/s eta 0:00:15\n",
      "     ------------------------------------- -- 2.3/2.4 GB 11.4 MB/s eta 0:00:15\n",
      "     ------------------------------------- -- 2.3/2.4 GB 11.4 MB/s eta 0:00:14\n",
      "     ------------------------------------- -- 2.3/2.4 GB 11.4 MB/s eta 0:00:14\n",
      "     ------------------------------------- -- 2.3/2.4 GB 11.4 MB/s eta 0:00:14\n",
      "     ------------------------------------- -- 2.3/2.4 GB 11.4 MB/s eta 0:00:14\n",
      "     ------------------------------------- -- 2.3/2.4 GB 11.4 MB/s eta 0:00:14\n",
      "     ------------------------------------- -- 2.3/2.4 GB 11.4 MB/s eta 0:00:13\n",
      "     ------------------------------------- -- 2.3/2.4 GB 11.4 MB/s eta 0:00:13\n",
      "     ------------------------------------- -- 2.3/2.4 GB 11.4 MB/s eta 0:00:13\n",
      "     ------------------------------------- -- 2.3/2.4 GB 11.4 MB/s eta 0:00:13\n",
      "     ------------------------------------- -- 2.3/2.4 GB 11.4 MB/s eta 0:00:12\n",
      "     ------------------------------------- -- 2.3/2.4 GB 11.4 MB/s eta 0:00:12\n",
      "     ------------------------------------- -- 2.3/2.4 GB 11.4 MB/s eta 0:00:12\n",
      "     ------------------------------------- -- 2.3/2.4 GB 11.4 MB/s eta 0:00:12\n",
      "     ------------------------------------- -- 2.3/2.4 GB 11.4 MB/s eta 0:00:12\n",
      "     ------------------------------------- -- 2.3/2.4 GB 11.4 MB/s eta 0:00:11\n",
      "     -------------------------------------- - 2.3/2.4 GB 11.4 MB/s eta 0:00:11\n",
      "     -------------------------------------- - 2.3/2.4 GB 11.4 MB/s eta 0:00:11\n",
      "     -------------------------------------- - 2.3/2.4 GB 11.4 MB/s eta 0:00:11\n",
      "     -------------------------------------- - 2.3/2.4 GB 11.4 MB/s eta 0:00:11\n",
      "     -------------------------------------- - 2.3/2.4 GB 11.4 MB/s eta 0:00:11\n",
      "     -------------------------------------- - 2.3/2.4 GB 11.2 MB/s eta 0:00:10\n",
      "     -------------------------------------- - 2.3/2.4 GB 11.2 MB/s eta 0:00:10\n",
      "     -------------------------------------- - 2.3/2.4 GB 11.2 MB/s eta 0:00:10\n",
      "     -------------------------------------- - 2.3/2.4 GB 11.2 MB/s eta 0:00:10\n",
      "     -------------------------------------- - 2.3/2.4 GB 11.2 MB/s eta 0:00:10\n",
      "     -------------------------------------- - 2.3/2.4 GB 11.2 MB/s eta 0:00:10\n",
      "     -------------------------------------- - 2.4/2.4 GB 11.2 MB/s eta 0:00:09\n",
      "     -------------------------------------- - 2.4/2.4 GB 11.2 MB/s eta 0:00:09\n",
      "     -------------------------------------- - 2.4/2.4 GB 11.2 MB/s eta 0:00:09\n",
      "     -------------------------------------- - 2.4/2.4 GB 11.2 MB/s eta 0:00:09\n",
      "     -------------------------------------- - 2.4/2.4 GB 11.2 MB/s eta 0:00:08\n",
      "     -------------------------------------- - 2.4/2.4 GB 11.3 MB/s eta 0:00:08\n",
      "     -------------------------------------- - 2.4/2.4 GB 11.3 MB/s eta 0:00:08\n",
      "     -------------------------------------- - 2.4/2.4 GB 11.3 MB/s eta 0:00:08\n",
      "     -------------------------------------- - 2.4/2.4 GB 11.3 MB/s eta 0:00:07\n",
      "     -------------------------------------- - 2.4/2.4 GB 11.3 MB/s eta 0:00:07\n",
      "     -------------------------------------- - 2.4/2.4 GB 11.3 MB/s eta 0:00:07\n",
      "     -------------------------------------- - 2.4/2.4 GB 11.3 MB/s eta 0:00:07\n",
      "     -------------------------------------- - 2.4/2.4 GB 11.3 MB/s eta 0:00:07\n",
      "     -------------------------------------- - 2.4/2.4 GB 11.3 MB/s eta 0:00:06\n",
      "     -------------------------------------- - 2.4/2.4 GB 11.3 MB/s eta 0:00:06\n",
      "     -------------------------------------- - 2.4/2.4 GB 11.3 MB/s eta 0:00:06\n",
      "     ---------------------------------------  2.4/2.4 GB 11.3 MB/s eta 0:00:06\n",
      "     ---------------------------------------  2.4/2.4 GB 11.3 MB/s eta 0:00:05\n",
      "     ---------------------------------------  2.4/2.4 GB 11.3 MB/s eta 0:00:05\n",
      "     ---------------------------------------  2.4/2.4 GB 11.3 MB/s eta 0:00:05\n",
      "     ---------------------------------------  2.4/2.4 GB 11.3 MB/s eta 0:00:05\n",
      "     ---------------------------------------  2.4/2.4 GB 11.3 MB/s eta 0:00:05\n",
      "     ---------------------------------------  2.4/2.4 GB 11.3 MB/s eta 0:00:04\n",
      "     ---------------------------------------  2.4/2.4 GB 11.3 MB/s eta 0:00:04\n",
      "     ---------------------------------------  2.4/2.4 GB 11.3 MB/s eta 0:00:04\n",
      "     ---------------------------------------  2.4/2.4 GB 11.3 MB/s eta 0:00:04\n",
      "     ---------------------------------------  2.4/2.4 GB 11.3 MB/s eta 0:00:04\n",
      "     ---------------------------------------  2.4/2.4 GB 11.3 MB/s eta 0:00:03\n",
      "     ---------------------------------------  2.4/2.4 GB 11.3 MB/s eta 0:00:03\n",
      "     ---------------------------------------  2.4/2.4 GB 11.3 MB/s eta 0:00:03\n",
      "     ---------------------------------------  2.4/2.4 GB 11.4 MB/s eta 0:00:03\n",
      "     ---------------------------------------  2.4/2.4 GB 11.4 MB/s eta 0:00:02\n",
      "     ---------------------------------------  2.4/2.4 GB 11.4 MB/s eta 0:00:02\n",
      "     ---------------------------------------  2.4/2.4 GB 11.4 MB/s eta 0:00:02\n",
      "     ---------------------------------------  2.4/2.4 GB 11.4 MB/s eta 0:00:02\n",
      "     ---------------------------------------  2.4/2.4 GB 11.4 MB/s eta 0:00:02\n",
      "     ---------------------------------------  2.4/2.4 GB 11.4 MB/s eta 0:00:01\n",
      "     ---------------------------------------  2.4/2.4 GB 11.4 MB/s eta 0:00:01\n",
      "     ---------------------------------------  2.4/2.4 GB 11.4 MB/s eta 0:00:01\n",
      "     ---------------------------------------  2.4/2.4 GB 11.4 MB/s eta 0:00:01\n",
      "     ---------------------------------------  2.4/2.4 GB 11.4 MB/s eta 0:00:01\n",
      "     ---------------------------------------  2.4/2.4 GB 11.4 MB/s eta 0:00:01\n",
      "     ---------------------------------------  2.4/2.4 GB 11.4 MB/s eta 0:00:01\n",
      "     ---------------------------------------  2.4/2.4 GB 11.4 MB/s eta 0:00:01\n",
      "     ---------------------------------------  2.4/2.4 GB 11.4 MB/s eta 0:00:01\n",
      "     ---------------------------------------  2.4/2.4 GB 11.4 MB/s eta 0:00:01\n",
      "     ---------------------------------------  2.4/2.4 GB 11.4 MB/s eta 0:00:01\n",
      "     ---------------------------------------  2.4/2.4 GB 11.4 MB/s eta 0:00:01\n",
      "     ---------------------------------------  2.4/2.4 GB 11.4 MB/s eta 0:00:01\n",
      "     ---------------------------------------  2.4/2.4 GB 11.4 MB/s eta 0:00:01\n",
      "     ---------------------------------------- 2.4/2.4 GB 10.5 MB/s eta 0:00:00\n",
      "Collecting torchvision\n",
      "  Downloading https://download.pytorch.org/whl/cu121/torchvision-0.20.1%2Bcu121-cp311-cp311-win_amd64.whl (6.1 MB)\n",
      "     ---------------------------------------- 0.0/6.1 MB ? eta -:--:--\n",
      "     --------------- ------------------------ 2.4/6.1 MB 12.3 MB/s eta 0:00:01\n",
      "     ------------------------------- -------- 4.7/6.1 MB 11.9 MB/s eta 0:00:01\n",
      "     ---------------------------------------- 6.1/6.1 MB 11.6 MB/s eta 0:00:00\n",
      "Collecting torchaudio\n",
      "  Downloading https://download.pytorch.org/whl/cu121/torchaudio-2.5.1%2Bcu121-cp311-cp311-win_amd64.whl (4.1 MB)\n",
      "     ---------------------------------------- 0.0/4.1 MB ? eta -:--:--\n",
      "     ---------------------- ----------------- 2.4/4.1 MB 11.2 MB/s eta 0:00:01\n",
      "     ---------------------------------------- 4.1/4.1 MB 11.3 MB/s eta 0:00:00\n",
      "Requirement already satisfied: filelock in c:\\users\\admin\\miniconda3\\envs\\yolov12\\lib\\site-packages (from torch) (3.18.0)\n",
      "Requirement already satisfied: typing-extensions>=4.8.0 in c:\\users\\admin\\miniconda3\\envs\\yolov12\\lib\\site-packages (from torch) (4.13.2)\n",
      "Requirement already satisfied: networkx in c:\\users\\admin\\miniconda3\\envs\\yolov12\\lib\\site-packages (from torch) (3.5)\n",
      "Requirement already satisfied: jinja2 in c:\\users\\admin\\miniconda3\\envs\\yolov12\\lib\\site-packages (from torch) (3.1.6)\n",
      "Requirement already satisfied: fsspec in c:\\users\\admin\\miniconda3\\envs\\yolov12\\lib\\site-packages (from torch) (2025.5.1)\n",
      "Collecting sympy==1.13.1 (from torch)\n",
      "  Downloading https://download.pytorch.org/whl/sympy-1.13.1-py3-none-any.whl (6.2 MB)\n",
      "     ---------------------------------------- 0.0/6.2 MB ? eta -:--:--\n",
      "     --------------- ------------------------ 2.4/6.2 MB 11.2 MB/s eta 0:00:01\n",
      "     ------------------------------ --------- 4.7/6.2 MB 11.4 MB/s eta 0:00:01\n",
      "     ---------------------------------------- 6.2/6.2 MB 11.2 MB/s eta 0:00:00\n",
      "Requirement already satisfied: mpmath<1.4,>=1.1.0 in c:\\users\\admin\\miniconda3\\envs\\yolov12\\lib\\site-packages (from sympy==1.13.1->torch) (1.3.0)\n",
      "Requirement already satisfied: numpy in c:\\users\\admin\\miniconda3\\envs\\yolov12\\lib\\site-packages (from torchvision) (2.2.6)\n",
      "Requirement already satisfied: pillow!=8.3.*,>=5.3.0 in c:\\users\\admin\\miniconda3\\envs\\yolov12\\lib\\site-packages (from torchvision) (11.2.1)\n",
      "Requirement already satisfied: MarkupSafe>=2.0 in c:\\users\\admin\\miniconda3\\envs\\yolov12\\lib\\site-packages (from jinja2->torch) (3.0.2)\n",
      "Installing collected packages: sympy, torch, torchvision, torchaudio\n",
      "\n",
      "  Attempting uninstall: sympy\n",
      "\n",
      "    Found existing installation: sympy 1.14.0\n",
      "\n",
      "   ---------------------------------------- 0/4 [sympy]\n",
      "    Uninstalling sympy-1.14.0:\n",
      "   ---------------------------------------- 0/4 [sympy]\n",
      "   ---------------------------------------- 0/4 [sympy]\n",
      "      Successfully uninstalled sympy-1.14.0\n",
      "   ---------------------------------------- 0/4 [sympy]\n",
      "   ---------------------------------------- 0/4 [sympy]\n",
      "   ---------------------------------------- 0/4 [sympy]\n",
      "   ---------------------------------------- 0/4 [sympy]\n",
      "   ---------------------------------------- 0/4 [sympy]\n",
      "   ---------------------------------------- 0/4 [sympy]\n",
      "   ---------------------------------------- 0/4 [sympy]\n",
      "   ---------------------------------------- 0/4 [sympy]\n",
      "   ---------------------------------------- 0/4 [sympy]\n",
      "   ---------------------------------------- 0/4 [sympy]\n",
      "   ---------------------------------------- 0/4 [sympy]\n",
      "   ---------------------------------------- 0/4 [sympy]\n",
      "   ---------------------------------------- 0/4 [sympy]\n",
      "   ---------------------------------------- 0/4 [sympy]\n",
      "   ---------------------------------------- 0/4 [sympy]\n",
      "   ---------------------------------------- 0/4 [sympy]\n",
      "   ---------------------------------------- 0/4 [sympy]\n",
      "   ---------------------------------------- 0/4 [sympy]\n",
      "   ---------------------------------------- 0/4 [sympy]\n",
      "   ---------------------------------------- 0/4 [sympy]\n",
      "   ---------------------------------------- 0/4 [sympy]\n",
      "   ---------------------------------------- 0/4 [sympy]\n",
      "   ---------------------------------------- 0/4 [sympy]\n",
      "   ---------------------------------------- 0/4 [sympy]\n",
      "   ---------------------------------------- 0/4 [sympy]\n",
      "   ---------------------------------------- 0/4 [sympy]\n",
      "   ---------------------------------------- 0/4 [sympy]\n",
      "   ---------- ----------------------------- 1/4 [torch]\n",
      "   ---------- ----------------------------- 1/4 [torch]\n",
      "   ---------- ----------------------------- 1/4 [torch]\n",
      "   ---------- ----------------------------- 1/4 [torch]\n",
      "   ---------- ----------------------------- 1/4 [torch]\n",
      "   ---------- ----------------------------- 1/4 [torch]\n",
      "   ---------- ----------------------------- 1/4 [torch]\n",
      "   ---------- ----------------------------- 1/4 [torch]\n",
      "   ---------- ----------------------------- 1/4 [torch]\n",
      "   ---------- ----------------------------- 1/4 [torch]\n",
      "   ---------- ----------------------------- 1/4 [torch]\n",
      "   ---------- ----------------------------- 1/4 [torch]\n",
      "   ---------- ----------------------------- 1/4 [torch]\n",
      "   ---------- ----------------------------- 1/4 [torch]\n",
      "   ---------- ----------------------------- 1/4 [torch]\n",
      "   ---------- ----------------------------- 1/4 [torch]\n",
      "   ---------- ----------------------------- 1/4 [torch]\n",
      "   ---------- ----------------------------- 1/4 [torch]\n",
      "   ---------- ----------------------------- 1/4 [torch]\n",
      "   ---------- ----------------------------- 1/4 [torch]\n",
      "   ---------- ----------------------------- 1/4 [torch]\n",
      "   ---------- ----------------------------- 1/4 [torch]\n",
      "   ---------- ----------------------------- 1/4 [torch]\n",
      "   ---------- ----------------------------- 1/4 [torch]\n",
      "   ---------- ----------------------------- 1/4 [torch]\n",
      "   ---------- ----------------------------- 1/4 [torch]\n",
      "   ---------- ----------------------------- 1/4 [torch]\n",
      "   ---------- ----------------------------- 1/4 [torch]\n",
      "   ---------- ----------------------------- 1/4 [torch]\n",
      "   ---------- ----------------------------- 1/4 [torch]\n",
      "   ---------- ----------------------------- 1/4 [torch]\n",
      "   ---------- ----------------------------- 1/4 [torch]\n",
      "   ---------- ----------------------------- 1/4 [torch]\n",
      "   ---------- ----------------------------- 1/4 [torch]\n",
      "   ---------- ----------------------------- 1/4 [torch]\n",
      "   ---------- ----------------------------- 1/4 [torch]\n",
      "   ---------- ----------------------------- 1/4 [torch]\n",
      "   ---------- ----------------------------- 1/4 [torch]\n",
      "   ---------- ----------------------------- 1/4 [torch]\n",
      "   ---------- ----------------------------- 1/4 [torch]\n",
      "   ---------- ----------------------------- 1/4 [torch]\n",
      "   ---------- ----------------------------- 1/4 [torch]\n",
      "   ---------- ----------------------------- 1/4 [torch]\n",
      "   ---------- ----------------------------- 1/4 [torch]\n",
      "   ---------- ----------------------------- 1/4 [torch]\n",
      "   ---------- ----------------------------- 1/4 [torch]\n",
      "   ---------- ----------------------------- 1/4 [torch]\n",
      "   ---------- ----------------------------- 1/4 [torch]\n",
      "   ---------- ----------------------------- 1/4 [torch]\n",
      "   ---------- ----------------------------- 1/4 [torch]\n",
      "   ---------- ----------------------------- 1/4 [torch]\n",
      "   ---------- ----------------------------- 1/4 [torch]\n",
      "   ---------- ----------------------------- 1/4 [torch]\n",
      "   ---------- ----------------------------- 1/4 [torch]\n",
      "   ---------- ----------------------------- 1/4 [torch]\n",
      "   ---------- ----------------------------- 1/4 [torch]\n",
      "   ---------- ----------------------------- 1/4 [torch]\n",
      "   ---------- ----------------------------- 1/4 [torch]\n",
      "   ---------- ----------------------------- 1/4 [torch]\n",
      "   ---------- ----------------------------- 1/4 [torch]\n",
      "   ---------- ----------------------------- 1/4 [torch]\n",
      "   ---------- ----------------------------- 1/4 [torch]\n",
      "   ---------- ----------------------------- 1/4 [torch]\n",
      "   ---------- ----------------------------- 1/4 [torch]\n",
      "   ---------- ----------------------------- 1/4 [torch]\n",
      "   ---------- ----------------------------- 1/4 [torch]\n",
      "   ---------- ----------------------------- 1/4 [torch]\n",
      "   ---------- ----------------------------- 1/4 [torch]\n",
      "   ---------- ----------------------------- 1/4 [torch]\n",
      "   ---------- ----------------------------- 1/4 [torch]\n",
      "   ---------- ----------------------------- 1/4 [torch]\n",
      "   ---------- ----------------------------- 1/4 [torch]\n",
      "   ---------- ----------------------------- 1/4 [torch]\n",
      "   ---------- ----------------------------- 1/4 [torch]\n",
      "   ---------- ----------------------------- 1/4 [torch]\n",
      "   ---------- ----------------------------- 1/4 [torch]\n",
      "   ---------- ----------------------------- 1/4 [torch]\n",
      "   ---------- ----------------------------- 1/4 [torch]\n",
      "   ---------- ----------------------------- 1/4 [torch]\n",
      "   ---------- ----------------------------- 1/4 [torch]\n",
      "   ---------- ----------------------------- 1/4 [torch]\n",
      "   ---------- ----------------------------- 1/4 [torch]\n",
      "   ---------- ----------------------------- 1/4 [torch]\n",
      "   ---------- ----------------------------- 1/4 [torch]\n",
      "   ---------- ----------------------------- 1/4 [torch]\n",
      "   ---------- ----------------------------- 1/4 [torch]\n",
      "   ---------- ----------------------------- 1/4 [torch]\n",
      "   ---------- ----------------------------- 1/4 [torch]\n",
      "   ---------- ----------------------------- 1/4 [torch]\n",
      "   ---------- ----------------------------- 1/4 [torch]\n",
      "   ---------- ----------------------------- 1/4 [torch]\n",
      "   ---------- ----------------------------- 1/4 [torch]\n",
      "   ---------- ----------------------------- 1/4 [torch]\n",
      "   ---------- ----------------------------- 1/4 [torch]\n",
      "   ---------- ----------------------------- 1/4 [torch]\n",
      "   ---------- ----------------------------- 1/4 [torch]\n",
      "   ---------- ----------------------------- 1/4 [torch]\n",
      "   ---------- ----------------------------- 1/4 [torch]\n",
      "   ---------- ----------------------------- 1/4 [torch]\n",
      "   ---------- ----------------------------- 1/4 [torch]\n",
      "   ---------- ----------------------------- 1/4 [torch]\n",
      "   ---------- ----------------------------- 1/4 [torch]\n",
      "   ---------- ----------------------------- 1/4 [torch]\n",
      "   ---------- ----------------------------- 1/4 [torch]\n",
      "   ---------- ----------------------------- 1/4 [torch]\n",
      "   ---------- ----------------------------- 1/4 [torch]\n",
      "   ---------- ----------------------------- 1/4 [torch]\n",
      "   ---------- ----------------------------- 1/4 [torch]\n",
      "   ---------- ----------------------------- 1/4 [torch]\n",
      "   ---------- ----------------------------- 1/4 [torch]\n",
      "   ---------- ----------------------------- 1/4 [torch]\n",
      "   ---------- ----------------------------- 1/4 [torch]\n",
      "   ---------- ----------------------------- 1/4 [torch]\n",
      "   ---------- ----------------------------- 1/4 [torch]\n",
      "   ---------- ----------------------------- 1/4 [torch]\n",
      "   ---------- ----------------------------- 1/4 [torch]\n",
      "   ---------- ----------------------------- 1/4 [torch]\n",
      "   ---------- ----------------------------- 1/4 [torch]\n",
      "   ---------- ----------------------------- 1/4 [torch]\n",
      "   ---------- ----------------------------- 1/4 [torch]\n",
      "   ---------- ----------------------------- 1/4 [torch]\n",
      "   ---------- ----------------------------- 1/4 [torch]\n",
      "   ---------- ----------------------------- 1/4 [torch]\n",
      "   ---------- ----------------------------- 1/4 [torch]\n",
      "   ---------- ----------------------------- 1/4 [torch]\n",
      "   ---------- ----------------------------- 1/4 [torch]\n",
      "   ---------- ----------------------------- 1/4 [torch]\n",
      "   ---------- ----------------------------- 1/4 [torch]\n",
      "   -------------------- ------------------- 2/4 [torchvision]\n",
      "   -------------------- ------------------- 2/4 [torchvision]\n",
      "   ------------------------------ --------- 3/4 [torchaudio]\n",
      "   ------------------------------ --------- 3/4 [torchaudio]\n",
      "   ---------------------------------------- 4/4 [torchaudio]\n",
      "\n",
      "Successfully installed sympy-1.13.1 torch-2.5.1+cu121 torchaudio-2.5.1+cu121 torchvision-0.20.1+cu121\n",
      "Note: you may need to restart the kernel to use updated packages.\n"
     ]
    }
   ],
   "source": [
    "pip install torch torchvision torchaudio --index-url https://download.pytorch.org/whl/cu121"
   ]
  },
  {
   "cell_type": "code",
   "execution_count": 1,
   "id": "03e30602",
   "metadata": {},
   "outputs": [
    {
     "name": "stdout",
     "output_type": "stream",
     "text": [
      "PyTorch version: 2.5.1+cu121\n",
      "CUDA available: True\n",
      "CUDA version: 12.1\n",
      "GPU device: NVIDIA GeForce RTX 4070\n"
     ]
    }
   ],
   "source": [
    "import torch\n",
    "print(f\"PyTorch version: {torch.__version__}\")\n",
    "print(f\"CUDA available: {torch.cuda.is_available()}\")\n",
    "if torch.cuda.is_available():\n",
    "    print(f\"CUDA version: {torch.version.cuda}\")\n",
    "    print(f\"GPU device: {torch.cuda.get_device_name(0)}\")"
   ]
  },
  {
   "cell_type": "code",
   "execution_count": 4,
   "id": "4f269cc4",
   "metadata": {},
   "outputs": [
    {
     "name": "stdout",
     "output_type": "stream",
     "text": [
      "GPU available: True\n",
      "GPU device: NVIDIA GeForce RTX 4070\n",
      "Downloading https://github.com/ultralytics/assets/releases/download/v8.3.0/yolov8n.pt to 'yolov8n.pt'...\n"
     ]
    },
    {
     "name": "stderr",
     "output_type": "stream",
     "text": [
      "100%|██████████| 6.25M/6.25M [00:00<00:00, 8.81MB/s]\n"
     ]
    },
    {
     "name": "stdout",
     "output_type": "stream",
     "text": [
      "Ultralytics 8.3.148  Python-3.11.11 torch-2.5.1+cu121 CUDA:0 (NVIDIA GeForce RTX 4070, 12282MiB)\n",
      "\u001b[34m\u001b[1mengine\\trainer: \u001b[0magnostic_nms=False, amp=True, augment=False, auto_augment=randaugment, batch=16, bgr=0.0, box=7.5, cache=False, cfg=None, classes=None, close_mosaic=10, cls=0.5, conf=None, copy_paste=0.0, copy_paste_mode=flip, cos_lr=False, cutmix=0.0, data=E:/yolo/detect_ads-2/data.yaml, degrees=0.0, deterministic=True, device=0, dfl=1.5, dnn=False, dropout=0.0, dynamic=False, embed=None, epochs=150, erasing=0.4, exist_ok=True, fliplr=0.5, flipud=0.0, format=torchscript, fraction=1.0, freeze=None, half=False, hsv_h=0.015, hsv_s=0.7, hsv_v=0.4, imgsz=640, int8=False, iou=0.7, keras=False, kobj=1.0, line_width=None, lr0=0.01, lrf=0.01, mask_ratio=4, max_det=300, mixup=0.0, mode=train, model=yolov8n.pt, momentum=0.937, mosaic=1.0, multi_scale=False, name=detect_ads_model, nbs=64, nms=False, opset=None, optimize=False, optimizer=auto, overlap_mask=True, patience=100, perspective=0.0, plots=True, pose=12.0, pretrained=True, profile=False, project=E:/yolo/runs, rect=False, resume=False, retina_masks=False, save=True, save_conf=False, save_crop=False, save_dir=E:\\yolo\\runs\\detect_ads_model, save_frames=False, save_json=False, save_period=-1, save_txt=False, scale=0.5, seed=0, shear=0.0, show=False, show_boxes=True, show_conf=True, show_labels=True, simplify=True, single_cls=False, source=None, split=val, stream_buffer=False, task=detect, time=None, tracker=botsort.yaml, translate=0.1, val=True, verbose=True, vid_stride=1, visualize=False, warmup_bias_lr=0.1, warmup_epochs=3.0, warmup_momentum=0.8, weight_decay=0.0005, workers=8, workspace=None\n",
      "Downloading https://ultralytics.com/assets/Arial.ttf to 'C:\\Users\\Admin\\AppData\\Roaming\\Ultralytics\\Arial.ttf'...\n"
     ]
    },
    {
     "name": "stderr",
     "output_type": "stream",
     "text": [
      "100%|██████████| 755k/755k [00:00<00:00, 2.97MB/s]"
     ]
    },
    {
     "name": "stdout",
     "output_type": "stream",
     "text": [
      "Overriding model.yaml nc=80 with nc=1\n",
      "\n",
      "                   from  n    params  module                                       arguments                     \n",
      "  0                  -1  1       464  ultralytics.nn.modules.conv.Conv             [3, 16, 3, 2]                 \n",
      "  1                  -1  1      4672  ultralytics.nn.modules.conv.Conv             [16, 32, 3, 2]                \n",
      "  2                  -1  1      7360  ultralytics.nn.modules.block.C2f             [32, 32, 1, True]             \n",
      "  3                  -1  1     18560  ultralytics.nn.modules.conv.Conv             [32, 64, 3, 2]                \n",
      "  4                  -1  2     49664  ultralytics.nn.modules.block.C2f             [64, 64, 2, True]             \n",
      "  5                  -1  1     73984  ultralytics.nn.modules.conv.Conv             [64, 128, 3, 2]               \n",
      "  6                  -1  2    197632  ultralytics.nn.modules.block.C2f             [128, 128, 2, True]           \n",
      "  7                  -1  1    295424  ultralytics.nn.modules.conv.Conv             [128, 256, 3, 2]              \n",
      "  8                  -1  1    460288  ultralytics.nn.modules.block.C2f             [256, 256, 1, True]           \n",
      "  9                  -1  1    164608  ultralytics.nn.modules.block.SPPF            [256, 256, 5]                 \n",
      " 10                  -1  1         0  torch.nn.modules.upsampling.Upsample         [None, 2, 'nearest']          \n",
      " 11             [-1, 6]  1         0  ultralytics.nn.modules.conv.Concat           [1]                           \n",
      " 12                  -1  1    148224  ultralytics.nn.modules.block.C2f             [384, 128, 1]                 \n",
      " 13                  -1  1         0  torch.nn.modules.upsampling.Upsample         [None, 2, 'nearest']          \n",
      " 14             [-1, 4]  1         0  ultralytics.nn.modules.conv.Concat           [1]                           \n",
      " 15                  -1  1     37248  ultralytics.nn.modules.block.C2f             [192, 64, 1]                  \n",
      " 16                  -1  1     36992  ultralytics.nn.modules.conv.Conv             [64, 64, 3, 2]                \n",
      " 17            [-1, 12]  1         0  ultralytics.nn.modules.conv.Concat           [1]                           \n",
      " 18                  -1  1    123648  ultralytics.nn.modules.block.C2f             [192, 128, 1]                 \n",
      " 19                  -1  1    147712  ultralytics.nn.modules.conv.Conv             [128, 128, 3, 2]              \n",
      " 20             [-1, 9]  1         0  ultralytics.nn.modules.conv.Concat           [1]                           \n",
      " 21                  -1  1    493056  ultralytics.nn.modules.block.C2f             [384, 256, 1]                 \n",
      " 22        [15, 18, 21]  1    751507  ultralytics.nn.modules.head.Detect           [1, [64, 128, 256]]           \n"
     ]
    },
    {
     "name": "stderr",
     "output_type": "stream",
     "text": [
      "\n"
     ]
    },
    {
     "name": "stdout",
     "output_type": "stream",
     "text": [
      "Model summary: 129 layers, 3,011,043 parameters, 3,011,027 gradients, 8.2 GFLOPs\n",
      "\n",
      "Transferred 319/355 items from pretrained weights\n",
      "Freezing layer 'model.22.dfl.conv.weight'\n",
      "\u001b[34m\u001b[1mAMP: \u001b[0mrunning Automatic Mixed Precision (AMP) checks...\n",
      "Downloading https://github.com/ultralytics/assets/releases/download/v8.3.0/yolo11n.pt to 'yolo11n.pt'...\n"
     ]
    },
    {
     "name": "stderr",
     "output_type": "stream",
     "text": [
      "100%|██████████| 5.35M/5.35M [00:00<00:00, 8.41MB/s]\n"
     ]
    },
    {
     "name": "stdout",
     "output_type": "stream",
     "text": [
      "\u001b[34m\u001b[1mAMP: \u001b[0mchecks passed \n",
      "\u001b[34m\u001b[1mtrain: \u001b[0mFast image access  (ping: 0.00.0 ms, read: 24.211.3 MB/s, size: 87.2 KB)\n"
     ]
    },
    {
     "name": "stderr",
     "output_type": "stream",
     "text": [
      "\u001b[34m\u001b[1mtrain: \u001b[0mScanning E:\\yolo\\detect_ads-2\\train\\labels... 322 images, 2 backgrounds, 0 corrupt: 100%|██████████| 322/322 [00:00<00:00, 892.48it/s]"
     ]
    },
    {
     "name": "stdout",
     "output_type": "stream",
     "text": [
      "\u001b[34m\u001b[1mtrain: \u001b[0mNew cache created: E:\\yolo\\detect_ads-2\\train\\labels.cache\n"
     ]
    },
    {
     "name": "stderr",
     "output_type": "stream",
     "text": [
      "\n"
     ]
    },
    {
     "name": "stdout",
     "output_type": "stream",
     "text": [
      "\u001b[34m\u001b[1mval: \u001b[0mFast image access  (ping: 0.00.0 ms, read: 6.82.3 MB/s, size: 49.7 KB)\n"
     ]
    },
    {
     "name": "stderr",
     "output_type": "stream",
     "text": [
      "\u001b[34m\u001b[1mval: \u001b[0mScanning E:\\yolo\\detect_ads-2\\valid\\labels... 75 images, 0 backgrounds, 0 corrupt: 100%|██████████| 75/75 [00:00<00:00, 570.07it/s]"
     ]
    },
    {
     "name": "stdout",
     "output_type": "stream",
     "text": [
      "\u001b[34m\u001b[1mval: \u001b[0mNew cache created: E:\\yolo\\detect_ads-2\\valid\\labels.cache\n"
     ]
    },
    {
     "name": "stderr",
     "output_type": "stream",
     "text": [
      "\n"
     ]
    },
    {
     "name": "stdout",
     "output_type": "stream",
     "text": [
      "Plotting labels to E:\\yolo\\runs\\detect_ads_model\\labels.jpg... \n",
      "\u001b[34m\u001b[1moptimizer:\u001b[0m 'optimizer=auto' found, ignoring 'lr0=0.01' and 'momentum=0.937' and determining best 'optimizer', 'lr0' and 'momentum' automatically... \n",
      "\u001b[34m\u001b[1moptimizer:\u001b[0m AdamW(lr=0.002, momentum=0.9) with parameter groups 57 weight(decay=0.0), 64 weight(decay=0.0005), 63 bias(decay=0.0)\n",
      "Image sizes 640 train, 640 val\n",
      "Using 8 dataloader workers\n",
      "Logging results to \u001b[1mE:\\yolo\\runs\\detect_ads_model\u001b[0m\n",
      "Starting training for 150 epochs...\n",
      "\n",
      "      Epoch    GPU_mem   box_loss   cls_loss   dfl_loss  Instances       Size\n"
     ]
    },
    {
     "name": "stderr",
     "output_type": "stream",
     "text": [
      "      1/150      2.09G      1.029      2.466      1.125          4        640: 100%|██████████| 21/21 [00:02<00:00,  8.14it/s]\n",
      "                 Class     Images  Instances      Box(P          R      mAP50  mAP50-95): 100%|██████████| 3/3 [00:00<00:00, 10.13it/s]"
     ]
    },
    {
     "name": "stdout",
     "output_type": "stream",
     "text": [
      "                   all         75         76    0.00925          1      0.764      0.599\n"
     ]
    },
    {
     "name": "stderr",
     "output_type": "stream",
     "text": [
      "\n"
     ]
    },
    {
     "name": "stdout",
     "output_type": "stream",
     "text": [
      "\n",
      "      Epoch    GPU_mem   box_loss   cls_loss   dfl_loss  Instances       Size\n"
     ]
    },
    {
     "name": "stderr",
     "output_type": "stream",
     "text": [
      "      2/150      2.28G     0.7613      1.426     0.9881          5        640: 100%|██████████| 21/21 [00:01<00:00, 14.08it/s]\n",
      "                 Class     Images  Instances      Box(P          R      mAP50  mAP50-95): 100%|██████████| 3/3 [00:00<00:00, 12.70it/s]"
     ]
    },
    {
     "name": "stdout",
     "output_type": "stream",
     "text": [
      "                   all         75         76          1      0.378      0.701       0.56\n",
      "\n",
      "      Epoch    GPU_mem   box_loss   cls_loss   dfl_loss  Instances       Size\n"
     ]
    },
    {
     "name": "stderr",
     "output_type": "stream",
     "text": [
      "\n",
      "      3/150      2.28G     0.7467      1.272     0.9897          2        640: 100%|██████████| 21/21 [00:01<00:00, 14.20it/s]\n",
      "                 Class     Images  Instances      Box(P          R      mAP50  mAP50-95): 100%|██████████| 3/3 [00:00<00:00, 12.65it/s]"
     ]
    },
    {
     "name": "stdout",
     "output_type": "stream",
     "text": [
      "                   all         75         76      0.857      0.553      0.671      0.521\n",
      "\n",
      "      Epoch    GPU_mem   box_loss   cls_loss   dfl_loss  Instances       Size\n"
     ]
    },
    {
     "name": "stderr",
     "output_type": "stream",
     "text": [
      "\n",
      "      4/150      2.28G     0.7251      1.166     0.9677          3        640: 100%|██████████| 21/21 [00:01<00:00, 14.43it/s]\n",
      "                 Class     Images  Instances      Box(P          R      mAP50  mAP50-95): 100%|██████████| 3/3 [00:00<00:00, 12.24it/s]"
     ]
    },
    {
     "name": "stdout",
     "output_type": "stream",
     "text": [
      "                   all         75         76      0.337      0.461      0.369      0.212\n"
     ]
    },
    {
     "name": "stderr",
     "output_type": "stream",
     "text": [
      "\n"
     ]
    },
    {
     "name": "stdout",
     "output_type": "stream",
     "text": [
      "\n",
      "      Epoch    GPU_mem   box_loss   cls_loss   dfl_loss  Instances       Size\n"
     ]
    },
    {
     "name": "stderr",
     "output_type": "stream",
     "text": [
      "      5/150      2.28G     0.7581      1.101      0.992          8        640: 100%|██████████| 21/21 [00:01<00:00, 14.57it/s]\n",
      "                 Class     Images  Instances      Box(P          R      mAP50  mAP50-95): 100%|██████████| 3/3 [00:00<00:00, 12.92it/s]"
     ]
    },
    {
     "name": "stdout",
     "output_type": "stream",
     "text": [
      "                   all         75         76      0.312      0.487      0.257      0.118\n",
      "\n",
      "      Epoch    GPU_mem   box_loss   cls_loss   dfl_loss  Instances       Size\n"
     ]
    },
    {
     "name": "stderr",
     "output_type": "stream",
     "text": [
      "\n",
      "      6/150      2.28G     0.7782     0.9836     0.9843          5        640: 100%|██████████| 21/21 [00:01<00:00, 14.52it/s]\n",
      "                 Class     Images  Instances      Box(P          R      mAP50  mAP50-95): 100%|██████████| 3/3 [00:00<00:00, 12.70it/s]"
     ]
    },
    {
     "name": "stdout",
     "output_type": "stream",
     "text": [
      "                   all         75         76      0.405      0.395       0.33      0.207\n"
     ]
    },
    {
     "name": "stderr",
     "output_type": "stream",
     "text": [
      "\n"
     ]
    },
    {
     "name": "stdout",
     "output_type": "stream",
     "text": [
      "\n",
      "      Epoch    GPU_mem   box_loss   cls_loss   dfl_loss  Instances       Size\n"
     ]
    },
    {
     "name": "stderr",
     "output_type": "stream",
     "text": [
      "      7/150      2.28G      0.715     0.9129     0.9413          2        640: 100%|██████████| 21/21 [00:01<00:00, 14.61it/s]\n",
      "                 Class     Images  Instances      Box(P          R      mAP50  mAP50-95): 100%|██████████| 3/3 [00:00<00:00, 12.92it/s]"
     ]
    },
    {
     "name": "stdout",
     "output_type": "stream",
     "text": [
      "                   all         75         76      0.682      0.592      0.626      0.425\n",
      "\n",
      "      Epoch    GPU_mem   box_loss   cls_loss   dfl_loss  Instances       Size\n"
     ]
    },
    {
     "name": "stderr",
     "output_type": "stream",
     "text": [
      "\n",
      "      8/150      2.28G     0.7126     0.8299     0.9751          5        640: 100%|██████████| 21/21 [00:01<00:00, 14.59it/s]\n",
      "                 Class     Images  Instances      Box(P          R      mAP50  mAP50-95): 100%|██████████| 3/3 [00:00<00:00, 13.20it/s]"
     ]
    },
    {
     "name": "stdout",
     "output_type": "stream",
     "text": [
      "                   all         75         76      0.725      0.566      0.696      0.502\n",
      "\n",
      "      Epoch    GPU_mem   box_loss   cls_loss   dfl_loss  Instances       Size\n"
     ]
    },
    {
     "name": "stderr",
     "output_type": "stream",
     "text": [
      "\n",
      "      9/150      2.28G     0.6774     0.7698     0.9793          9        640: 100%|██████████| 21/21 [00:01<00:00, 14.48it/s]\n",
      "                 Class     Images  Instances      Box(P          R      mAP50  mAP50-95): 100%|██████████| 3/3 [00:00<00:00, 12.97it/s]"
     ]
    },
    {
     "name": "stdout",
     "output_type": "stream",
     "text": [
      "                   all         75         76      0.771      0.605      0.711      0.511\n",
      "\n",
      "      Epoch    GPU_mem   box_loss   cls_loss   dfl_loss  Instances       Size\n"
     ]
    },
    {
     "name": "stderr",
     "output_type": "stream",
     "text": [
      "\n",
      "     10/150      2.28G      0.666     0.7464     0.9476          2        640: 100%|██████████| 21/21 [00:01<00:00, 14.64it/s]\n",
      "                 Class     Images  Instances      Box(P          R      mAP50  mAP50-95): 100%|██████████| 3/3 [00:00<00:00, 13.50it/s]"
     ]
    },
    {
     "name": "stdout",
     "output_type": "stream",
     "text": [
      "                   all         75         76      0.898      0.815      0.914      0.627\n",
      "\n",
      "      Epoch    GPU_mem   box_loss   cls_loss   dfl_loss  Instances       Size\n"
     ]
    },
    {
     "name": "stderr",
     "output_type": "stream",
     "text": [
      "\n",
      "     11/150      2.28G     0.7243     0.7677     0.9625          2        640: 100%|██████████| 21/21 [00:01<00:00, 14.61it/s]\n",
      "                 Class     Images  Instances      Box(P          R      mAP50  mAP50-95): 100%|██████████| 3/3 [00:00<00:00, 13.25it/s]"
     ]
    },
    {
     "name": "stdout",
     "output_type": "stream",
     "text": [
      "                   all         75         76      0.772      0.671      0.775      0.572\n",
      "\n",
      "      Epoch    GPU_mem   box_loss   cls_loss   dfl_loss  Instances       Size\n"
     ]
    },
    {
     "name": "stderr",
     "output_type": "stream",
     "text": [
      "\n",
      "     12/150      2.28G     0.6651     0.6561     0.9341          2        640: 100%|██████████| 21/21 [00:01<00:00, 14.50it/s]\n",
      "                 Class     Images  Instances      Box(P          R      mAP50  mAP50-95): 100%|██████████| 3/3 [00:00<00:00, 13.38it/s]"
     ]
    },
    {
     "name": "stdout",
     "output_type": "stream",
     "text": [
      "                   all         75         76      0.782      0.776      0.827      0.663\n",
      "\n",
      "      Epoch    GPU_mem   box_loss   cls_loss   dfl_loss  Instances       Size\n"
     ]
    },
    {
     "name": "stderr",
     "output_type": "stream",
     "text": [
      "\n",
      "     13/150      2.28G      0.622     0.6155     0.9311          5        640: 100%|██████████| 21/21 [00:01<00:00, 14.28it/s]\n",
      "                 Class     Images  Instances      Box(P          R      mAP50  mAP50-95): 100%|██████████| 3/3 [00:00<00:00, 13.50it/s]"
     ]
    },
    {
     "name": "stdout",
     "output_type": "stream",
     "text": [
      "                   all         75         76      0.793      0.763      0.851      0.653\n",
      "\n",
      "      Epoch    GPU_mem   box_loss   cls_loss   dfl_loss  Instances       Size\n"
     ]
    },
    {
     "name": "stderr",
     "output_type": "stream",
     "text": [
      "\n",
      "     14/150      2.28G      0.593     0.5942     0.9183          4        640: 100%|██████████| 21/21 [00:01<00:00, 14.63it/s]\n",
      "                 Class     Images  Instances      Box(P          R      mAP50  mAP50-95): 100%|██████████| 3/3 [00:00<00:00, 13.37it/s]"
     ]
    },
    {
     "name": "stdout",
     "output_type": "stream",
     "text": [
      "                   all         75         76      0.769      0.833      0.855      0.679\n",
      "\n",
      "      Epoch    GPU_mem   box_loss   cls_loss   dfl_loss  Instances       Size\n"
     ]
    },
    {
     "name": "stderr",
     "output_type": "stream",
     "text": [
      "\n",
      "     15/150      2.28G     0.5745     0.5606      0.913          6        640: 100%|██████████| 21/21 [00:01<00:00, 14.29it/s]\n",
      "                 Class     Images  Instances      Box(P          R      mAP50  mAP50-95): 100%|██████████| 3/3 [00:00<00:00, 12.81it/s]"
     ]
    },
    {
     "name": "stdout",
     "output_type": "stream",
     "text": [
      "                   all         75         76      0.871      0.711       0.89      0.666\n"
     ]
    },
    {
     "name": "stderr",
     "output_type": "stream",
     "text": [
      "\n"
     ]
    },
    {
     "name": "stdout",
     "output_type": "stream",
     "text": [
      "\n",
      "      Epoch    GPU_mem   box_loss   cls_loss   dfl_loss  Instances       Size\n"
     ]
    },
    {
     "name": "stderr",
     "output_type": "stream",
     "text": [
      "     16/150      2.28G     0.6308     0.6806     0.9669          2        640: 100%|██████████| 21/21 [00:01<00:00, 14.54it/s]\n",
      "                 Class     Images  Instances      Box(P          R      mAP50  mAP50-95): 100%|██████████| 3/3 [00:00<00:00, 13.38it/s]"
     ]
    },
    {
     "name": "stdout",
     "output_type": "stream",
     "text": [
      "                   all         75         76      0.815       0.87      0.918      0.777\n"
     ]
    },
    {
     "name": "stderr",
     "output_type": "stream",
     "text": [
      "\n"
     ]
    },
    {
     "name": "stdout",
     "output_type": "stream",
     "text": [
      "\n",
      "      Epoch    GPU_mem   box_loss   cls_loss   dfl_loss  Instances       Size\n"
     ]
    },
    {
     "name": "stderr",
     "output_type": "stream",
     "text": [
      "     17/150      2.28G     0.6062     0.5734     0.9319          5        640: 100%|██████████| 21/21 [00:01<00:00, 14.59it/s]\n",
      "                 Class     Images  Instances      Box(P          R      mAP50  mAP50-95): 100%|██████████| 3/3 [00:00<00:00, 13.43it/s]"
     ]
    },
    {
     "name": "stdout",
     "output_type": "stream",
     "text": [
      "                   all         75         76      0.865      0.789      0.901      0.754\n",
      "\n",
      "      Epoch    GPU_mem   box_loss   cls_loss   dfl_loss  Instances       Size\n"
     ]
    },
    {
     "name": "stderr",
     "output_type": "stream",
     "text": [
      "\n",
      "     18/150      2.28G     0.6361     0.5883     0.9366          5        640: 100%|██████████| 21/21 [00:01<00:00, 14.52it/s]\n",
      "                 Class     Images  Instances      Box(P          R      mAP50  mAP50-95): 100%|██████████| 3/3 [00:00<00:00, 12.97it/s]"
     ]
    },
    {
     "name": "stdout",
     "output_type": "stream",
     "text": [
      "                   all         75         76       0.68      0.868      0.853      0.668\n"
     ]
    },
    {
     "name": "stderr",
     "output_type": "stream",
     "text": [
      "\n"
     ]
    },
    {
     "name": "stdout",
     "output_type": "stream",
     "text": [
      "\n",
      "      Epoch    GPU_mem   box_loss   cls_loss   dfl_loss  Instances       Size\n"
     ]
    },
    {
     "name": "stderr",
     "output_type": "stream",
     "text": [
      "     19/150      2.28G     0.6055     0.5636     0.9262          7        640: 100%|██████████| 21/21 [00:01<00:00, 14.69it/s]\n",
      "                 Class     Images  Instances      Box(P          R      mAP50  mAP50-95): 100%|██████████| 3/3 [00:00<00:00, 13.44it/s]"
     ]
    },
    {
     "name": "stdout",
     "output_type": "stream",
     "text": [
      "                   all         75         76      0.727      0.882      0.861       0.73\n",
      "\n",
      "      Epoch    GPU_mem   box_loss   cls_loss   dfl_loss  Instances       Size\n"
     ]
    },
    {
     "name": "stderr",
     "output_type": "stream",
     "text": [
      "\n",
      "     20/150      2.28G     0.5994     0.5271     0.9229          3        640: 100%|██████████| 21/21 [00:01<00:00, 14.56it/s]\n",
      "                 Class     Images  Instances      Box(P          R      mAP50  mAP50-95): 100%|██████████| 3/3 [00:00<00:00, 13.40it/s]"
     ]
    },
    {
     "name": "stdout",
     "output_type": "stream",
     "text": [
      "                   all         75         76       0.77      0.837      0.859      0.692\n",
      "\n",
      "      Epoch    GPU_mem   box_loss   cls_loss   dfl_loss  Instances       Size\n"
     ]
    },
    {
     "name": "stderr",
     "output_type": "stream",
     "text": [
      "\n",
      "     21/150      2.28G     0.6109     0.5579      0.917          5        640: 100%|██████████| 21/21 [00:01<00:00, 14.53it/s]\n",
      "                 Class     Images  Instances      Box(P          R      mAP50  mAP50-95): 100%|██████████| 3/3 [00:00<00:00, 13.38it/s]"
     ]
    },
    {
     "name": "stdout",
     "output_type": "stream",
     "text": [
      "                   all         75         76      0.823      0.915      0.944      0.792\n"
     ]
    },
    {
     "name": "stderr",
     "output_type": "stream",
     "text": [
      "\n"
     ]
    },
    {
     "name": "stdout",
     "output_type": "stream",
     "text": [
      "\n",
      "      Epoch    GPU_mem   box_loss   cls_loss   dfl_loss  Instances       Size\n"
     ]
    },
    {
     "name": "stderr",
     "output_type": "stream",
     "text": [
      "     22/150      2.28G     0.5439     0.4955     0.9096          4        640: 100%|██████████| 21/21 [00:01<00:00, 14.13it/s]\n",
      "                 Class     Images  Instances      Box(P          R      mAP50  mAP50-95): 100%|██████████| 3/3 [00:00<00:00, 13.50it/s]"
     ]
    },
    {
     "name": "stdout",
     "output_type": "stream",
     "text": [
      "                   all         75         76      0.806      0.974      0.906      0.779\n",
      "\n",
      "      Epoch    GPU_mem   box_loss   cls_loss   dfl_loss  Instances       Size\n"
     ]
    },
    {
     "name": "stderr",
     "output_type": "stream",
     "text": [
      "\n",
      "     23/150      2.28G      0.558     0.5046     0.9121          5        640: 100%|██████████| 21/21 [00:01<00:00, 14.73it/s]\n",
      "                 Class     Images  Instances      Box(P          R      mAP50  mAP50-95): 100%|██████████| 3/3 [00:00<00:00, 13.50it/s]"
     ]
    },
    {
     "name": "stdout",
     "output_type": "stream",
     "text": [
      "                   all         75         76      0.818      0.944      0.865      0.736\n",
      "\n",
      "      Epoch    GPU_mem   box_loss   cls_loss   dfl_loss  Instances       Size\n"
     ]
    },
    {
     "name": "stderr",
     "output_type": "stream",
     "text": [
      "\n",
      "     24/150      2.28G      0.578     0.4931     0.9148          4        640: 100%|██████████| 21/21 [00:01<00:00, 14.37it/s]\n",
      "                 Class     Images  Instances      Box(P          R      mAP50  mAP50-95): 100%|██████████| 3/3 [00:00<00:00, 13.56it/s]"
     ]
    },
    {
     "name": "stdout",
     "output_type": "stream",
     "text": [
      "                   all         75         76      0.826      0.876      0.892      0.754\n",
      "\n",
      "      Epoch    GPU_mem   box_loss   cls_loss   dfl_loss  Instances       Size\n"
     ]
    },
    {
     "name": "stderr",
     "output_type": "stream",
     "text": [
      "\n",
      "     25/150      2.28G     0.5598     0.4833     0.9238          5        640: 100%|██████████| 21/21 [00:01<00:00, 14.50it/s]\n",
      "                 Class     Images  Instances      Box(P          R      mAP50  mAP50-95): 100%|██████████| 3/3 [00:00<00:00, 12.97it/s]"
     ]
    },
    {
     "name": "stdout",
     "output_type": "stream",
     "text": [
      "                   all         75         76      0.805      0.895      0.898      0.751\n",
      "\n",
      "      Epoch    GPU_mem   box_loss   cls_loss   dfl_loss  Instances       Size\n"
     ]
    },
    {
     "name": "stderr",
     "output_type": "stream",
     "text": [
      "\n",
      "     26/150      2.28G     0.5833     0.4845      0.898          7        640: 100%|██████████| 21/21 [00:01<00:00, 14.55it/s]\n",
      "                 Class     Images  Instances      Box(P          R      mAP50  mAP50-95): 100%|██████████| 3/3 [00:00<00:00, 13.50it/s]"
     ]
    },
    {
     "name": "stdout",
     "output_type": "stream",
     "text": [
      "                   all         75         76      0.839       0.89       0.91      0.764\n",
      "\n",
      "      Epoch    GPU_mem   box_loss   cls_loss   dfl_loss  Instances       Size\n"
     ]
    },
    {
     "name": "stderr",
     "output_type": "stream",
     "text": [
      "\n",
      "     27/150      2.28G     0.5784     0.5025     0.9105          7        640: 100%|██████████| 21/21 [00:01<00:00, 14.72it/s]\n",
      "                 Class     Images  Instances      Box(P          R      mAP50  mAP50-95): 100%|██████████| 3/3 [00:00<00:00, 13.26it/s]"
     ]
    },
    {
     "name": "stdout",
     "output_type": "stream",
     "text": [
      "                   all         75         76      0.791      0.868      0.889      0.748\n",
      "\n",
      "      Epoch    GPU_mem   box_loss   cls_loss   dfl_loss  Instances       Size\n"
     ]
    },
    {
     "name": "stderr",
     "output_type": "stream",
     "text": [
      "\n",
      "     28/150      2.28G     0.5426      0.444      0.914          6        640: 100%|██████████| 21/21 [00:01<00:00, 14.61it/s]\n",
      "                 Class     Images  Instances      Box(P          R      mAP50  mAP50-95): 100%|██████████| 3/3 [00:00<00:00, 13.50it/s]"
     ]
    },
    {
     "name": "stdout",
     "output_type": "stream",
     "text": [
      "                   all         75         76      0.782      0.829      0.901      0.751\n",
      "\n",
      "      Epoch    GPU_mem   box_loss   cls_loss   dfl_loss  Instances       Size\n"
     ]
    },
    {
     "name": "stderr",
     "output_type": "stream",
     "text": [
      "\n",
      "     29/150      2.28G     0.5322     0.4675     0.8958          6        640: 100%|██████████| 21/21 [00:01<00:00, 14.48it/s]\n",
      "                 Class     Images  Instances      Box(P          R      mAP50  mAP50-95): 100%|██████████| 3/3 [00:00<00:00, 13.50it/s]"
     ]
    },
    {
     "name": "stdout",
     "output_type": "stream",
     "text": [
      "                   all         75         76      0.694      0.927      0.845       0.71\n",
      "\n",
      "      Epoch    GPU_mem   box_loss   cls_loss   dfl_loss  Instances       Size\n"
     ]
    },
    {
     "name": "stderr",
     "output_type": "stream",
     "text": [
      "\n",
      "     30/150      2.28G     0.5475     0.4575      0.897          3        640: 100%|██████████| 21/21 [00:01<00:00, 14.58it/s]\n",
      "                 Class     Images  Instances      Box(P          R      mAP50  mAP50-95): 100%|██████████| 3/3 [00:00<00:00, 13.50it/s]"
     ]
    },
    {
     "name": "stdout",
     "output_type": "stream",
     "text": [
      "                   all         75         76      0.827      0.829      0.857      0.722\n",
      "\n",
      "      Epoch    GPU_mem   box_loss   cls_loss   dfl_loss  Instances       Size\n"
     ]
    },
    {
     "name": "stderr",
     "output_type": "stream",
     "text": [
      "\n",
      "     31/150      2.28G     0.5299     0.4458     0.9035          6        640: 100%|██████████| 21/21 [00:01<00:00, 14.55it/s]\n",
      "                 Class     Images  Instances      Box(P          R      mAP50  mAP50-95): 100%|██████████| 3/3 [00:00<00:00, 13.56it/s]"
     ]
    },
    {
     "name": "stdout",
     "output_type": "stream",
     "text": [
      "                   all         75         76      0.805      0.921      0.916      0.785\n",
      "\n",
      "      Epoch    GPU_mem   box_loss   cls_loss   dfl_loss  Instances       Size\n"
     ]
    },
    {
     "name": "stderr",
     "output_type": "stream",
     "text": [
      "\n",
      "     32/150      2.28G     0.5504     0.4552     0.8905          6        640: 100%|██████████| 21/21 [00:01<00:00, 14.36it/s]\n",
      "                 Class     Images  Instances      Box(P          R      mAP50  mAP50-95): 100%|██████████| 3/3 [00:00<00:00, 13.44it/s]"
     ]
    },
    {
     "name": "stdout",
     "output_type": "stream",
     "text": [
      "                   all         75         76      0.759      0.961      0.887      0.754\n",
      "\n",
      "      Epoch    GPU_mem   box_loss   cls_loss   dfl_loss  Instances       Size\n"
     ]
    },
    {
     "name": "stderr",
     "output_type": "stream",
     "text": [
      "\n",
      "     33/150      2.28G     0.5606     0.4809     0.9024          1        640: 100%|██████████| 21/21 [00:01<00:00, 14.61it/s]\n",
      "                 Class     Images  Instances      Box(P          R      mAP50  mAP50-95): 100%|██████████| 3/3 [00:00<00:00, 13.26it/s]"
     ]
    },
    {
     "name": "stdout",
     "output_type": "stream",
     "text": [
      "                   all         75         76      0.795      0.605      0.801      0.659\n",
      "\n",
      "      Epoch    GPU_mem   box_loss   cls_loss   dfl_loss  Instances       Size\n"
     ]
    },
    {
     "name": "stderr",
     "output_type": "stream",
     "text": [
      "\n",
      "     34/150      2.28G     0.5283     0.4693     0.9121          4        640: 100%|██████████| 21/21 [00:01<00:00, 14.56it/s]\n",
      "                 Class     Images  Instances      Box(P          R      mAP50  mAP50-95): 100%|██████████| 3/3 [00:00<00:00, 13.56it/s]"
     ]
    },
    {
     "name": "stdout",
     "output_type": "stream",
     "text": [
      "                   all         75         76      0.844      0.783      0.872      0.712\n",
      "\n",
      "      Epoch    GPU_mem   box_loss   cls_loss   dfl_loss  Instances       Size\n"
     ]
    },
    {
     "name": "stderr",
     "output_type": "stream",
     "text": [
      "\n",
      "     35/150      2.28G     0.5037     0.4297     0.8948          5        640: 100%|██████████| 21/21 [00:01<00:00, 15.11it/s]\n",
      "                 Class     Images  Instances      Box(P          R      mAP50  mAP50-95): 100%|██████████| 3/3 [00:00<00:00, 13.94it/s]"
     ]
    },
    {
     "name": "stdout",
     "output_type": "stream",
     "text": [
      "                   all         75         76      0.878      0.852      0.925      0.802\n",
      "\n",
      "      Epoch    GPU_mem   box_loss   cls_loss   dfl_loss  Instances       Size\n"
     ]
    },
    {
     "name": "stderr",
     "output_type": "stream",
     "text": [
      "\n",
      "     36/150      2.28G      0.525     0.4322     0.8973          5        640: 100%|██████████| 21/21 [00:01<00:00, 15.06it/s]\n",
      "                 Class     Images  Instances      Box(P          R      mAP50  mAP50-95): 100%|██████████| 3/3 [00:00<00:00, 13.94it/s]"
     ]
    },
    {
     "name": "stdout",
     "output_type": "stream",
     "text": [
      "                   all         75         76      0.886      0.934      0.963      0.843\n",
      "\n",
      "      Epoch    GPU_mem   box_loss   cls_loss   dfl_loss  Instances       Size\n"
     ]
    },
    {
     "name": "stderr",
     "output_type": "stream",
     "text": [
      "\n",
      "     37/150      2.28G     0.5126     0.4116     0.8978          6        640: 100%|██████████| 21/21 [00:01<00:00, 15.09it/s]\n",
      "                 Class     Images  Instances      Box(P          R      mAP50  mAP50-95): 100%|██████████| 3/3 [00:00<00:00, 14.00it/s]"
     ]
    },
    {
     "name": "stdout",
     "output_type": "stream",
     "text": [
      "                   all         75         76      0.851      0.908       0.94      0.798\n",
      "\n",
      "      Epoch    GPU_mem   box_loss   cls_loss   dfl_loss  Instances       Size\n"
     ]
    },
    {
     "name": "stderr",
     "output_type": "stream",
     "text": [
      "\n",
      "     38/150      2.28G     0.5098     0.4154     0.8889          2        640: 100%|██████████| 21/21 [00:01<00:00, 15.14it/s]\n",
      "                 Class     Images  Instances      Box(P          R      mAP50  mAP50-95): 100%|██████████| 3/3 [00:00<00:00, 14.12it/s]"
     ]
    },
    {
     "name": "stdout",
     "output_type": "stream",
     "text": [
      "                   all         75         76      0.791      0.947      0.911        0.8\n",
      "\n",
      "      Epoch    GPU_mem   box_loss   cls_loss   dfl_loss  Instances       Size\n"
     ]
    },
    {
     "name": "stderr",
     "output_type": "stream",
     "text": [
      "\n",
      "     39/150      2.28G     0.5214     0.4209     0.8951          4        640: 100%|██████████| 21/21 [00:01<00:00, 14.99it/s]\n",
      "                 Class     Images  Instances      Box(P          R      mAP50  mAP50-95): 100%|██████████| 3/3 [00:00<00:00, 14.07it/s]"
     ]
    },
    {
     "name": "stdout",
     "output_type": "stream",
     "text": [
      "                   all         75         76      0.935      0.943      0.977      0.862\n",
      "\n",
      "      Epoch    GPU_mem   box_loss   cls_loss   dfl_loss  Instances       Size\n"
     ]
    },
    {
     "name": "stderr",
     "output_type": "stream",
     "text": [
      "\n",
      "     40/150      2.28G     0.4961     0.4164     0.8729          2        640: 100%|██████████| 21/21 [00:01<00:00, 15.06it/s]\n",
      "                 Class     Images  Instances      Box(P          R      mAP50  mAP50-95): 100%|██████████| 3/3 [00:00<00:00, 13.94it/s]"
     ]
    },
    {
     "name": "stdout",
     "output_type": "stream",
     "text": [
      "                   all         75         76      0.958      0.907      0.976      0.828\n",
      "\n",
      "      Epoch    GPU_mem   box_loss   cls_loss   dfl_loss  Instances       Size\n"
     ]
    },
    {
     "name": "stderr",
     "output_type": "stream",
     "text": [
      "\n",
      "     41/150      2.28G     0.4965     0.4071     0.8958          7        640: 100%|██████████| 21/21 [00:01<00:00, 15.02it/s]\n",
      "                 Class     Images  Instances      Box(P          R      mAP50  mAP50-95): 100%|██████████| 3/3 [00:00<00:00, 14.12it/s]"
     ]
    },
    {
     "name": "stdout",
     "output_type": "stream",
     "text": [
      "                   all         75         76      0.941      0.974      0.971      0.839\n",
      "\n",
      "      Epoch    GPU_mem   box_loss   cls_loss   dfl_loss  Instances       Size\n"
     ]
    },
    {
     "name": "stderr",
     "output_type": "stream",
     "text": [
      "\n",
      "     42/150      2.28G     0.5322     0.4176       0.89          5        640: 100%|██████████| 21/21 [00:01<00:00, 15.11it/s]\n",
      "                 Class     Images  Instances      Box(P          R      mAP50  mAP50-95): 100%|██████████| 3/3 [00:00<00:00, 13.56it/s]"
     ]
    },
    {
     "name": "stdout",
     "output_type": "stream",
     "text": [
      "                   all         75         76      0.819       0.95      0.941      0.765\n",
      "\n",
      "      Epoch    GPU_mem   box_loss   cls_loss   dfl_loss  Instances       Size\n"
     ]
    },
    {
     "name": "stderr",
     "output_type": "stream",
     "text": [
      "\n",
      "     43/150      2.28G     0.5089     0.4035     0.8793          4        640: 100%|██████████| 21/21 [00:01<00:00, 15.03it/s]\n",
      "                 Class     Images  Instances      Box(P          R      mAP50  mAP50-95): 100%|██████████| 3/3 [00:00<00:00, 13.94it/s]"
     ]
    },
    {
     "name": "stdout",
     "output_type": "stream",
     "text": [
      "                   all         75         76      0.861      0.897      0.915      0.802\n",
      "\n",
      "      Epoch    GPU_mem   box_loss   cls_loss   dfl_loss  Instances       Size\n"
     ]
    },
    {
     "name": "stderr",
     "output_type": "stream",
     "text": [
      "\n",
      "     44/150      2.28G     0.5277     0.4073     0.9025          4        640: 100%|██████████| 21/21 [00:01<00:00, 15.03it/s]\n",
      "                 Class     Images  Instances      Box(P          R      mAP50  mAP50-95): 100%|██████████| 3/3 [00:00<00:00, 13.26it/s]"
     ]
    },
    {
     "name": "stdout",
     "output_type": "stream",
     "text": [
      "                   all         75         76      0.828      0.934      0.907      0.777\n",
      "\n",
      "      Epoch    GPU_mem   box_loss   cls_loss   dfl_loss  Instances       Size\n"
     ]
    },
    {
     "name": "stderr",
     "output_type": "stream",
     "text": [
      "\n",
      "     45/150      2.28G     0.5186     0.3982     0.8806          2        640: 100%|██████████| 21/21 [00:01<00:00, 15.02it/s]\n",
      "                 Class     Images  Instances      Box(P          R      mAP50  mAP50-95): 100%|██████████| 3/3 [00:00<00:00, 13.50it/s]"
     ]
    },
    {
     "name": "stdout",
     "output_type": "stream",
     "text": [
      "                   all         75         76      0.813      0.858      0.895      0.793\n",
      "\n",
      "      Epoch    GPU_mem   box_loss   cls_loss   dfl_loss  Instances       Size\n"
     ]
    },
    {
     "name": "stderr",
     "output_type": "stream",
     "text": [
      "\n",
      "     46/150      2.28G     0.5034     0.4215     0.8857          8        640: 100%|██████████| 21/21 [00:01<00:00, 14.63it/s]\n",
      "                 Class     Images  Instances      Box(P          R      mAP50  mAP50-95): 100%|██████████| 3/3 [00:00<00:00, 13.68it/s]"
     ]
    },
    {
     "name": "stdout",
     "output_type": "stream",
     "text": [
      "                   all         75         76      0.728      0.737      0.777      0.653\n",
      "\n",
      "      Epoch    GPU_mem   box_loss   cls_loss   dfl_loss  Instances       Size\n"
     ]
    },
    {
     "name": "stderr",
     "output_type": "stream",
     "text": [
      "\n",
      "     47/150      2.28G     0.4904     0.4003     0.8869          5        640: 100%|██████████| 21/21 [00:01<00:00, 14.71it/s]\n",
      "                 Class     Images  Instances      Box(P          R      mAP50  mAP50-95): 100%|██████████| 3/3 [00:00<00:00, 13.09it/s]"
     ]
    },
    {
     "name": "stdout",
     "output_type": "stream",
     "text": [
      "                   all         75         76      0.821      0.783       0.88       0.74\n",
      "\n",
      "      Epoch    GPU_mem   box_loss   cls_loss   dfl_loss  Instances       Size\n"
     ]
    },
    {
     "name": "stderr",
     "output_type": "stream",
     "text": [
      "\n",
      "     48/150      2.28G     0.4626     0.3682     0.8721          5        640: 100%|██████████| 21/21 [00:01<00:00, 14.53it/s]\n",
      "                 Class     Images  Instances      Box(P          R      mAP50  mAP50-95): 100%|██████████| 3/3 [00:00<00:00, 13.94it/s]"
     ]
    },
    {
     "name": "stdout",
     "output_type": "stream",
     "text": [
      "                   all         75         76      0.833       0.92      0.918      0.783\n",
      "\n",
      "      Epoch    GPU_mem   box_loss   cls_loss   dfl_loss  Instances       Size\n"
     ]
    },
    {
     "name": "stderr",
     "output_type": "stream",
     "text": [
      "\n",
      "     49/150      2.28G     0.4705     0.3767     0.8636          4        640: 100%|██████████| 21/21 [00:01<00:00, 14.40it/s]\n",
      "                 Class     Images  Instances      Box(P          R      mAP50  mAP50-95): 100%|██████████| 3/3 [00:00<00:00, 13.68it/s]"
     ]
    },
    {
     "name": "stdout",
     "output_type": "stream",
     "text": [
      "                   all         75         76      0.813      0.934      0.937      0.796\n",
      "\n",
      "      Epoch    GPU_mem   box_loss   cls_loss   dfl_loss  Instances       Size\n"
     ]
    },
    {
     "name": "stderr",
     "output_type": "stream",
     "text": [
      "\n",
      "     50/150      2.28G     0.5021     0.4128      0.895          2        640: 100%|██████████| 21/21 [00:01<00:00, 14.48it/s]\n",
      "                 Class     Images  Instances      Box(P          R      mAP50  mAP50-95): 100%|██████████| 3/3 [00:00<00:00, 13.62it/s]"
     ]
    },
    {
     "name": "stdout",
     "output_type": "stream",
     "text": [
      "                   all         75         76      0.801      0.903      0.904      0.779\n",
      "\n",
      "      Epoch    GPU_mem   box_loss   cls_loss   dfl_loss  Instances       Size\n"
     ]
    },
    {
     "name": "stderr",
     "output_type": "stream",
     "text": [
      "\n",
      "     51/150      2.28G     0.4675     0.3958     0.8789          5        640: 100%|██████████| 21/21 [00:01<00:00, 14.55it/s]\n",
      "                 Class     Images  Instances      Box(P          R      mAP50  mAP50-95): 100%|██████████| 3/3 [00:00<00:00, 13.38it/s]"
     ]
    },
    {
     "name": "stdout",
     "output_type": "stream",
     "text": [
      "                   all         75         76      0.895      0.947      0.937      0.824\n",
      "\n",
      "      Epoch    GPU_mem   box_loss   cls_loss   dfl_loss  Instances       Size\n"
     ]
    },
    {
     "name": "stderr",
     "output_type": "stream",
     "text": [
      "\n",
      "     52/150      2.28G     0.5245      0.412     0.8828          5        640: 100%|██████████| 21/21 [00:01<00:00, 14.41it/s]\n",
      "                 Class     Images  Instances      Box(P          R      mAP50  mAP50-95): 100%|██████████| 3/3 [00:00<00:00, 13.38it/s]"
     ]
    },
    {
     "name": "stdout",
     "output_type": "stream",
     "text": [
      "                   all         75         76      0.732      0.829       0.86      0.727\n",
      "\n",
      "      Epoch    GPU_mem   box_loss   cls_loss   dfl_loss  Instances       Size\n"
     ]
    },
    {
     "name": "stderr",
     "output_type": "stream",
     "text": [
      "\n",
      "     53/150      2.28G     0.4892     0.4028      0.902          4        640: 100%|██████████| 21/21 [00:01<00:00, 14.55it/s]\n",
      "                 Class     Images  Instances      Box(P          R      mAP50  mAP50-95): 100%|██████████| 3/3 [00:00<00:00, 13.44it/s]"
     ]
    },
    {
     "name": "stdout",
     "output_type": "stream",
     "text": [
      "                   all         75         76      0.859      0.961      0.939      0.815\n",
      "\n",
      "      Epoch    GPU_mem   box_loss   cls_loss   dfl_loss  Instances       Size\n"
     ]
    },
    {
     "name": "stderr",
     "output_type": "stream",
     "text": [
      "\n",
      "     54/150      2.28G     0.4977     0.3776     0.8942          8        640: 100%|██████████| 21/21 [00:01<00:00, 14.03it/s]\n",
      "                 Class     Images  Instances      Box(P          R      mAP50  mAP50-95): 100%|██████████| 3/3 [00:00<00:00, 13.50it/s]"
     ]
    },
    {
     "name": "stdout",
     "output_type": "stream",
     "text": [
      "                   all         75         76      0.909      0.915      0.926      0.825\n",
      "\n",
      "      Epoch    GPU_mem   box_loss   cls_loss   dfl_loss  Instances       Size\n"
     ]
    },
    {
     "name": "stderr",
     "output_type": "stream",
     "text": [
      "\n",
      "     55/150      2.28G       0.48     0.3672     0.8768          5        640: 100%|██████████| 21/21 [00:01<00:00, 14.95it/s]\n",
      "                 Class     Images  Instances      Box(P          R      mAP50  mAP50-95): 100%|██████████| 3/3 [00:00<00:00, 13.38it/s]"
     ]
    },
    {
     "name": "stdout",
     "output_type": "stream",
     "text": [
      "                   all         75         76      0.868      0.947      0.937      0.831\n",
      "\n",
      "      Epoch    GPU_mem   box_loss   cls_loss   dfl_loss  Instances       Size\n"
     ]
    },
    {
     "name": "stderr",
     "output_type": "stream",
     "text": [
      "\n",
      "     56/150      2.28G     0.4744     0.3683     0.8828          4        640: 100%|██████████| 21/21 [00:01<00:00, 14.96it/s]\n",
      "                 Class     Images  Instances      Box(P          R      mAP50  mAP50-95): 100%|██████████| 3/3 [00:00<00:00, 13.94it/s]"
     ]
    },
    {
     "name": "stdout",
     "output_type": "stream",
     "text": [
      "                   all         75         76      0.933      0.914      0.968      0.839\n",
      "\n",
      "      Epoch    GPU_mem   box_loss   cls_loss   dfl_loss  Instances       Size\n"
     ]
    },
    {
     "name": "stderr",
     "output_type": "stream",
     "text": [
      "\n",
      "     57/150      2.28G     0.4603     0.3655      0.871          4        640: 100%|██████████| 21/21 [00:01<00:00, 15.25it/s]\n",
      "                 Class     Images  Instances      Box(P          R      mAP50  mAP50-95): 100%|██████████| 3/3 [00:00<00:00, 13.80it/s]"
     ]
    },
    {
     "name": "stdout",
     "output_type": "stream",
     "text": [
      "                   all         75         76       0.88      0.974       0.96      0.848\n",
      "\n",
      "      Epoch    GPU_mem   box_loss   cls_loss   dfl_loss  Instances       Size\n"
     ]
    },
    {
     "name": "stderr",
     "output_type": "stream",
     "text": [
      "\n",
      "     58/150      2.28G     0.4611     0.3635     0.8856          7        640: 100%|██████████| 21/21 [00:01<00:00, 15.03it/s]\n",
      "                 Class     Images  Instances      Box(P          R      mAP50  mAP50-95): 100%|██████████| 3/3 [00:00<00:00, 13.87it/s]"
     ]
    },
    {
     "name": "stdout",
     "output_type": "stream",
     "text": [
      "                   all         75         76      0.884      0.921      0.948      0.817\n",
      "\n",
      "      Epoch    GPU_mem   box_loss   cls_loss   dfl_loss  Instances       Size\n"
     ]
    },
    {
     "name": "stderr",
     "output_type": "stream",
     "text": [
      "\n",
      "     59/150      2.28G     0.4779     0.3936     0.8693          2        640: 100%|██████████| 21/21 [00:01<00:00, 15.18it/s]\n",
      "                 Class     Images  Instances      Box(P          R      mAP50  mAP50-95): 100%|██████████| 3/3 [00:00<00:00, 14.27it/s]"
     ]
    },
    {
     "name": "stdout",
     "output_type": "stream",
     "text": [
      "                   all         75         76      0.912      0.957       0.94      0.825\n",
      "\n",
      "      Epoch    GPU_mem   box_loss   cls_loss   dfl_loss  Instances       Size\n"
     ]
    },
    {
     "name": "stderr",
     "output_type": "stream",
     "text": [
      "\n",
      "     60/150      2.28G     0.4856      0.375     0.8938          8        640: 100%|██████████| 21/21 [00:01<00:00, 14.86it/s]\n",
      "                 Class     Images  Instances      Box(P          R      mAP50  mAP50-95): 100%|██████████| 3/3 [00:00<00:00, 14.13it/s]"
     ]
    },
    {
     "name": "stdout",
     "output_type": "stream",
     "text": [
      "                   all         75         76      0.913       0.97       0.92      0.805\n",
      "\n",
      "      Epoch    GPU_mem   box_loss   cls_loss   dfl_loss  Instances       Size\n"
     ]
    },
    {
     "name": "stderr",
     "output_type": "stream",
     "text": [
      "\n",
      "     61/150      2.28G       0.45     0.3632     0.8769          3        640: 100%|██████████| 21/21 [00:01<00:00, 15.14it/s]\n",
      "                 Class     Images  Instances      Box(P          R      mAP50  mAP50-95): 100%|██████████| 3/3 [00:00<00:00, 14.20it/s]"
     ]
    },
    {
     "name": "stdout",
     "output_type": "stream",
     "text": [
      "                   all         75         76      0.935      0.947      0.972      0.819\n",
      "\n",
      "      Epoch    GPU_mem   box_loss   cls_loss   dfl_loss  Instances       Size\n"
     ]
    },
    {
     "name": "stderr",
     "output_type": "stream",
     "text": [
      "\n",
      "     62/150      2.28G     0.4463     0.3648     0.8655          1        640: 100%|██████████| 21/21 [00:01<00:00, 15.08it/s]\n",
      "                 Class     Images  Instances      Box(P          R      mAP50  mAP50-95): 100%|██████████| 3/3 [00:00<00:00, 14.13it/s]"
     ]
    },
    {
     "name": "stdout",
     "output_type": "stream",
     "text": [
      "                   all         75         76      0.892      0.934      0.943      0.803\n",
      "\n",
      "      Epoch    GPU_mem   box_loss   cls_loss   dfl_loss  Instances       Size\n"
     ]
    },
    {
     "name": "stderr",
     "output_type": "stream",
     "text": [
      "\n",
      "     63/150      2.28G      0.449     0.3455     0.8716          3        640: 100%|██████████| 21/21 [00:01<00:00, 15.17it/s]\n",
      "                 Class     Images  Instances      Box(P          R      mAP50  mAP50-95): 100%|██████████| 3/3 [00:00<00:00, 14.20it/s]"
     ]
    },
    {
     "name": "stdout",
     "output_type": "stream",
     "text": [
      "                   all         75         76      0.929      0.895      0.955      0.809\n",
      "\n",
      "      Epoch    GPU_mem   box_loss   cls_loss   dfl_loss  Instances       Size\n"
     ]
    },
    {
     "name": "stderr",
     "output_type": "stream",
     "text": [
      "\n",
      "     64/150      2.28G     0.4864     0.4007     0.8896          4        640: 100%|██████████| 21/21 [00:01<00:00, 15.01it/s]\n",
      "                 Class     Images  Instances      Box(P          R      mAP50  mAP50-95): 100%|██████████| 3/3 [00:00<00:00, 14.07it/s]"
     ]
    },
    {
     "name": "stdout",
     "output_type": "stream",
     "text": [
      "                   all         75         76      0.906      0.895      0.949      0.834\n",
      "\n",
      "      Epoch    GPU_mem   box_loss   cls_loss   dfl_loss  Instances       Size\n"
     ]
    },
    {
     "name": "stderr",
     "output_type": "stream",
     "text": [
      "\n",
      "     65/150      2.28G     0.4437     0.3577      0.867          5        640: 100%|██████████| 21/21 [00:01<00:00, 14.99it/s]\n",
      "                 Class     Images  Instances      Box(P          R      mAP50  mAP50-95): 100%|██████████| 3/3 [00:00<00:00, 13.87it/s]"
     ]
    },
    {
     "name": "stdout",
     "output_type": "stream",
     "text": [
      "                   all         75         76      0.847       0.95      0.915      0.789\n",
      "\n",
      "      Epoch    GPU_mem   box_loss   cls_loss   dfl_loss  Instances       Size\n"
     ]
    },
    {
     "name": "stderr",
     "output_type": "stream",
     "text": [
      "\n",
      "     66/150      2.28G     0.4469     0.3543     0.8874          2        640: 100%|██████████| 21/21 [00:01<00:00, 15.18it/s]\n",
      "                 Class     Images  Instances      Box(P          R      mAP50  mAP50-95): 100%|██████████| 3/3 [00:00<00:00, 14.07it/s]"
     ]
    },
    {
     "name": "stdout",
     "output_type": "stream",
     "text": [
      "                   all         75         76      0.935      0.943      0.934      0.808\n",
      "\n",
      "      Epoch    GPU_mem   box_loss   cls_loss   dfl_loss  Instances       Size\n"
     ]
    },
    {
     "name": "stderr",
     "output_type": "stream",
     "text": [
      "\n",
      "     67/150      2.28G     0.4458     0.3573     0.8728          5        640: 100%|██████████| 21/21 [00:01<00:00, 15.04it/s]\n",
      "                 Class     Images  Instances      Box(P          R      mAP50  mAP50-95): 100%|██████████| 3/3 [00:00<00:00, 13.86it/s]"
     ]
    },
    {
     "name": "stdout",
     "output_type": "stream",
     "text": [
      "                   all         75         76      0.932      0.961      0.939      0.813\n",
      "\n",
      "      Epoch    GPU_mem   box_loss   cls_loss   dfl_loss  Instances       Size\n"
     ]
    },
    {
     "name": "stderr",
     "output_type": "stream",
     "text": [
      "\n",
      "     68/150      2.28G     0.4632     0.3526     0.8696          6        640: 100%|██████████| 21/21 [00:01<00:00, 15.00it/s]\n",
      "                 Class     Images  Instances      Box(P          R      mAP50  mAP50-95): 100%|██████████| 3/3 [00:00<00:00, 14.06it/s]"
     ]
    },
    {
     "name": "stdout",
     "output_type": "stream",
     "text": [
      "                   all         75         76      0.868      0.947      0.925      0.796\n",
      "\n",
      "      Epoch    GPU_mem   box_loss   cls_loss   dfl_loss  Instances       Size\n"
     ]
    },
    {
     "name": "stderr",
     "output_type": "stream",
     "text": [
      "\n",
      "     69/150      2.28G      0.439     0.3342     0.8669          5        640: 100%|██████████| 21/21 [00:01<00:00, 15.15it/s]\n",
      "                 Class     Images  Instances      Box(P          R      mAP50  mAP50-95): 100%|██████████| 3/3 [00:00<00:00, 14.00it/s]"
     ]
    },
    {
     "name": "stdout",
     "output_type": "stream",
     "text": [
      "                   all         75         76      0.935      0.974       0.95      0.806\n",
      "\n",
      "      Epoch    GPU_mem   box_loss   cls_loss   dfl_loss  Instances       Size\n"
     ]
    },
    {
     "name": "stderr",
     "output_type": "stream",
     "text": [
      "\n",
      "     70/150      2.28G     0.4467     0.3542     0.8671          5        640: 100%|██████████| 21/21 [00:01<00:00, 15.10it/s]\n",
      "                 Class     Images  Instances      Box(P          R      mAP50  mAP50-95): 100%|██████████| 3/3 [00:00<00:00, 14.20it/s]"
     ]
    },
    {
     "name": "stdout",
     "output_type": "stream",
     "text": [
      "                   all         75         76      0.872       0.99      0.979       0.87\n",
      "\n",
      "      Epoch    GPU_mem   box_loss   cls_loss   dfl_loss  Instances       Size\n"
     ]
    },
    {
     "name": "stderr",
     "output_type": "stream",
     "text": [
      "\n",
      "     71/150      2.28G     0.4557     0.3623     0.8818          4        640: 100%|██████████| 21/21 [00:01<00:00, 15.02it/s]\n",
      "                 Class     Images  Instances      Box(P          R      mAP50  mAP50-95): 100%|██████████| 3/3 [00:00<00:00, 14.07it/s]"
     ]
    },
    {
     "name": "stdout",
     "output_type": "stream",
     "text": [
      "                   all         75         76      0.956      0.868      0.963      0.856\n",
      "\n",
      "      Epoch    GPU_mem   box_loss   cls_loss   dfl_loss  Instances       Size\n"
     ]
    },
    {
     "name": "stderr",
     "output_type": "stream",
     "text": [
      "\n",
      "     72/150      2.28G     0.4588     0.3582     0.8753          5        640: 100%|██████████| 21/21 [00:01<00:00, 14.97it/s]\n",
      "                 Class     Images  Instances      Box(P          R      mAP50  mAP50-95): 100%|██████████| 3/3 [00:00<00:00, 14.33it/s]"
     ]
    },
    {
     "name": "stdout",
     "output_type": "stream",
     "text": [
      "                   all         75         76      0.939      0.855      0.943      0.819\n",
      "\n",
      "      Epoch    GPU_mem   box_loss   cls_loss   dfl_loss  Instances       Size\n"
     ]
    },
    {
     "name": "stderr",
     "output_type": "stream",
     "text": [
      "\n",
      "     73/150      2.28G     0.4251     0.3296     0.8767          6        640: 100%|██████████| 21/21 [00:01<00:00, 15.23it/s]\n",
      "                 Class     Images  Instances      Box(P          R      mAP50  mAP50-95): 100%|██████████| 3/3 [00:00<00:00, 14.20it/s]"
     ]
    },
    {
     "name": "stdout",
     "output_type": "stream",
     "text": [
      "                   all         75         76      0.853      0.992      0.942      0.818\n",
      "\n",
      "      Epoch    GPU_mem   box_loss   cls_loss   dfl_loss  Instances       Size\n"
     ]
    },
    {
     "name": "stderr",
     "output_type": "stream",
     "text": [
      "\n",
      "     74/150      2.28G     0.4542     0.3583     0.8794          5        640: 100%|██████████| 21/21 [00:01<00:00, 15.02it/s]\n",
      "                 Class     Images  Instances      Box(P          R      mAP50  mAP50-95): 100%|██████████| 3/3 [00:00<00:00, 14.00it/s]"
     ]
    },
    {
     "name": "stdout",
     "output_type": "stream",
     "text": [
      "                   all         75         76      0.936      0.956      0.969      0.822\n",
      "\n",
      "      Epoch    GPU_mem   box_loss   cls_loss   dfl_loss  Instances       Size\n"
     ]
    },
    {
     "name": "stderr",
     "output_type": "stream",
     "text": [
      "\n",
      "     75/150      2.28G     0.4618     0.3672     0.8866          3        640: 100%|██████████| 21/21 [00:01<00:00, 15.10it/s]\n",
      "                 Class     Images  Instances      Box(P          R      mAP50  mAP50-95): 100%|██████████| 3/3 [00:00<00:00, 13.74it/s]"
     ]
    },
    {
     "name": "stdout",
     "output_type": "stream",
     "text": [
      "                   all         75         76      0.942      0.934      0.958      0.835\n",
      "\n",
      "      Epoch    GPU_mem   box_loss   cls_loss   dfl_loss  Instances       Size\n"
     ]
    },
    {
     "name": "stderr",
     "output_type": "stream",
     "text": [
      "\n",
      "     76/150      2.28G     0.4397     0.3262     0.8739          4        640: 100%|██████████| 21/21 [00:01<00:00, 14.73it/s]\n",
      "                 Class     Images  Instances      Box(P          R      mAP50  mAP50-95): 100%|██████████| 3/3 [00:00<00:00, 13.74it/s]"
     ]
    },
    {
     "name": "stdout",
     "output_type": "stream",
     "text": [
      "                   all         75         76      0.957      0.947       0.97      0.864\n",
      "\n",
      "      Epoch    GPU_mem   box_loss   cls_loss   dfl_loss  Instances       Size\n"
     ]
    },
    {
     "name": "stderr",
     "output_type": "stream",
     "text": [
      "\n",
      "     77/150      2.28G      0.453     0.3351     0.8882          5        640: 100%|██████████| 21/21 [00:01<00:00, 15.10it/s]\n",
      "                 Class     Images  Instances      Box(P          R      mAP50  mAP50-95): 100%|██████████| 3/3 [00:00<00:00, 14.07it/s]"
     ]
    },
    {
     "name": "stdout",
     "output_type": "stream",
     "text": [
      "                   all         75         76      0.953      0.947       0.96       0.86\n",
      "\n",
      "      Epoch    GPU_mem   box_loss   cls_loss   dfl_loss  Instances       Size\n"
     ]
    },
    {
     "name": "stderr",
     "output_type": "stream",
     "text": [
      "\n",
      "     78/150      2.28G     0.4431     0.3271     0.8684          4        640: 100%|██████████| 21/21 [00:01<00:00, 15.16it/s]\n",
      "                 Class     Images  Instances      Box(P          R      mAP50  mAP50-95): 100%|██████████| 3/3 [00:00<00:00, 13.94it/s]"
     ]
    },
    {
     "name": "stdout",
     "output_type": "stream",
     "text": [
      "                   all         75         76      0.847      0.908      0.919      0.813\n",
      "\n",
      "      Epoch    GPU_mem   box_loss   cls_loss   dfl_loss  Instances       Size\n"
     ]
    },
    {
     "name": "stderr",
     "output_type": "stream",
     "text": [
      "\n",
      "     79/150      2.28G     0.4655     0.3406     0.8749          4        640: 100%|██████████| 21/21 [00:01<00:00, 15.65it/s]\n",
      "                 Class     Images  Instances      Box(P          R      mAP50  mAP50-95): 100%|██████████| 3/3 [00:00<00:00, 14.27it/s]"
     ]
    },
    {
     "name": "stdout",
     "output_type": "stream",
     "text": [
      "                   all         75         76      0.906      0.947       0.97      0.862\n",
      "\n",
      "      Epoch    GPU_mem   box_loss   cls_loss   dfl_loss  Instances       Size\n"
     ]
    },
    {
     "name": "stderr",
     "output_type": "stream",
     "text": [
      "\n",
      "     80/150      2.28G     0.4283     0.3203     0.8663          5        640: 100%|██████████| 21/21 [00:01<00:00, 15.35it/s]\n",
      "                 Class     Images  Instances      Box(P          R      mAP50  mAP50-95): 100%|██████████| 3/3 [00:00<00:00, 13.68it/s]"
     ]
    },
    {
     "name": "stdout",
     "output_type": "stream",
     "text": [
      "                   all         75         76      0.909      0.987      0.967       0.85\n",
      "\n",
      "      Epoch    GPU_mem   box_loss   cls_loss   dfl_loss  Instances       Size\n"
     ]
    },
    {
     "name": "stderr",
     "output_type": "stream",
     "text": [
      "\n",
      "     81/150      2.28G     0.4511     0.3217     0.8745          4        640: 100%|██████████| 21/21 [00:01<00:00, 14.47it/s]\n",
      "                 Class     Images  Instances      Box(P          R      mAP50  mAP50-95): 100%|██████████| 3/3 [00:00<00:00, 13.94it/s]"
     ]
    },
    {
     "name": "stdout",
     "output_type": "stream",
     "text": [
      "                   all         75         76      0.946      0.961      0.955      0.827\n",
      "\n",
      "      Epoch    GPU_mem   box_loss   cls_loss   dfl_loss  Instances       Size\n"
     ]
    },
    {
     "name": "stderr",
     "output_type": "stream",
     "text": [
      "\n",
      "     82/150      2.28G     0.4238     0.3068     0.8671          4        640: 100%|██████████| 21/21 [00:01<00:00, 14.57it/s]\n",
      "                 Class     Images  Instances      Box(P          R      mAP50  mAP50-95): 100%|██████████| 3/3 [00:00<00:00, 12.80it/s]"
     ]
    },
    {
     "name": "stdout",
     "output_type": "stream",
     "text": [
      "                   all         75         76      0.962      0.997      0.966      0.813\n",
      "\n",
      "      Epoch    GPU_mem   box_loss   cls_loss   dfl_loss  Instances       Size\n"
     ]
    },
    {
     "name": "stderr",
     "output_type": "stream",
     "text": [
      "\n",
      "     83/150      2.28G     0.4196     0.3172     0.8572          4        640: 100%|██████████| 21/21 [00:01<00:00, 14.44it/s]\n",
      "                 Class     Images  Instances      Box(P          R      mAP50  mAP50-95): 100%|██████████| 3/3 [00:00<00:00, 13.74it/s]"
     ]
    },
    {
     "name": "stdout",
     "output_type": "stream",
     "text": [
      "                   all         75         76       0.88          1      0.959      0.828\n",
      "\n",
      "      Epoch    GPU_mem   box_loss   cls_loss   dfl_loss  Instances       Size\n"
     ]
    },
    {
     "name": "stderr",
     "output_type": "stream",
     "text": [
      "\n",
      "     84/150      2.28G     0.4127      0.307     0.8638          4        640: 100%|██████████| 21/21 [00:01<00:00, 14.21it/s]\n",
      "                 Class     Images  Instances      Box(P          R      mAP50  mAP50-95): 100%|██████████| 3/3 [00:00<00:00, 13.67it/s]"
     ]
    },
    {
     "name": "stdout",
     "output_type": "stream",
     "text": [
      "                   all         75         76      0.914      0.934      0.958      0.816\n",
      "\n",
      "      Epoch    GPU_mem   box_loss   cls_loss   dfl_loss  Instances       Size\n"
     ]
    },
    {
     "name": "stderr",
     "output_type": "stream",
     "text": [
      "\n",
      "     85/150      2.28G     0.4297     0.5741     0.8414          0        640: 100%|██████████| 21/21 [00:01<00:00, 14.56it/s]\n",
      "                 Class     Images  Instances      Box(P          R      mAP50  mAP50-95): 100%|██████████| 3/3 [00:00<00:00, 13.93it/s]"
     ]
    },
    {
     "name": "stdout",
     "output_type": "stream",
     "text": [
      "                   all         75         76      0.951      0.882       0.95      0.825\n",
      "\n",
      "      Epoch    GPU_mem   box_loss   cls_loss   dfl_loss  Instances       Size\n"
     ]
    },
    {
     "name": "stderr",
     "output_type": "stream",
     "text": [
      "\n",
      "     86/150      2.28G     0.4434     0.3615     0.8717          3        640: 100%|██████████| 21/21 [00:01<00:00, 14.53it/s]\n",
      "                 Class     Images  Instances      Box(P          R      mAP50  mAP50-95): 100%|██████████| 3/3 [00:00<00:00, 13.81it/s]"
     ]
    },
    {
     "name": "stdout",
     "output_type": "stream",
     "text": [
      "                   all         75         76       0.96      0.868      0.958       0.82\n",
      "\n",
      "      Epoch    GPU_mem   box_loss   cls_loss   dfl_loss  Instances       Size\n"
     ]
    },
    {
     "name": "stderr",
     "output_type": "stream",
     "text": [
      "\n",
      "     87/150      2.28G     0.4188     0.3115     0.8672          6        640: 100%|██████████| 21/21 [00:01<00:00, 14.64it/s]\n",
      "                 Class     Images  Instances      Box(P          R      mAP50  mAP50-95): 100%|██████████| 3/3 [00:00<00:00, 13.74it/s]"
     ]
    },
    {
     "name": "stdout",
     "output_type": "stream",
     "text": [
      "                   all         75         76      0.938      0.921       0.95      0.825\n",
      "\n",
      "      Epoch    GPU_mem   box_loss   cls_loss   dfl_loss  Instances       Size\n"
     ]
    },
    {
     "name": "stderr",
     "output_type": "stream",
     "text": [
      "\n",
      "     88/150      2.28G     0.4262     0.3344     0.8713          4        640: 100%|██████████| 21/21 [00:01<00:00, 14.19it/s]\n",
      "                 Class     Images  Instances      Box(P          R      mAP50  mAP50-95): 100%|██████████| 3/3 [00:00<00:00, 13.55it/s]"
     ]
    },
    {
     "name": "stdout",
     "output_type": "stream",
     "text": [
      "                   all         75         76      0.955      0.868      0.943      0.844\n",
      "\n",
      "      Epoch    GPU_mem   box_loss   cls_loss   dfl_loss  Instances       Size\n"
     ]
    },
    {
     "name": "stderr",
     "output_type": "stream",
     "text": [
      "\n",
      "     89/150      2.28G     0.4013     0.3104     0.8694          3        640: 100%|██████████| 21/21 [00:01<00:00, 14.64it/s]\n",
      "                 Class     Images  Instances      Box(P          R      mAP50  mAP50-95): 100%|██████████| 3/3 [00:00<00:00, 13.68it/s]"
     ]
    },
    {
     "name": "stdout",
     "output_type": "stream",
     "text": [
      "                   all         75         76      0.939      0.806      0.936      0.796\n",
      "\n",
      "      Epoch    GPU_mem   box_loss   cls_loss   dfl_loss  Instances       Size\n"
     ]
    },
    {
     "name": "stderr",
     "output_type": "stream",
     "text": [
      "\n",
      "     90/150      2.28G     0.4149     0.3082     0.8557          5        640: 100%|██████████| 21/21 [00:01<00:00, 14.49it/s]\n",
      "                 Class     Images  Instances      Box(P          R      mAP50  mAP50-95): 100%|██████████| 3/3 [00:00<00:00, 13.81it/s]"
     ]
    },
    {
     "name": "stdout",
     "output_type": "stream",
     "text": [
      "                   all         75         76      0.938      0.855      0.947      0.822\n",
      "\n",
      "      Epoch    GPU_mem   box_loss   cls_loss   dfl_loss  Instances       Size\n"
     ]
    },
    {
     "name": "stderr",
     "output_type": "stream",
     "text": [
      "\n",
      "     91/150      2.28G     0.4178     0.3059     0.8712          3        640: 100%|██████████| 21/21 [00:01<00:00, 14.70it/s]\n",
      "                 Class     Images  Instances      Box(P          R      mAP50  mAP50-95): 100%|██████████| 3/3 [00:00<00:00, 13.86it/s]"
     ]
    },
    {
     "name": "stdout",
     "output_type": "stream",
     "text": [
      "                   all         75         76      0.878      0.856      0.932       0.82\n",
      "\n",
      "      Epoch    GPU_mem   box_loss   cls_loss   dfl_loss  Instances       Size\n"
     ]
    },
    {
     "name": "stderr",
     "output_type": "stream",
     "text": [
      "\n",
      "     92/150      2.28G     0.4007     0.3049     0.8668          5        640: 100%|██████████| 21/21 [00:01<00:00, 14.50it/s]\n",
      "                 Class     Images  Instances      Box(P          R      mAP50  mAP50-95): 100%|██████████| 3/3 [00:00<00:00, 14.00it/s]"
     ]
    },
    {
     "name": "stdout",
     "output_type": "stream",
     "text": [
      "                   all         75         76      0.918      0.921      0.955      0.846\n",
      "\n",
      "      Epoch    GPU_mem   box_loss   cls_loss   dfl_loss  Instances       Size\n"
     ]
    },
    {
     "name": "stderr",
     "output_type": "stream",
     "text": [
      "\n",
      "     93/150      2.28G     0.4044     0.3054      0.853          5        640: 100%|██████████| 21/21 [00:01<00:00, 14.53it/s]\n",
      "                 Class     Images  Instances      Box(P          R      mAP50  mAP50-95): 100%|██████████| 3/3 [00:00<00:00, 11.76it/s]"
     ]
    },
    {
     "name": "stdout",
     "output_type": "stream",
     "text": [
      "                   all         75         76      0.924      0.953      0.958      0.843\n",
      "\n",
      "      Epoch    GPU_mem   box_loss   cls_loss   dfl_loss  Instances       Size\n"
     ]
    },
    {
     "name": "stderr",
     "output_type": "stream",
     "text": [
      "\n",
      "     94/150      2.28G     0.3944     0.3024     0.8577          3        640: 100%|██████████| 21/21 [00:01<00:00, 14.35it/s]\n",
      "                 Class     Images  Instances      Box(P          R      mAP50  mAP50-95): 100%|██████████| 3/3 [00:00<00:00, 13.68it/s]"
     ]
    },
    {
     "name": "stdout",
     "output_type": "stream",
     "text": [
      "                   all         75         76      0.953      0.961      0.956      0.853\n",
      "\n",
      "      Epoch    GPU_mem   box_loss   cls_loss   dfl_loss  Instances       Size\n"
     ]
    },
    {
     "name": "stderr",
     "output_type": "stream",
     "text": [
      "\n",
      "     95/150      2.28G     0.4249     0.3198     0.8607          3        640: 100%|██████████| 21/21 [00:01<00:00, 14.50it/s]\n",
      "                 Class     Images  Instances      Box(P          R      mAP50  mAP50-95): 100%|██████████| 3/3 [00:00<00:00, 13.81it/s]"
     ]
    },
    {
     "name": "stdout",
     "output_type": "stream",
     "text": [
      "                   all         75         76      0.943      0.908      0.934      0.833\n",
      "\n",
      "      Epoch    GPU_mem   box_loss   cls_loss   dfl_loss  Instances       Size\n"
     ]
    },
    {
     "name": "stderr",
     "output_type": "stream",
     "text": [
      "\n",
      "     96/150      2.28G     0.3947     0.3085     0.8672          3        640: 100%|██████████| 21/21 [00:01<00:00, 14.68it/s]\n",
      "                 Class     Images  Instances      Box(P          R      mAP50  mAP50-95): 100%|██████████| 3/3 [00:00<00:00, 13.87it/s]"
     ]
    },
    {
     "name": "stdout",
     "output_type": "stream",
     "text": [
      "                   all         75         76      0.925      0.908      0.968      0.851\n",
      "\n",
      "      Epoch    GPU_mem   box_loss   cls_loss   dfl_loss  Instances       Size\n"
     ]
    },
    {
     "name": "stderr",
     "output_type": "stream",
     "text": [
      "\n",
      "     97/150      2.28G     0.3977     0.2961     0.8692          3        640: 100%|██████████| 21/21 [00:01<00:00, 14.61it/s]\n",
      "                 Class     Images  Instances      Box(P          R      mAP50  mAP50-95): 100%|██████████| 3/3 [00:00<00:00, 13.74it/s]"
     ]
    },
    {
     "name": "stdout",
     "output_type": "stream",
     "text": [
      "                   all         75         76      0.933      0.974      0.976      0.853\n",
      "\n",
      "      Epoch    GPU_mem   box_loss   cls_loss   dfl_loss  Instances       Size\n"
     ]
    },
    {
     "name": "stderr",
     "output_type": "stream",
     "text": [
      "\n",
      "     98/150      2.28G     0.3987     0.3037       0.87          5        640: 100%|██████████| 21/21 [00:01<00:00, 14.65it/s]\n",
      "                 Class     Images  Instances      Box(P          R      mAP50  mAP50-95): 100%|██████████| 3/3 [00:00<00:00, 13.56it/s]"
     ]
    },
    {
     "name": "stdout",
     "output_type": "stream",
     "text": [
      "                   all         75         76      0.938      0.961      0.988       0.88\n",
      "\n",
      "      Epoch    GPU_mem   box_loss   cls_loss   dfl_loss  Instances       Size\n"
     ]
    },
    {
     "name": "stderr",
     "output_type": "stream",
     "text": [
      "\n",
      "     99/150      2.28G     0.3973     0.3025     0.8587          3        640: 100%|██████████| 21/21 [00:01<00:00, 14.43it/s]\n",
      "                 Class     Images  Instances      Box(P          R      mAP50  mAP50-95): 100%|██████████| 3/3 [00:00<00:00, 14.00it/s]"
     ]
    },
    {
     "name": "stdout",
     "output_type": "stream",
     "text": [
      "                   all         75         76      0.926      0.987      0.988      0.892\n",
      "\n",
      "      Epoch    GPU_mem   box_loss   cls_loss   dfl_loss  Instances       Size\n"
     ]
    },
    {
     "name": "stderr",
     "output_type": "stream",
     "text": [
      "\n",
      "    100/150      2.28G     0.4124     0.3031     0.8707          6        640: 100%|██████████| 21/21 [00:01<00:00, 14.44it/s]\n",
      "                 Class     Images  Instances      Box(P          R      mAP50  mAP50-95): 100%|██████████| 3/3 [00:00<00:00, 13.81it/s]"
     ]
    },
    {
     "name": "stdout",
     "output_type": "stream",
     "text": [
      "                   all         75         76      0.952      0.974      0.983      0.873\n",
      "\n",
      "      Epoch    GPU_mem   box_loss   cls_loss   dfl_loss  Instances       Size\n"
     ]
    },
    {
     "name": "stderr",
     "output_type": "stream",
     "text": [
      "\n",
      "    101/150      2.28G     0.4009     0.3027     0.8628          5        640: 100%|██████████| 21/21 [00:01<00:00, 14.58it/s]\n",
      "                 Class     Images  Instances      Box(P          R      mAP50  mAP50-95): 100%|██████████| 3/3 [00:00<00:00, 13.09it/s]"
     ]
    },
    {
     "name": "stdout",
     "output_type": "stream",
     "text": [
      "                   all         75         76      0.916          1      0.976      0.862\n"
     ]
    },
    {
     "name": "stderr",
     "output_type": "stream",
     "text": [
      "\n"
     ]
    },
    {
     "name": "stdout",
     "output_type": "stream",
     "text": [
      "\n",
      "      Epoch    GPU_mem   box_loss   cls_loss   dfl_loss  Instances       Size\n"
     ]
    },
    {
     "name": "stderr",
     "output_type": "stream",
     "text": [
      "    102/150      2.28G     0.4166     0.2919     0.8674          5        640: 100%|██████████| 21/21 [00:01<00:00, 14.64it/s]\n",
      "                 Class     Images  Instances      Box(P          R      mAP50  mAP50-95): 100%|██████████| 3/3 [00:00<00:00, 13.68it/s]"
     ]
    },
    {
     "name": "stdout",
     "output_type": "stream",
     "text": [
      "                   all         75         76      0.894          1      0.972      0.874\n",
      "\n",
      "      Epoch    GPU_mem   box_loss   cls_loss   dfl_loss  Instances       Size\n"
     ]
    },
    {
     "name": "stderr",
     "output_type": "stream",
     "text": [
      "\n",
      "    103/150      2.28G     0.4112     0.2977     0.8699          4        640: 100%|██████████| 21/21 [00:01<00:00, 14.58it/s]\n",
      "                 Class     Images  Instances      Box(P          R      mAP50  mAP50-95): 100%|██████████| 3/3 [00:00<00:00, 13.44it/s]"
     ]
    },
    {
     "name": "stdout",
     "output_type": "stream",
     "text": [
      "                   all         75         76      0.947      0.943      0.962      0.862\n",
      "\n",
      "      Epoch    GPU_mem   box_loss   cls_loss   dfl_loss  Instances       Size\n"
     ]
    },
    {
     "name": "stderr",
     "output_type": "stream",
     "text": [
      "\n",
      "    104/150      2.28G     0.3841     0.2828     0.8533          5        640: 100%|██████████| 21/21 [00:01<00:00, 14.41it/s]\n",
      "                 Class     Images  Instances      Box(P          R      mAP50  mAP50-95): 100%|██████████| 3/3 [00:00<00:00, 13.09it/s]"
     ]
    },
    {
     "name": "stdout",
     "output_type": "stream",
     "text": [
      "                   all         75         76      0.945      0.961      0.962       0.87\n",
      "\n",
      "      Epoch    GPU_mem   box_loss   cls_loss   dfl_loss  Instances       Size\n"
     ]
    },
    {
     "name": "stderr",
     "output_type": "stream",
     "text": [
      "\n",
      "    105/150      2.28G     0.4065      0.286     0.8617          3        640: 100%|██████████| 21/21 [00:01<00:00, 14.51it/s]\n",
      "                 Class     Images  Instances      Box(P          R      mAP50  mAP50-95): 100%|██████████| 3/3 [00:00<00:00, 14.00it/s]"
     ]
    },
    {
     "name": "stdout",
     "output_type": "stream",
     "text": [
      "                   all         75         76      0.941      0.987      0.966      0.861\n",
      "\n",
      "      Epoch    GPU_mem   box_loss   cls_loss   dfl_loss  Instances       Size\n"
     ]
    },
    {
     "name": "stderr",
     "output_type": "stream",
     "text": [
      "\n",
      "    106/150      2.28G     0.3807     0.2687     0.8374          6        640: 100%|██████████| 21/21 [00:01<00:00, 14.43it/s]\n",
      "                 Class     Images  Instances      Box(P          R      mAP50  mAP50-95): 100%|██████████| 3/3 [00:00<00:00, 13.32it/s]"
     ]
    },
    {
     "name": "stdout",
     "output_type": "stream",
     "text": [
      "                   all         75         76      0.927      0.996      0.976      0.868\n",
      "\n",
      "      Epoch    GPU_mem   box_loss   cls_loss   dfl_loss  Instances       Size\n"
     ]
    },
    {
     "name": "stderr",
     "output_type": "stream",
     "text": [
      "\n",
      "    107/150      2.28G     0.3739     0.2845     0.8583          1        640: 100%|██████████| 21/21 [00:01<00:00, 14.60it/s]\n",
      "                 Class     Images  Instances      Box(P          R      mAP50  mAP50-95): 100%|██████████| 3/3 [00:00<00:00, 13.74it/s]"
     ]
    },
    {
     "name": "stdout",
     "output_type": "stream",
     "text": [
      "                   all         75         76      0.928      0.974      0.976      0.879\n",
      "\n",
      "      Epoch    GPU_mem   box_loss   cls_loss   dfl_loss  Instances       Size\n"
     ]
    },
    {
     "name": "stderr",
     "output_type": "stream",
     "text": [
      "\n",
      "    108/150      2.28G     0.4056     0.2899     0.8484          3        640: 100%|██████████| 21/21 [00:01<00:00, 14.27it/s]\n",
      "                 Class     Images  Instances      Box(P          R      mAP50  mAP50-95): 100%|██████████| 3/3 [00:00<00:00, 14.07it/s]"
     ]
    },
    {
     "name": "stdout",
     "output_type": "stream",
     "text": [
      "                   all         75         76      0.949       0.97      0.967      0.887\n",
      "\n",
      "      Epoch    GPU_mem   box_loss   cls_loss   dfl_loss  Instances       Size\n"
     ]
    },
    {
     "name": "stderr",
     "output_type": "stream",
     "text": [
      "\n",
      "    109/150      2.28G     0.3823     0.2751     0.8522          3        640: 100%|██████████| 21/21 [00:01<00:00, 14.57it/s]\n",
      "                 Class     Images  Instances      Box(P          R      mAP50  mAP50-95): 100%|██████████| 3/3 [00:00<00:00, 13.87it/s]"
     ]
    },
    {
     "name": "stdout",
     "output_type": "stream",
     "text": [
      "                   all         75         76      0.945      0.974      0.971      0.875\n",
      "\n",
      "      Epoch    GPU_mem   box_loss   cls_loss   dfl_loss  Instances       Size\n"
     ]
    },
    {
     "name": "stderr",
     "output_type": "stream",
     "text": [
      "\n",
      "    110/150      2.28G     0.3936     0.2823     0.8515          7        640: 100%|██████████| 21/21 [00:01<00:00, 14.54it/s]\n",
      "                 Class     Images  Instances      Box(P          R      mAP50  mAP50-95): 100%|██████████| 3/3 [00:00<00:00, 13.14it/s]"
     ]
    },
    {
     "name": "stdout",
     "output_type": "stream",
     "text": [
      "                   all         75         76      0.948      0.961      0.979      0.872\n",
      "\n",
      "      Epoch    GPU_mem   box_loss   cls_loss   dfl_loss  Instances       Size\n"
     ]
    },
    {
     "name": "stderr",
     "output_type": "stream",
     "text": [
      "\n",
      "    111/150      2.28G     0.3857     0.3122     0.8601          6        640: 100%|██████████| 21/21 [00:01<00:00, 14.47it/s]\n",
      "                 Class     Images  Instances      Box(P          R      mAP50  mAP50-95): 100%|██████████| 3/3 [00:00<00:00, 13.62it/s]"
     ]
    },
    {
     "name": "stdout",
     "output_type": "stream",
     "text": [
      "                   all         75         76       0.94      0.961      0.987      0.876\n",
      "\n",
      "      Epoch    GPU_mem   box_loss   cls_loss   dfl_loss  Instances       Size\n"
     ]
    },
    {
     "name": "stderr",
     "output_type": "stream",
     "text": [
      "\n",
      "    112/150      2.28G     0.3885       0.29      0.858          3        640: 100%|██████████| 21/21 [00:01<00:00, 14.38it/s]\n",
      "                 Class     Images  Instances      Box(P          R      mAP50  mAP50-95): 100%|██████████| 3/3 [00:00<00:00, 13.81it/s]"
     ]
    },
    {
     "name": "stdout",
     "output_type": "stream",
     "text": [
      "                   all         75         76      0.947      0.987      0.985      0.875\n",
      "\n",
      "      Epoch    GPU_mem   box_loss   cls_loss   dfl_loss  Instances       Size\n"
     ]
    },
    {
     "name": "stderr",
     "output_type": "stream",
     "text": [
      "\n",
      "    113/150      2.28G     0.3741     0.2807     0.8341          4        640: 100%|██████████| 21/21 [00:01<00:00, 15.14it/s]\n",
      "                 Class     Images  Instances      Box(P          R      mAP50  mAP50-95): 100%|██████████| 3/3 [00:00<00:00, 14.33it/s]"
     ]
    },
    {
     "name": "stdout",
     "output_type": "stream",
     "text": [
      "                   all         75         76      0.924      0.961      0.984       0.87\n",
      "\n",
      "      Epoch    GPU_mem   box_loss   cls_loss   dfl_loss  Instances       Size\n"
     ]
    },
    {
     "name": "stderr",
     "output_type": "stream",
     "text": [
      "\n",
      "    114/150      2.28G     0.3794     0.3311      0.858          5        640: 100%|██████████| 21/21 [00:01<00:00, 15.12it/s]\n",
      "                 Class     Images  Instances      Box(P          R      mAP50  mAP50-95): 100%|██████████| 3/3 [00:00<00:00, 14.40it/s]"
     ]
    },
    {
     "name": "stdout",
     "output_type": "stream",
     "text": [
      "                   all         75         76       0.94      0.974       0.98      0.858\n",
      "\n",
      "      Epoch    GPU_mem   box_loss   cls_loss   dfl_loss  Instances       Size\n"
     ]
    },
    {
     "name": "stderr",
     "output_type": "stream",
     "text": [
      "\n",
      "    115/150      2.28G     0.3823     0.2663     0.8457          5        640: 100%|██████████| 21/21 [00:01<00:00, 15.70it/s]\n",
      "                 Class     Images  Instances      Box(P          R      mAP50  mAP50-95): 100%|██████████| 3/3 [00:00<00:00, 14.46it/s]"
     ]
    },
    {
     "name": "stdout",
     "output_type": "stream",
     "text": [
      "                   all         75         76      0.901      0.955      0.972      0.867\n",
      "\n",
      "      Epoch    GPU_mem   box_loss   cls_loss   dfl_loss  Instances       Size\n"
     ]
    },
    {
     "name": "stderr",
     "output_type": "stream",
     "text": [
      "\n",
      "    116/150      2.28G      0.362     0.2668     0.8527          4        640: 100%|██████████| 21/21 [00:01<00:00, 15.20it/s]\n",
      "                 Class     Images  Instances      Box(P          R      mAP50  mAP50-95): 100%|██████████| 3/3 [00:00<00:00, 13.62it/s]"
     ]
    },
    {
     "name": "stdout",
     "output_type": "stream",
     "text": [
      "                   all         75         76      0.927          1      0.988      0.883\n",
      "\n",
      "      Epoch    GPU_mem   box_loss   cls_loss   dfl_loss  Instances       Size\n"
     ]
    },
    {
     "name": "stderr",
     "output_type": "stream",
     "text": [
      "\n",
      "    117/150      2.28G     0.3843     0.2951     0.8642          7        640: 100%|██████████| 21/21 [00:01<00:00, 15.17it/s]\n",
      "                 Class     Images  Instances      Box(P          R      mAP50  mAP50-95): 100%|██████████| 3/3 [00:00<00:00, 14.13it/s]"
     ]
    },
    {
     "name": "stdout",
     "output_type": "stream",
     "text": [
      "                   all         75         76      0.934          1      0.992      0.899\n",
      "\n",
      "      Epoch    GPU_mem   box_loss   cls_loss   dfl_loss  Instances       Size\n"
     ]
    },
    {
     "name": "stderr",
     "output_type": "stream",
     "text": [
      "\n",
      "    118/150      2.28G     0.3768     0.2679     0.8467          4        640: 100%|██████████| 21/21 [00:01<00:00, 15.21it/s]\n",
      "                 Class     Images  Instances      Box(P          R      mAP50  mAP50-95): 100%|██████████| 3/3 [00:00<00:00, 14.20it/s]"
     ]
    },
    {
     "name": "stdout",
     "output_type": "stream",
     "text": [
      "                   all         75         76      0.967      0.974      0.991      0.902\n",
      "\n",
      "      Epoch    GPU_mem   box_loss   cls_loss   dfl_loss  Instances       Size\n"
     ]
    },
    {
     "name": "stderr",
     "output_type": "stream",
     "text": [
      "\n",
      "    119/150      2.28G     0.3768     0.2706     0.8484          4        640: 100%|██████████| 21/21 [00:01<00:00, 15.17it/s]\n",
      "                 Class     Images  Instances      Box(P          R      mAP50  mAP50-95): 100%|██████████| 3/3 [00:00<00:00, 14.20it/s]"
     ]
    },
    {
     "name": "stdout",
     "output_type": "stream",
     "text": [
      "                   all         75         76      0.947      0.987      0.988      0.887\n",
      "\n",
      "      Epoch    GPU_mem   box_loss   cls_loss   dfl_loss  Instances       Size\n"
     ]
    },
    {
     "name": "stderr",
     "output_type": "stream",
     "text": [
      "\n",
      "    120/150      2.28G     0.3574     0.2564     0.8466          5        640: 100%|██████████| 21/21 [00:01<00:00, 15.05it/s]\n",
      "                 Class     Images  Instances      Box(P          R      mAP50  mAP50-95): 100%|██████████| 3/3 [00:00<00:00, 14.25it/s]"
     ]
    },
    {
     "name": "stdout",
     "output_type": "stream",
     "text": [
      "                   all         75         76      0.943      0.987      0.987       0.89\n",
      "\n",
      "      Epoch    GPU_mem   box_loss   cls_loss   dfl_loss  Instances       Size\n"
     ]
    },
    {
     "name": "stderr",
     "output_type": "stream",
     "text": [
      "\n",
      "    121/150      2.28G     0.3707     0.2697     0.8445          2        640: 100%|██████████| 21/21 [00:01<00:00, 15.13it/s]\n",
      "                 Class     Images  Instances      Box(P          R      mAP50  mAP50-95): 100%|██████████| 3/3 [00:00<00:00, 14.13it/s]"
     ]
    },
    {
     "name": "stdout",
     "output_type": "stream",
     "text": [
      "                   all         75         76      0.959      0.987      0.985      0.882\n",
      "\n",
      "      Epoch    GPU_mem   box_loss   cls_loss   dfl_loss  Instances       Size\n"
     ]
    },
    {
     "name": "stderr",
     "output_type": "stream",
     "text": [
      "\n",
      "    122/150      2.28G     0.3393     0.2647     0.8487          2        640: 100%|██████████| 21/21 [00:01<00:00, 15.06it/s]\n",
      "                 Class     Images  Instances      Box(P          R      mAP50  mAP50-95): 100%|██████████| 3/3 [00:00<00:00, 14.40it/s]"
     ]
    },
    {
     "name": "stdout",
     "output_type": "stream",
     "text": [
      "                   all         75         76      0.973      0.959      0.992      0.896\n",
      "\n",
      "      Epoch    GPU_mem   box_loss   cls_loss   dfl_loss  Instances       Size\n"
     ]
    },
    {
     "name": "stderr",
     "output_type": "stream",
     "text": [
      "\n",
      "    123/150      2.28G     0.3434     0.2542      0.838          5        640: 100%|██████████| 21/21 [00:01<00:00, 15.14it/s]\n",
      "                 Class     Images  Instances      Box(P          R      mAP50  mAP50-95): 100%|██████████| 3/3 [00:00<00:00, 13.87it/s]"
     ]
    },
    {
     "name": "stdout",
     "output_type": "stream",
     "text": [
      "                   all         75         76      0.947      0.947      0.988      0.899\n",
      "\n",
      "      Epoch    GPU_mem   box_loss   cls_loss   dfl_loss  Instances       Size\n"
     ]
    },
    {
     "name": "stderr",
     "output_type": "stream",
     "text": [
      "\n",
      "    124/150      2.28G     0.3585     0.2473     0.8426          5        640: 100%|██████████| 21/21 [00:01<00:00, 15.01it/s]\n",
      "                 Class     Images  Instances      Box(P          R      mAP50  mAP50-95): 100%|██████████| 3/3 [00:00<00:00, 14.20it/s]"
     ]
    },
    {
     "name": "stdout",
     "output_type": "stream",
     "text": [
      "                   all         75         76      0.925       0.98      0.985      0.879\n",
      "\n",
      "      Epoch    GPU_mem   box_loss   cls_loss   dfl_loss  Instances       Size\n"
     ]
    },
    {
     "name": "stderr",
     "output_type": "stream",
     "text": [
      "\n",
      "    125/150      2.28G     0.3589     0.2898     0.8596          1        640: 100%|██████████| 21/21 [00:01<00:00, 15.20it/s]\n",
      "                 Class     Images  Instances      Box(P          R      mAP50  mAP50-95): 100%|██████████| 3/3 [00:00<00:00, 14.54it/s]"
     ]
    },
    {
     "name": "stdout",
     "output_type": "stream",
     "text": [
      "                   all         75         76      0.921      0.987      0.981      0.873\n",
      "\n",
      "      Epoch    GPU_mem   box_loss   cls_loss   dfl_loss  Instances       Size\n"
     ]
    },
    {
     "name": "stderr",
     "output_type": "stream",
     "text": [
      "\n",
      "    126/150      2.28G     0.3734     0.2625     0.8516          4        640: 100%|██████████| 21/21 [00:01<00:00, 15.14it/s]\n",
      "                 Class     Images  Instances      Box(P          R      mAP50  mAP50-95): 100%|██████████| 3/3 [00:00<00:00, 14.27it/s]"
     ]
    },
    {
     "name": "stdout",
     "output_type": "stream",
     "text": [
      "                   all         75         76      0.955      0.987      0.966      0.841\n",
      "\n",
      "      Epoch    GPU_mem   box_loss   cls_loss   dfl_loss  Instances       Size\n"
     ]
    },
    {
     "name": "stderr",
     "output_type": "stream",
     "text": [
      "\n",
      "    127/150      2.28G     0.3553     0.2542     0.8519          6        640: 100%|██████████| 21/21 [00:01<00:00, 15.11it/s]\n",
      "                 Class     Images  Instances      Box(P          R      mAP50  mAP50-95): 100%|██████████| 3/3 [00:00<00:00, 14.26it/s]"
     ]
    },
    {
     "name": "stdout",
     "output_type": "stream",
     "text": [
      "                   all         75         76      0.951      0.987      0.965       0.83\n",
      "\n",
      "      Epoch    GPU_mem   box_loss   cls_loss   dfl_loss  Instances       Size\n"
     ]
    },
    {
     "name": "stderr",
     "output_type": "stream",
     "text": [
      "\n",
      "    128/150      2.28G     0.3702     0.2529     0.8546          5        640: 100%|██████████| 21/21 [00:01<00:00, 14.90it/s]\n",
      "                 Class     Images  Instances      Box(P          R      mAP50  mAP50-95): 100%|██████████| 3/3 [00:00<00:00, 14.07it/s]"
     ]
    },
    {
     "name": "stdout",
     "output_type": "stream",
     "text": [
      "                   all         75         76      0.936          1      0.971      0.866\n",
      "\n",
      "      Epoch    GPU_mem   box_loss   cls_loss   dfl_loss  Instances       Size\n"
     ]
    },
    {
     "name": "stderr",
     "output_type": "stream",
     "text": [
      "\n",
      "    129/150      2.28G     0.3509     0.2503     0.8404          3        640: 100%|██████████| 21/21 [00:01<00:00, 15.23it/s]\n",
      "                 Class     Images  Instances      Box(P          R      mAP50  mAP50-95): 100%|██████████| 3/3 [00:00<00:00, 14.40it/s]"
     ]
    },
    {
     "name": "stdout",
     "output_type": "stream",
     "text": [
      "                   all         75         76      0.935          1      0.978       0.88\n",
      "\n",
      "      Epoch    GPU_mem   box_loss   cls_loss   dfl_loss  Instances       Size\n"
     ]
    },
    {
     "name": "stderr",
     "output_type": "stream",
     "text": [
      "\n",
      "    130/150      2.28G     0.3582     0.2563     0.8441          4        640: 100%|██████████| 21/21 [00:01<00:00, 15.15it/s]\n",
      "                 Class     Images  Instances      Box(P          R      mAP50  mAP50-95): 100%|██████████| 3/3 [00:00<00:00, 14.07it/s]"
     ]
    },
    {
     "name": "stdout",
     "output_type": "stream",
     "text": [
      "                   all         75         76      0.923      0.987      0.958      0.861\n",
      "\n",
      "      Epoch    GPU_mem   box_loss   cls_loss   dfl_loss  Instances       Size\n"
     ]
    },
    {
     "name": "stderr",
     "output_type": "stream",
     "text": [
      "\n",
      "    131/150      2.28G       0.35     0.2547     0.8552          5        640: 100%|██████████| 21/21 [00:01<00:00, 15.16it/s]\n",
      "                 Class     Images  Instances      Box(P          R      mAP50  mAP50-95): 100%|██████████| 3/3 [00:00<00:00, 14.25it/s]"
     ]
    },
    {
     "name": "stdout",
     "output_type": "stream",
     "text": [
      "                   all         75         76       0.95      0.987      0.974      0.868\n",
      "\n",
      "      Epoch    GPU_mem   box_loss   cls_loss   dfl_loss  Instances       Size\n"
     ]
    },
    {
     "name": "stderr",
     "output_type": "stream",
     "text": [
      "\n",
      "    132/150      2.28G     0.3533     0.2522     0.8497          3        640: 100%|██████████| 21/21 [00:01<00:00, 15.06it/s]\n",
      "                 Class     Images  Instances      Box(P          R      mAP50  mAP50-95): 100%|██████████| 3/3 [00:00<00:00, 14.07it/s]"
     ]
    },
    {
     "name": "stdout",
     "output_type": "stream",
     "text": [
      "                   all         75         76      0.935          1      0.975      0.841\n",
      "\n",
      "      Epoch    GPU_mem   box_loss   cls_loss   dfl_loss  Instances       Size\n"
     ]
    },
    {
     "name": "stderr",
     "output_type": "stream",
     "text": [
      "\n",
      "    133/150      2.28G     0.3735     0.2593     0.8599          4        640: 100%|██████████| 21/21 [00:01<00:00, 15.10it/s]\n",
      "                 Class     Images  Instances      Box(P          R      mAP50  mAP50-95): 100%|██████████| 3/3 [00:00<00:00, 14.07it/s]"
     ]
    },
    {
     "name": "stdout",
     "output_type": "stream",
     "text": [
      "                   all         75         76      0.936      0.987      0.976      0.843\n",
      "\n",
      "      Epoch    GPU_mem   box_loss   cls_loss   dfl_loss  Instances       Size\n"
     ]
    },
    {
     "name": "stderr",
     "output_type": "stream",
     "text": [
      "\n",
      "    134/150      2.28G     0.3464     0.2554     0.8463          8        640: 100%|██████████| 21/21 [00:01<00:00, 14.94it/s]\n",
      "                 Class     Images  Instances      Box(P          R      mAP50  mAP50-95): 100%|██████████| 3/3 [00:00<00:00, 13.93it/s]"
     ]
    },
    {
     "name": "stdout",
     "output_type": "stream",
     "text": [
      "                   all         75         76      0.928      0.961      0.976      0.863\n",
      "\n",
      "      Epoch    GPU_mem   box_loss   cls_loss   dfl_loss  Instances       Size\n"
     ]
    },
    {
     "name": "stderr",
     "output_type": "stream",
     "text": [
      "\n",
      "    135/150      2.28G      0.341     0.2437     0.8397          3        640: 100%|██████████| 21/21 [00:01<00:00, 15.16it/s]\n",
      "                 Class     Images  Instances      Box(P          R      mAP50  mAP50-95): 100%|██████████| 3/3 [00:00<00:00, 14.20it/s]"
     ]
    },
    {
     "name": "stdout",
     "output_type": "stream",
     "text": [
      "                   all         75         76      0.914      0.987      0.973      0.866\n",
      "\n",
      "      Epoch    GPU_mem   box_loss   cls_loss   dfl_loss  Instances       Size\n"
     ]
    },
    {
     "name": "stderr",
     "output_type": "stream",
     "text": [
      "\n",
      "    136/150      2.28G     0.3707     0.3067     0.8433          1        640: 100%|██████████| 21/21 [00:01<00:00, 15.11it/s]\n",
      "                 Class     Images  Instances      Box(P          R      mAP50  mAP50-95): 100%|██████████| 3/3 [00:00<00:00, 14.07it/s]"
     ]
    },
    {
     "name": "stdout",
     "output_type": "stream",
     "text": [
      "                   all         75         76      0.912      0.987       0.97      0.864\n",
      "\n",
      "      Epoch    GPU_mem   box_loss   cls_loss   dfl_loss  Instances       Size\n"
     ]
    },
    {
     "name": "stderr",
     "output_type": "stream",
     "text": [
      "\n",
      "    137/150      2.28G     0.3617     0.2469     0.8604          2        640: 100%|██████████| 21/21 [00:01<00:00, 15.09it/s]\n",
      "                 Class     Images  Instances      Box(P          R      mAP50  mAP50-95): 100%|██████████| 3/3 [00:00<00:00, 14.27it/s]"
     ]
    },
    {
     "name": "stdout",
     "output_type": "stream",
     "text": [
      "                   all         75         76      0.924      0.987      0.967      0.862\n",
      "\n",
      "      Epoch    GPU_mem   box_loss   cls_loss   dfl_loss  Instances       Size\n"
     ]
    },
    {
     "name": "stderr",
     "output_type": "stream",
     "text": [
      "\n",
      "    138/150      2.28G     0.3462     0.2604     0.8434          5        640: 100%|██████████| 21/21 [00:01<00:00, 15.15it/s]\n",
      "                 Class     Images  Instances      Box(P          R      mAP50  mAP50-95): 100%|██████████| 3/3 [00:00<00:00, 14.19it/s]"
     ]
    },
    {
     "name": "stdout",
     "output_type": "stream",
     "text": [
      "                   all         75         76      0.936          1      0.971      0.857\n",
      "\n",
      "      Epoch    GPU_mem   box_loss   cls_loss   dfl_loss  Instances       Size\n"
     ]
    },
    {
     "name": "stderr",
     "output_type": "stream",
     "text": [
      "\n",
      "    139/150      2.28G     0.3621     0.2599     0.8571          6        640: 100%|██████████| 21/21 [00:01<00:00, 15.13it/s]\n",
      "                 Class     Images  Instances      Box(P          R      mAP50  mAP50-95): 100%|██████████| 3/3 [00:00<00:00, 13.68it/s]"
     ]
    },
    {
     "name": "stdout",
     "output_type": "stream",
     "text": [
      "                   all         75         76       0.92      0.987      0.969      0.875\n",
      "\n",
      "      Epoch    GPU_mem   box_loss   cls_loss   dfl_loss  Instances       Size\n"
     ]
    },
    {
     "name": "stderr",
     "output_type": "stream",
     "text": [
      "\n",
      "    140/150      2.28G     0.3462     0.2469     0.8418          8        640: 100%|██████████| 21/21 [00:01<00:00, 14.74it/s]\n",
      "                 Class     Images  Instances      Box(P          R      mAP50  mAP50-95): 100%|██████████| 3/3 [00:00<00:00, 13.87it/s]"
     ]
    },
    {
     "name": "stdout",
     "output_type": "stream",
     "text": [
      "                   all         75         76      0.904          1      0.975      0.881\n",
      "Closing dataloader mosaic\n"
     ]
    },
    {
     "name": "stderr",
     "output_type": "stream",
     "text": [
      "\n"
     ]
    },
    {
     "name": "stdout",
     "output_type": "stream",
     "text": [
      "\n",
      "      Epoch    GPU_mem   box_loss   cls_loss   dfl_loss  Instances       Size\n"
     ]
    },
    {
     "name": "stderr",
     "output_type": "stream",
     "text": [
      "    141/150      2.28G     0.3156     0.2272     0.8372          2        640: 100%|██████████| 21/21 [00:01<00:00, 14.77it/s]\n",
      "                 Class     Images  Instances      Box(P          R      mAP50  mAP50-95): 100%|██████████| 3/3 [00:00<00:00, 14.27it/s]"
     ]
    },
    {
     "name": "stdout",
     "output_type": "stream",
     "text": [
      "                   all         75         76      0.937      0.987       0.98      0.871\n",
      "\n",
      "      Epoch    GPU_mem   box_loss   cls_loss   dfl_loss  Instances       Size\n"
     ]
    },
    {
     "name": "stderr",
     "output_type": "stream",
     "text": [
      "\n",
      "    142/150      2.28G     0.3019     0.2191      0.815          2        640: 100%|██████████| 21/21 [00:01<00:00, 15.24it/s]\n",
      "                 Class     Images  Instances      Box(P          R      mAP50  mAP50-95): 100%|██████████| 3/3 [00:00<00:00, 14.26it/s]"
     ]
    },
    {
     "name": "stdout",
     "output_type": "stream",
     "text": [
      "                   all         75         76      0.936      0.987      0.979      0.864\n",
      "\n",
      "      Epoch    GPU_mem   box_loss   cls_loss   dfl_loss  Instances       Size\n"
     ]
    },
    {
     "name": "stderr",
     "output_type": "stream",
     "text": [
      "\n",
      "    143/150      2.28G     0.3018     0.2146     0.8138          2        640: 100%|██████████| 21/21 [00:01<00:00, 15.24it/s]\n",
      "                 Class     Images  Instances      Box(P          R      mAP50  mAP50-95): 100%|██████████| 3/3 [00:00<00:00, 13.62it/s]"
     ]
    },
    {
     "name": "stdout",
     "output_type": "stream",
     "text": [
      "                   all         75         76      0.943      0.987      0.981      0.869\n",
      "\n",
      "      Epoch    GPU_mem   box_loss   cls_loss   dfl_loss  Instances       Size\n"
     ]
    },
    {
     "name": "stderr",
     "output_type": "stream",
     "text": [
      "\n",
      "    144/150      2.28G     0.3182     0.2145     0.8312          2        640: 100%|██████████| 21/21 [00:01<00:00, 15.13it/s]\n",
      "                 Class     Images  Instances      Box(P          R      mAP50  mAP50-95): 100%|██████████| 3/3 [00:00<00:00, 14.13it/s]"
     ]
    },
    {
     "name": "stdout",
     "output_type": "stream",
     "text": [
      "                   all         75         76      0.946      0.987      0.978      0.869\n",
      "\n",
      "      Epoch    GPU_mem   box_loss   cls_loss   dfl_loss  Instances       Size\n"
     ]
    },
    {
     "name": "stderr",
     "output_type": "stream",
     "text": [
      "\n",
      "    145/150      2.28G      0.301     0.2034     0.8114          2        640: 100%|██████████| 21/21 [00:01<00:00, 15.12it/s]\n",
      "                 Class     Images  Instances      Box(P          R      mAP50  mAP50-95): 100%|██████████| 3/3 [00:00<00:00, 12.70it/s]"
     ]
    },
    {
     "name": "stdout",
     "output_type": "stream",
     "text": [
      "                   all         75         76      0.946      0.987      0.975      0.859\n",
      "\n",
      "      Epoch    GPU_mem   box_loss   cls_loss   dfl_loss  Instances       Size\n"
     ]
    },
    {
     "name": "stderr",
     "output_type": "stream",
     "text": [
      "\n",
      "    146/150      2.28G     0.2974     0.2085     0.8108          2        640: 100%|██████████| 21/21 [00:01<00:00, 15.20it/s]\n",
      "                 Class     Images  Instances      Box(P          R      mAP50  mAP50-95): 100%|██████████| 3/3 [00:00<00:00, 14.27it/s]"
     ]
    },
    {
     "name": "stdout",
     "output_type": "stream",
     "text": [
      "                   all         75         76      0.946      0.987      0.975       0.86\n",
      "\n",
      "      Epoch    GPU_mem   box_loss   cls_loss   dfl_loss  Instances       Size\n"
     ]
    },
    {
     "name": "stderr",
     "output_type": "stream",
     "text": [
      "\n",
      "    147/150      2.28G     0.2907     0.2039     0.8154          2        640: 100%|██████████| 21/21 [00:01<00:00, 15.29it/s]\n",
      "                 Class     Images  Instances      Box(P          R      mAP50  mAP50-95): 100%|██████████| 3/3 [00:00<00:00, 13.74it/s]"
     ]
    },
    {
     "name": "stdout",
     "output_type": "stream",
     "text": [
      "                   all         75         76      0.946      0.987      0.978      0.859\n",
      "\n",
      "      Epoch    GPU_mem   box_loss   cls_loss   dfl_loss  Instances       Size\n"
     ]
    },
    {
     "name": "stderr",
     "output_type": "stream",
     "text": [
      "\n",
      "    148/150      2.28G     0.2839     0.2015     0.8151          2        640: 100%|██████████| 21/21 [00:01<00:00, 15.10it/s]\n",
      "                 Class     Images  Instances      Box(P          R      mAP50  mAP50-95): 100%|██████████| 3/3 [00:00<00:00, 13.94it/s]"
     ]
    },
    {
     "name": "stdout",
     "output_type": "stream",
     "text": [
      "                   all         75         76      0.945      0.987      0.975      0.855\n",
      "\n",
      "      Epoch    GPU_mem   box_loss   cls_loss   dfl_loss  Instances       Size\n"
     ]
    },
    {
     "name": "stderr",
     "output_type": "stream",
     "text": [
      "\n",
      "    149/150      2.28G     0.3343     0.2169     0.8595          2        640: 100%|██████████| 21/21 [00:01<00:00, 15.10it/s]\n",
      "                 Class     Images  Instances      Box(P          R      mAP50  mAP50-95): 100%|██████████| 3/3 [00:00<00:00, 14.07it/s]"
     ]
    },
    {
     "name": "stdout",
     "output_type": "stream",
     "text": [
      "                   all         75         76      0.943      0.987      0.974      0.854\n",
      "\n",
      "      Epoch    GPU_mem   box_loss   cls_loss   dfl_loss  Instances       Size\n"
     ]
    },
    {
     "name": "stderr",
     "output_type": "stream",
     "text": [
      "\n",
      "    150/150      2.28G      0.292     0.1979     0.8152          2        640: 100%|██████████| 21/21 [00:01<00:00, 15.16it/s]\n",
      "                 Class     Images  Instances      Box(P          R      mAP50  mAP50-95): 100%|██████████| 3/3 [00:00<00:00, 14.20it/s]"
     ]
    },
    {
     "name": "stdout",
     "output_type": "stream",
     "text": [
      "                   all         75         76      0.943      0.987      0.975      0.855\n",
      "\n",
      "150 epochs completed in 0.078 hours.\n",
      "Optimizer stripped from E:\\yolo\\runs\\detect_ads_model\\weights\\last.pt, 6.2MB\n"
     ]
    },
    {
     "name": "stderr",
     "output_type": "stream",
     "text": [
      "\n"
     ]
    },
    {
     "name": "stdout",
     "output_type": "stream",
     "text": [
      "Optimizer stripped from E:\\yolo\\runs\\detect_ads_model\\weights\\best.pt, 6.2MB\n",
      "\n",
      "Validating E:\\yolo\\runs\\detect_ads_model\\weights\\best.pt...\n",
      "Ultralytics 8.3.148  Python-3.11.11 torch-2.5.1+cu121 CUDA:0 (NVIDIA GeForce RTX 4070, 12282MiB)\n",
      "Model summary (fused): 72 layers, 3,005,843 parameters, 0 gradients, 8.1 GFLOPs\n"
     ]
    },
    {
     "name": "stderr",
     "output_type": "stream",
     "text": [
      "                 Class     Images  Instances      Box(P          R      mAP50  mAP50-95): 100%|██████████| 3/3 [00:00<00:00,  9.71it/s]\n"
     ]
    },
    {
     "name": "stdout",
     "output_type": "stream",
     "text": [
      "                   all         75         76       0.97      0.974      0.991      0.905\n",
      "Speed: 0.1ms preprocess, 1.6ms inference, 0.0ms loss, 0.7ms postprocess per image\n",
      "Results saved to \u001b[1mE:\\yolo\\runs\\detect_ads_model\u001b[0m\n"
     ]
    },
    {
     "ename": "AttributeError",
     "evalue": "'DetMetrics' object has no attribute 'best'. See valid attributes below.\n\n    Utility class for computing detection metrics such as precision, recall, and mean average precision (mAP).\n\n    Attributes:\n        save_dir (Path): A path to the directory where the output plots will be saved.\n        plot (bool): A flag that indicates whether to plot precision-recall curves for each class.\n        names (Dict[int, str]): A dictionary of class names.\n        box (Metric): An instance of the Metric class for storing detection results.\n        speed (Dict[str, float]): A dictionary for storing execution times of different parts of the detection process.\n        task (str): The task type, set to 'detect'.\n    ",
     "output_type": "error",
     "traceback": [
      "\u001b[31m---------------------------------------------------------------------------\u001b[39m",
      "\u001b[31mAttributeError\u001b[39m                            Traceback (most recent call last)",
      "\u001b[36mCell\u001b[39m\u001b[36m \u001b[39m\u001b[32mIn[4]\u001b[39m\u001b[32m, line 29\u001b[39m\n\u001b[32m     17\u001b[39m results = model.train(\n\u001b[32m     18\u001b[39m     data=data_path,       \n\u001b[32m     19\u001b[39m     epochs=\u001b[32m150\u001b[39m,           \n\u001b[32m   (...)\u001b[39m\u001b[32m     25\u001b[39m     exist_ok=\u001b[38;5;28;01mTrue\u001b[39;00m   \n\u001b[32m     26\u001b[39m     )     \n\u001b[32m     28\u001b[39m \u001b[38;5;66;03m# In ra đường dẫn đến model tốt nhất\u001b[39;00m\n\u001b[32m---> \u001b[39m\u001b[32m29\u001b[39m \u001b[38;5;28mprint\u001b[39m(\u001b[33mf\u001b[39m\u001b[33m\"\u001b[39m\u001b[33mBest model saved at: \u001b[39m\u001b[38;5;132;01m{\u001b[39;00m\u001b[43mresults\u001b[49m\u001b[43m.\u001b[49m\u001b[43mbest\u001b[49m\u001b[38;5;132;01m}\u001b[39;00m\u001b[33m\"\u001b[39m)\n\u001b[32m     31\u001b[39m \u001b[38;5;66;03m# Đánh giá mô hình trên tập validation\u001b[39;00m\n\u001b[32m     32\u001b[39m metrics = model.val()\n",
      "\u001b[36mFile \u001b[39m\u001b[32mc:\\Users\\Admin\\miniconda3\\envs\\yolov12\\Lib\\site-packages\\ultralytics\\utils\\__init__.py:394\u001b[39m, in \u001b[36mSimpleClass.__getattr__\u001b[39m\u001b[34m(self, attr)\u001b[39m\n\u001b[32m    392\u001b[39m \u001b[38;5;250m\u001b[39m\u001b[33;03m\"\"\"Provide a custom attribute access error message with helpful information.\"\"\"\u001b[39;00m\n\u001b[32m    393\u001b[39m name = \u001b[38;5;28mself\u001b[39m.\u001b[34m__class__\u001b[39m.\u001b[34m__name__\u001b[39m\n\u001b[32m--> \u001b[39m\u001b[32m394\u001b[39m \u001b[38;5;28;01mraise\u001b[39;00m \u001b[38;5;167;01mAttributeError\u001b[39;00m(\u001b[33mf\u001b[39m\u001b[33m\"\u001b[39m\u001b[33m'\u001b[39m\u001b[38;5;132;01m{\u001b[39;00mname\u001b[38;5;132;01m}\u001b[39;00m\u001b[33m'\u001b[39m\u001b[33m object has no attribute \u001b[39m\u001b[33m'\u001b[39m\u001b[38;5;132;01m{\u001b[39;00mattr\u001b[38;5;132;01m}\u001b[39;00m\u001b[33m'\u001b[39m\u001b[33m. See valid attributes below.\u001b[39m\u001b[38;5;130;01m\\n\u001b[39;00m\u001b[38;5;132;01m{\u001b[39;00m\u001b[38;5;28mself\u001b[39m.\u001b[34m__doc__\u001b[39m\u001b[38;5;132;01m}\u001b[39;00m\u001b[33m\"\u001b[39m)\n",
      "\u001b[31mAttributeError\u001b[39m: 'DetMetrics' object has no attribute 'best'. See valid attributes below.\n\n    Utility class for computing detection metrics such as precision, recall, and mean average precision (mAP).\n\n    Attributes:\n        save_dir (Path): A path to the directory where the output plots will be saved.\n        plot (bool): A flag that indicates whether to plot precision-recall curves for each class.\n        names (Dict[int, str]): A dictionary of class names.\n        box (Metric): An instance of the Metric class for storing detection results.\n        speed (Dict[str, float]): A dictionary for storing execution times of different parts of the detection process.\n        task (str): The task type, set to 'detect'.\n    "
     ]
    }
   ],
   "source": [
    "# Import các thư viện cần thiết\n",
    "from ultralytics import YOLO\n",
    "import torch\n",
    "\n",
    "# Kiểm tra GPU\n",
    "print(f\"GPU available: {torch.cuda.is_available()}\")\n",
    "if torch.cuda.is_available():\n",
    "    print(f\"GPU device: {torch.cuda.get_device_name(0)}\")\n",
    "\n",
    "# Đường dẫn đến dataset\n",
    "data_path = \"E:/yolo/detect_ads-2/data.yaml\"\n",
    "\n",
    "# Khởi tạo model từ pretrained weights\n",
    "model = YOLO('yolov8n.pt')  # Sử dụng model nhỏ (nano) cho nhanh\n",
    "\n",
    "# Huấn luyện model\n",
    "results = model.train(\n",
    "    data=data_path,       \n",
    "    epochs=150,           \n",
    "    imgsz=640,           \n",
    "    batch=16,             # Kích thước batch\n",
    "    device=0,             \n",
    "    name='detect_ads_model', \n",
    "    project='E:/yolo/runs', \n",
    "    exist_ok=True   \n",
    "    )     \n",
    "\n",
    "# In ra đường dẫn đến model tốt nhất\n",
    "print(f\"Best model saved at: {results.best}\")\n",
    "\n",
    "# Đánh giá mô hình trên tập validation\n",
    "metrics = model.val()\n",
    "print(f\"Validation results:\")\n",
    "print(f\"mAP50-95: {metrics.box.map:.4f}\")\n",
    "print(f\"mAP50: {metrics.box.map50:.4f}\")\n",
    "\n"
   ]
  },
  {
   "cell_type": "code",
   "execution_count": 6,
   "id": "cd739fd3",
   "metadata": {},
   "outputs": [
    {
     "name": "stdout",
     "output_type": "stream",
     "text": [
      "Ultralytics 8.3.148  Python-3.11.11 torch-2.5.1+cu121 CUDA:0 (NVIDIA GeForce RTX 4070, 12282MiB)\n",
      "\u001b[34m\u001b[1mengine\\trainer: \u001b[0magnostic_nms=False, amp=True, augment=False, auto_augment=randaugment, batch=16, bgr=0.0, box=7.5, cache=False, cfg=None, classes=None, close_mosaic=10, cls=0.5, conf=None, copy_paste=0.0, copy_paste_mode=flip, cos_lr=False, cutmix=0.0, data=E:/yolo/detect_ads-2/data.yaml, degrees=0.0, deterministic=True, device=0, dfl=1.5, dnn=False, dropout=0.0, dynamic=False, embed=None, epochs=50, erasing=0.4, exist_ok=True, fliplr=0.5, flipud=0.0, format=torchscript, fraction=1.0, freeze=None, half=False, hsv_h=0.015, hsv_s=0.7, hsv_v=0.4, imgsz=640, int8=False, iou=0.7, keras=False, kobj=1.0, line_width=None, lr0=0.01, lrf=0.01, mask_ratio=4, max_det=300, mixup=0.0, mode=train, model=E:/yolo/runs/detect_ads_model/weights/last.pt, momentum=0.937, mosaic=1.0, multi_scale=False, name=detect_ads_model_continued, nbs=64, nms=False, opset=None, optimize=False, optimizer=auto, overlap_mask=True, patience=100, perspective=0.0, plots=True, pose=12.0, pretrained=True, profile=False, project=E:/yolo/runs, rect=False, resume=False, retina_masks=False, save=True, save_conf=False, save_crop=False, save_dir=E:\\yolo\\runs\\detect_ads_model_continued, save_frames=False, save_json=False, save_period=-1, save_txt=False, scale=0.5, seed=0, shear=0.0, show=False, show_boxes=True, show_conf=True, show_labels=True, simplify=True, single_cls=False, source=None, split=val, stream_buffer=False, task=detect, time=None, tracker=botsort.yaml, translate=0.1, val=True, verbose=True, vid_stride=1, visualize=False, warmup_bias_lr=0.1, warmup_epochs=3.0, warmup_momentum=0.8, weight_decay=0.0005, workers=8, workspace=None\n",
      "\n",
      "                   from  n    params  module                                       arguments                     \n",
      "  0                  -1  1       464  ultralytics.nn.modules.conv.Conv             [3, 16, 3, 2]                 \n",
      "  1                  -1  1      4672  ultralytics.nn.modules.conv.Conv             [16, 32, 3, 2]                \n",
      "  2                  -1  1      7360  ultralytics.nn.modules.block.C2f             [32, 32, 1, True]             \n",
      "  3                  -1  1     18560  ultralytics.nn.modules.conv.Conv             [32, 64, 3, 2]                \n",
      "  4                  -1  2     49664  ultralytics.nn.modules.block.C2f             [64, 64, 2, True]             \n",
      "  5                  -1  1     73984  ultralytics.nn.modules.conv.Conv             [64, 128, 3, 2]               \n",
      "  6                  -1  2    197632  ultralytics.nn.modules.block.C2f             [128, 128, 2, True]           \n",
      "  7                  -1  1    295424  ultralytics.nn.modules.conv.Conv             [128, 256, 3, 2]              \n",
      "  8                  -1  1    460288  ultralytics.nn.modules.block.C2f             [256, 256, 1, True]           \n",
      "  9                  -1  1    164608  ultralytics.nn.modules.block.SPPF            [256, 256, 5]                 \n",
      " 10                  -1  1         0  torch.nn.modules.upsampling.Upsample         [None, 2, 'nearest']          \n",
      " 11             [-1, 6]  1         0  ultralytics.nn.modules.conv.Concat           [1]                           \n",
      " 12                  -1  1    148224  ultralytics.nn.modules.block.C2f             [384, 128, 1]                 \n",
      " 13                  -1  1         0  torch.nn.modules.upsampling.Upsample         [None, 2, 'nearest']          \n",
      " 14             [-1, 4]  1         0  ultralytics.nn.modules.conv.Concat           [1]                           \n",
      " 15                  -1  1     37248  ultralytics.nn.modules.block.C2f             [192, 64, 1]                  \n",
      " 16                  -1  1     36992  ultralytics.nn.modules.conv.Conv             [64, 64, 3, 2]                \n",
      " 17            [-1, 12]  1         0  ultralytics.nn.modules.conv.Concat           [1]                           \n",
      " 18                  -1  1    123648  ultralytics.nn.modules.block.C2f             [192, 128, 1]                 \n",
      " 19                  -1  1    147712  ultralytics.nn.modules.conv.Conv             [128, 128, 3, 2]              \n",
      " 20             [-1, 9]  1         0  ultralytics.nn.modules.conv.Concat           [1]                           \n",
      " 21                  -1  1    493056  ultralytics.nn.modules.block.C2f             [384, 256, 1]                 \n",
      " 22        [15, 18, 21]  1    751507  ultralytics.nn.modules.head.Detect           [1, [64, 128, 256]]           \n",
      "Model summary: 129 layers, 3,011,043 parameters, 3,011,027 gradients, 8.2 GFLOPs\n",
      "\n",
      "Transferred 355/355 items from pretrained weights\n",
      "Freezing layer 'model.22.dfl.conv.weight'\n",
      "\u001b[34m\u001b[1mAMP: \u001b[0mrunning Automatic Mixed Precision (AMP) checks...\n",
      "\u001b[34m\u001b[1mAMP: \u001b[0mchecks passed \n",
      "\u001b[34m\u001b[1mtrain: \u001b[0mFast image access  (ping: 0.00.0 ms, read: 2286.3957.4 MB/s, size: 87.2 KB)\n"
     ]
    },
    {
     "name": "stderr",
     "output_type": "stream",
     "text": [
      "\u001b[34m\u001b[1mtrain: \u001b[0mScanning E:\\yolo\\detect_ads-2\\train\\labels.cache... 322 images, 2 backgrounds, 0 corrupt: 100%|██████████| 322/322 [00:00<?, ?it/s]\n"
     ]
    },
    {
     "name": "stdout",
     "output_type": "stream",
     "text": [
      "\u001b[34m\u001b[1mval: \u001b[0mFast image access  (ping: 0.00.0 ms, read: 623.2212.6 MB/s, size: 49.7 KB)\n"
     ]
    },
    {
     "name": "stderr",
     "output_type": "stream",
     "text": [
      "\u001b[34m\u001b[1mval: \u001b[0mScanning E:\\yolo\\detect_ads-2\\valid\\labels.cache... 75 images, 0 backgrounds, 0 corrupt: 100%|██████████| 75/75 [00:00<?, ?it/s]\n"
     ]
    },
    {
     "name": "stdout",
     "output_type": "stream",
     "text": [
      "Plotting labels to E:\\yolo\\runs\\detect_ads_model_continued\\labels.jpg... \n",
      "\u001b[34m\u001b[1moptimizer:\u001b[0m 'optimizer=auto' found, ignoring 'lr0=0.01' and 'momentum=0.937' and determining best 'optimizer', 'lr0' and 'momentum' automatically... \n",
      "\u001b[34m\u001b[1moptimizer:\u001b[0m AdamW(lr=0.002, momentum=0.9) with parameter groups 57 weight(decay=0.0), 64 weight(decay=0.0005), 63 bias(decay=0.0)\n",
      "Image sizes 640 train, 640 val\n",
      "Using 8 dataloader workers\n",
      "Logging results to \u001b[1mE:\\yolo\\runs\\detect_ads_model_continued\u001b[0m\n",
      "Starting training for 50 epochs...\n",
      "\n",
      "      Epoch    GPU_mem   box_loss   cls_loss   dfl_loss  Instances       Size\n"
     ]
    },
    {
     "name": "stderr",
     "output_type": "stream",
     "text": [
      "       1/50      2.08G     0.3956     0.2838     0.8807          4        640: 100%|██████████| 21/21 [00:02<00:00,  9.59it/s]\n",
      "                 Class     Images  Instances      Box(P          R      mAP50  mAP50-95): 100%|██████████| 3/3 [00:00<00:00, 13.38it/s]"
     ]
    },
    {
     "name": "stdout",
     "output_type": "stream",
     "text": [
      "                   all         75         76      0.947      0.944       0.98      0.832\n",
      "\n",
      "      Epoch    GPU_mem   box_loss   cls_loss   dfl_loss  Instances       Size\n"
     ]
    },
    {
     "name": "stderr",
     "output_type": "stream",
     "text": [
      "\n",
      "       2/50      2.28G     0.3893     0.3004     0.8692          5        640: 100%|██████████| 21/21 [00:01<00:00, 13.90it/s]\n",
      "                 Class     Images  Instances      Box(P          R      mAP50  mAP50-95): 100%|██████████| 3/3 [00:00<00:00, 13.74it/s]"
     ]
    },
    {
     "name": "stdout",
     "output_type": "stream",
     "text": [
      "                   all         75         76      0.914      0.987      0.962      0.812\n",
      "\n",
      "      Epoch    GPU_mem   box_loss   cls_loss   dfl_loss  Instances       Size\n"
     ]
    },
    {
     "name": "stderr",
     "output_type": "stream",
     "text": [
      "\n",
      "       3/50      2.28G      0.429     0.3212     0.8799          2        640: 100%|██████████| 21/21 [00:01<00:00, 13.91it/s]\n",
      "                 Class     Images  Instances      Box(P          R      mAP50  mAP50-95): 100%|██████████| 3/3 [00:00<00:00, 13.14it/s]"
     ]
    },
    {
     "name": "stdout",
     "output_type": "stream",
     "text": [
      "                   all         75         76      0.814      0.862      0.891      0.751\n",
      "\n",
      "      Epoch    GPU_mem   box_loss   cls_loss   dfl_loss  Instances       Size\n"
     ]
    },
    {
     "name": "stderr",
     "output_type": "stream",
     "text": [
      "\n",
      "       4/50      2.28G     0.4416      0.334     0.8661          3        640: 100%|██████████| 21/21 [00:01<00:00, 14.44it/s]\n",
      "                 Class     Images  Instances      Box(P          R      mAP50  mAP50-95): 100%|██████████| 3/3 [00:00<00:00, 12.97it/s]"
     ]
    },
    {
     "name": "stdout",
     "output_type": "stream",
     "text": [
      "                   all         75         76      0.905      0.895      0.929      0.794\n",
      "\n",
      "      Epoch    GPU_mem   box_loss   cls_loss   dfl_loss  Instances       Size\n"
     ]
    },
    {
     "name": "stderr",
     "output_type": "stream",
     "text": [
      "\n",
      "       5/50      2.28G     0.4365     0.3373     0.8801          8        640: 100%|██████████| 21/21 [00:01<00:00, 14.37it/s]\n",
      "                 Class     Images  Instances      Box(P          R      mAP50  mAP50-95): 100%|██████████| 3/3 [00:00<00:00, 13.50it/s]"
     ]
    },
    {
     "name": "stdout",
     "output_type": "stream",
     "text": [
      "                   all         75         76      0.884      0.903      0.925      0.787\n",
      "\n",
      "      Epoch    GPU_mem   box_loss   cls_loss   dfl_loss  Instances       Size\n"
     ]
    },
    {
     "name": "stderr",
     "output_type": "stream",
     "text": [
      "\n",
      "       6/50      2.28G     0.4565     0.3465     0.8731          5        640: 100%|██████████| 21/21 [00:01<00:00, 14.55it/s]\n",
      "                 Class     Images  Instances      Box(P          R      mAP50  mAP50-95): 100%|██████████| 3/3 [00:00<00:00, 13.38it/s]"
     ]
    },
    {
     "name": "stdout",
     "output_type": "stream",
     "text": [
      "                   all         75         76      0.882      0.947      0.954      0.807\n",
      "\n",
      "      Epoch    GPU_mem   box_loss   cls_loss   dfl_loss  Instances       Size\n"
     ]
    },
    {
     "name": "stderr",
     "output_type": "stream",
     "text": [
      "\n",
      "       7/50      2.28G     0.4842     0.3589     0.8748          2        640: 100%|██████████| 21/21 [00:01<00:00, 14.59it/s]\n",
      "                 Class     Images  Instances      Box(P          R      mAP50  mAP50-95): 100%|██████████| 3/3 [00:00<00:00, 13.31it/s]"
     ]
    },
    {
     "name": "stdout",
     "output_type": "stream",
     "text": [
      "                   all         75         76      0.834      0.922      0.925      0.786\n",
      "\n",
      "      Epoch    GPU_mem   box_loss   cls_loss   dfl_loss  Instances       Size\n"
     ]
    },
    {
     "name": "stderr",
     "output_type": "stream",
     "text": [
      "\n",
      "       8/50      2.28G      0.469     0.3529     0.8812          5        640: 100%|██████████| 21/21 [00:01<00:00, 14.39it/s]\n",
      "                 Class     Images  Instances      Box(P          R      mAP50  mAP50-95): 100%|██████████| 3/3 [00:00<00:00, 13.50it/s]"
     ]
    },
    {
     "name": "stdout",
     "output_type": "stream",
     "text": [
      "                   all         75         76       0.91      0.882      0.962      0.823\n",
      "\n",
      "      Epoch    GPU_mem   box_loss   cls_loss   dfl_loss  Instances       Size\n"
     ]
    },
    {
     "name": "stderr",
     "output_type": "stream",
     "text": [
      "\n",
      "       9/50      2.28G     0.4554     0.3434     0.8967          9        640: 100%|██████████| 21/21 [00:01<00:00, 14.66it/s]\n",
      "                 Class     Images  Instances      Box(P          R      mAP50  mAP50-95): 100%|██████████| 3/3 [00:00<00:00, 13.62it/s]"
     ]
    },
    {
     "name": "stdout",
     "output_type": "stream",
     "text": [
      "                   all         75         76      0.959      0.918      0.958      0.798\n",
      "\n",
      "      Epoch    GPU_mem   box_loss   cls_loss   dfl_loss  Instances       Size\n"
     ]
    },
    {
     "name": "stderr",
     "output_type": "stream",
     "text": [
      "\n",
      "      10/50      2.28G      0.466     0.3541     0.8752          2        640: 100%|██████████| 21/21 [00:01<00:00, 14.53it/s]\n",
      "                 Class     Images  Instances      Box(P          R      mAP50  mAP50-95): 100%|██████████| 3/3 [00:00<00:00, 13.94it/s]"
     ]
    },
    {
     "name": "stdout",
     "output_type": "stream",
     "text": [
      "                   all         75         76      0.961      0.842      0.949      0.794\n",
      "\n",
      "      Epoch    GPU_mem   box_loss   cls_loss   dfl_loss  Instances       Size\n"
     ]
    },
    {
     "name": "stderr",
     "output_type": "stream",
     "text": [
      "\n",
      "      11/50      2.28G     0.4622     0.3979     0.8826          2        640: 100%|██████████| 21/21 [00:01<00:00, 14.40it/s]\n",
      "                 Class     Images  Instances      Box(P          R      mAP50  mAP50-95): 100%|██████████| 3/3 [00:00<00:00, 13.38it/s]"
     ]
    },
    {
     "name": "stdout",
     "output_type": "stream",
     "text": [
      "                   all         75         76      0.876      0.882      0.936      0.814\n",
      "\n",
      "      Epoch    GPU_mem   box_loss   cls_loss   dfl_loss  Instances       Size\n"
     ]
    },
    {
     "name": "stderr",
     "output_type": "stream",
     "text": [
      "\n",
      "      12/50      2.28G     0.4455     0.3387     0.8788          2        640: 100%|██████████| 21/21 [00:01<00:00, 14.42it/s]\n",
      "                 Class     Images  Instances      Box(P          R      mAP50  mAP50-95): 100%|██████████| 3/3 [00:00<00:00, 13.26it/s]"
     ]
    },
    {
     "name": "stdout",
     "output_type": "stream",
     "text": [
      "                   all         75         76      0.857      0.816       0.92      0.754\n",
      "\n",
      "      Epoch    GPU_mem   box_loss   cls_loss   dfl_loss  Instances       Size\n"
     ]
    },
    {
     "name": "stderr",
     "output_type": "stream",
     "text": [
      "\n",
      "      13/50      2.28G     0.4576     0.3549      0.879          5        640: 100%|██████████| 21/21 [00:01<00:00, 14.47it/s]\n",
      "                 Class     Images  Instances      Box(P          R      mAP50  mAP50-95): 100%|██████████| 3/3 [00:00<00:00, 13.44it/s]"
     ]
    },
    {
     "name": "stdout",
     "output_type": "stream",
     "text": [
      "                   all         75         76      0.812      0.895      0.911      0.767\n",
      "\n",
      "      Epoch    GPU_mem   box_loss   cls_loss   dfl_loss  Instances       Size\n"
     ]
    },
    {
     "name": "stderr",
     "output_type": "stream",
     "text": [
      "\n",
      "      14/50      2.28G     0.4387     0.3452     0.8689          4        640: 100%|██████████| 21/21 [00:01<00:00, 14.50it/s]\n",
      "                 Class     Images  Instances      Box(P          R      mAP50  mAP50-95): 100%|██████████| 3/3 [00:00<00:00, 13.50it/s]"
     ]
    },
    {
     "name": "stdout",
     "output_type": "stream",
     "text": [
      "                   all         75         76       0.87      0.789      0.868      0.687\n"
     ]
    },
    {
     "name": "stderr",
     "output_type": "stream",
     "text": [
      "\n"
     ]
    },
    {
     "name": "stdout",
     "output_type": "stream",
     "text": [
      "\n",
      "      Epoch    GPU_mem   box_loss   cls_loss   dfl_loss  Instances       Size\n"
     ]
    },
    {
     "name": "stderr",
     "output_type": "stream",
     "text": [
      "      15/50      2.28G     0.4316     0.3401     0.8735          6        640: 100%|██████████| 21/21 [00:01<00:00, 14.46it/s]\n",
      "                 Class     Images  Instances      Box(P          R      mAP50  mAP50-95): 100%|██████████| 3/3 [00:00<00:00, 13.14it/s]"
     ]
    },
    {
     "name": "stdout",
     "output_type": "stream",
     "text": [
      "                   all         75         76      0.807      0.882      0.883      0.738\n"
     ]
    },
    {
     "name": "stderr",
     "output_type": "stream",
     "text": [
      "\n"
     ]
    },
    {
     "name": "stdout",
     "output_type": "stream",
     "text": [
      "\n",
      "      Epoch    GPU_mem   box_loss   cls_loss   dfl_loss  Instances       Size\n"
     ]
    },
    {
     "name": "stderr",
     "output_type": "stream",
     "text": [
      "      16/50      2.28G     0.4557      0.364      0.902          2        640: 100%|██████████| 21/21 [00:01<00:00, 14.45it/s]\n",
      "                 Class     Images  Instances      Box(P          R      mAP50  mAP50-95): 100%|██████████| 3/3 [00:00<00:00, 13.32it/s]"
     ]
    },
    {
     "name": "stdout",
     "output_type": "stream",
     "text": [
      "                   all         75         76       0.87      0.947      0.954      0.835\n",
      "\n",
      "      Epoch    GPU_mem   box_loss   cls_loss   dfl_loss  Instances       Size\n"
     ]
    },
    {
     "name": "stderr",
     "output_type": "stream",
     "text": [
      "\n",
      "      17/50      2.28G     0.4382     0.3487     0.8824          5        640: 100%|██████████| 21/21 [00:01<00:00, 14.44it/s]\n",
      "                 Class     Images  Instances      Box(P          R      mAP50  mAP50-95): 100%|██████████| 3/3 [00:00<00:00, 13.62it/s]"
     ]
    },
    {
     "name": "stdout",
     "output_type": "stream",
     "text": [
      "                   all         75         76      0.787      0.895      0.911      0.781\n",
      "\n",
      "      Epoch    GPU_mem   box_loss   cls_loss   dfl_loss  Instances       Size\n"
     ]
    },
    {
     "name": "stderr",
     "output_type": "stream",
     "text": [
      "\n",
      "      18/50      2.28G     0.4636     0.3564     0.8857          5        640: 100%|██████████| 21/21 [00:01<00:00, 14.57it/s]\n",
      "                 Class     Images  Instances      Box(P          R      mAP50  mAP50-95): 100%|██████████| 3/3 [00:00<00:00, 13.14it/s]"
     ]
    },
    {
     "name": "stdout",
     "output_type": "stream",
     "text": [
      "                   all         75         76      0.868      0.863      0.892      0.744\n",
      "\n",
      "      Epoch    GPU_mem   box_loss   cls_loss   dfl_loss  Instances       Size\n"
     ]
    },
    {
     "name": "stderr",
     "output_type": "stream",
     "text": [
      "\n",
      "      19/50      2.28G      0.459     0.3513     0.8871          7        640: 100%|██████████| 21/21 [00:01<00:00, 14.44it/s]\n",
      "                 Class     Images  Instances      Box(P          R      mAP50  mAP50-95): 100%|██████████| 3/3 [00:00<00:00, 13.80it/s]"
     ]
    },
    {
     "name": "stdout",
     "output_type": "stream",
     "text": [
      "                   all         75         76      0.887      0.932      0.945      0.818\n",
      "\n",
      "      Epoch    GPU_mem   box_loss   cls_loss   dfl_loss  Instances       Size\n"
     ]
    },
    {
     "name": "stderr",
     "output_type": "stream",
     "text": [
      "\n",
      "      20/50      2.28G     0.4382     0.3276      0.882          3        640: 100%|██████████| 21/21 [00:01<00:00, 14.56it/s]\n",
      "                 Class     Images  Instances      Box(P          R      mAP50  mAP50-95): 100%|██████████| 3/3 [00:00<00:00, 13.50it/s]"
     ]
    },
    {
     "name": "stdout",
     "output_type": "stream",
     "text": [
      "                   all         75         76      0.949      0.985      0.965      0.851\n",
      "\n",
      "      Epoch    GPU_mem   box_loss   cls_loss   dfl_loss  Instances       Size\n"
     ]
    },
    {
     "name": "stderr",
     "output_type": "stream",
     "text": [
      "\n",
      "      21/50      2.28G     0.4575     0.3442     0.8878          5        640: 100%|██████████| 21/21 [00:01<00:00, 14.54it/s]\n",
      "                 Class     Images  Instances      Box(P          R      mAP50  mAP50-95): 100%|██████████| 3/3 [00:00<00:00, 13.50it/s]"
     ]
    },
    {
     "name": "stdout",
     "output_type": "stream",
     "text": [
      "                   all         75         76      0.931      0.934      0.966      0.847\n",
      "\n",
      "      Epoch    GPU_mem   box_loss   cls_loss   dfl_loss  Instances       Size\n"
     ]
    },
    {
     "name": "stderr",
     "output_type": "stream",
     "text": [
      "\n",
      "      22/50      2.28G     0.4028     0.3163     0.8749          4        640: 100%|██████████| 21/21 [00:01<00:00, 14.57it/s]\n",
      "                 Class     Images  Instances      Box(P          R      mAP50  mAP50-95): 100%|██████████| 3/3 [00:00<00:00, 13.25it/s]"
     ]
    },
    {
     "name": "stdout",
     "output_type": "stream",
     "text": [
      "                   all         75         76      0.931      0.868      0.953      0.828\n",
      "\n",
      "      Epoch    GPU_mem   box_loss   cls_loss   dfl_loss  Instances       Size\n"
     ]
    },
    {
     "name": "stderr",
     "output_type": "stream",
     "text": [
      "\n",
      "      23/50      2.28G     0.4332     0.3227     0.8843          5        640: 100%|██████████| 21/21 [00:01<00:00, 14.50it/s]\n",
      "                 Class     Images  Instances      Box(P          R      mAP50  mAP50-95): 100%|██████████| 3/3 [00:00<00:00, 13.74it/s]"
     ]
    },
    {
     "name": "stdout",
     "output_type": "stream",
     "text": [
      "                   all         75         76        0.9      0.934      0.948      0.832\n",
      "\n",
      "      Epoch    GPU_mem   box_loss   cls_loss   dfl_loss  Instances       Size\n"
     ]
    },
    {
     "name": "stderr",
     "output_type": "stream",
     "text": [
      "\n",
      "      24/50      2.28G     0.4291     0.3002     0.8702          4        640: 100%|██████████| 21/21 [00:01<00:00, 14.42it/s]\n",
      "                 Class     Images  Instances      Box(P          R      mAP50  mAP50-95): 100%|██████████| 3/3 [00:00<00:00, 13.62it/s]"
     ]
    },
    {
     "name": "stdout",
     "output_type": "stream",
     "text": [
      "                   all         75         76      0.923      0.941      0.973      0.882\n",
      "\n",
      "      Epoch    GPU_mem   box_loss   cls_loss   dfl_loss  Instances       Size\n"
     ]
    },
    {
     "name": "stderr",
     "output_type": "stream",
     "text": [
      "\n",
      "      25/50      2.28G     0.4248      0.318      0.878          5        640: 100%|██████████| 21/21 [00:01<00:00, 14.53it/s]\n",
      "                 Class     Images  Instances      Box(P          R      mAP50  mAP50-95): 100%|██████████| 3/3 [00:00<00:00, 13.93it/s]"
     ]
    },
    {
     "name": "stdout",
     "output_type": "stream",
     "text": [
      "                   all         75         76      0.923      0.941      0.946      0.844\n",
      "\n",
      "      Epoch    GPU_mem   box_loss   cls_loss   dfl_loss  Instances       Size\n"
     ]
    },
    {
     "name": "stderr",
     "output_type": "stream",
     "text": [
      "\n",
      "      26/50      2.28G     0.4158     0.2993     0.8614          7        640: 100%|██████████| 21/21 [00:01<00:00, 14.42it/s]\n",
      "                 Class     Images  Instances      Box(P          R      mAP50  mAP50-95): 100%|██████████| 3/3 [00:00<00:00, 13.74it/s]"
     ]
    },
    {
     "name": "stdout",
     "output_type": "stream",
     "text": [
      "                   all         75         76      0.917      0.987      0.941      0.847\n",
      "\n",
      "      Epoch    GPU_mem   box_loss   cls_loss   dfl_loss  Instances       Size\n"
     ]
    },
    {
     "name": "stderr",
     "output_type": "stream",
     "text": [
      "\n",
      "      27/50      2.28G     0.3992     0.2955     0.8549          7        640: 100%|██████████| 21/21 [00:01<00:00, 14.40it/s]\n",
      "                 Class     Images  Instances      Box(P          R      mAP50  mAP50-95): 100%|██████████| 3/3 [00:00<00:00, 13.56it/s]"
     ]
    },
    {
     "name": "stdout",
     "output_type": "stream",
     "text": [
      "                   all         75         76      0.948      0.959      0.951      0.859\n",
      "\n",
      "      Epoch    GPU_mem   box_loss   cls_loss   dfl_loss  Instances       Size\n"
     ]
    },
    {
     "name": "stderr",
     "output_type": "stream",
     "text": [
      "\n",
      "      28/50      2.28G     0.4064     0.2836     0.8748          6        640: 100%|██████████| 21/21 [00:01<00:00, 14.50it/s]\n",
      "                 Class     Images  Instances      Box(P          R      mAP50  mAP50-95): 100%|██████████| 3/3 [00:00<00:00, 12.91it/s]"
     ]
    },
    {
     "name": "stdout",
     "output_type": "stream",
     "text": [
      "                   all         75         76      0.946      0.987      0.967      0.869\n"
     ]
    },
    {
     "name": "stderr",
     "output_type": "stream",
     "text": [
      "\n"
     ]
    },
    {
     "name": "stdout",
     "output_type": "stream",
     "text": [
      "\n",
      "      Epoch    GPU_mem   box_loss   cls_loss   dfl_loss  Instances       Size\n"
     ]
    },
    {
     "name": "stderr",
     "output_type": "stream",
     "text": [
      "      29/50      2.28G     0.3951     0.2872     0.8578          6        640: 100%|██████████| 21/21 [00:01<00:00, 14.52it/s]\n",
      "                 Class     Images  Instances      Box(P          R      mAP50  mAP50-95): 100%|██████████| 3/3 [00:00<00:00, 13.81it/s]"
     ]
    },
    {
     "name": "stdout",
     "output_type": "stream",
     "text": [
      "                   all         75         76      0.947      0.987      0.967       0.86\n"
     ]
    },
    {
     "name": "stderr",
     "output_type": "stream",
     "text": [
      "\n"
     ]
    },
    {
     "name": "stdout",
     "output_type": "stream",
     "text": [
      "\n",
      "      Epoch    GPU_mem   box_loss   cls_loss   dfl_loss  Instances       Size\n"
     ]
    },
    {
     "name": "stderr",
     "output_type": "stream",
     "text": [
      "      30/50      2.28G     0.4106     0.2983     0.8613          3        640: 100%|██████████| 21/21 [00:01<00:00, 14.33it/s]\n",
      "                 Class     Images  Instances      Box(P          R      mAP50  mAP50-95): 100%|██████████| 3/3 [00:00<00:00, 13.74it/s]"
     ]
    },
    {
     "name": "stdout",
     "output_type": "stream",
     "text": [
      "                   all         75         76      0.949      0.978       0.98      0.847\n",
      "\n",
      "      Epoch    GPU_mem   box_loss   cls_loss   dfl_loss  Instances       Size\n"
     ]
    },
    {
     "name": "stderr",
     "output_type": "stream",
     "text": [
      "\n",
      "      31/50      2.28G     0.3891      0.301     0.8639          6        640: 100%|██████████| 21/21 [00:01<00:00, 14.53it/s]\n",
      "                 Class     Images  Instances      Box(P          R      mAP50  mAP50-95): 100%|██████████| 3/3 [00:00<00:00, 13.80it/s]"
     ]
    },
    {
     "name": "stdout",
     "output_type": "stream",
     "text": [
      "                   all         75         76      0.922      0.987       0.97      0.877\n",
      "\n",
      "      Epoch    GPU_mem   box_loss   cls_loss   dfl_loss  Instances       Size\n"
     ]
    },
    {
     "name": "stderr",
     "output_type": "stream",
     "text": [
      "\n",
      "      32/50      2.28G     0.3944     0.2818     0.8513          6        640: 100%|██████████| 21/21 [00:01<00:00, 14.25it/s]\n",
      "                 Class     Images  Instances      Box(P          R      mAP50  mAP50-95): 100%|██████████| 3/3 [00:00<00:00, 13.50it/s]"
     ]
    },
    {
     "name": "stdout",
     "output_type": "stream",
     "text": [
      "                   all         75         76      0.949      0.983      0.979      0.877\n",
      "\n",
      "      Epoch    GPU_mem   box_loss   cls_loss   dfl_loss  Instances       Size\n"
     ]
    },
    {
     "name": "stderr",
     "output_type": "stream",
     "text": [
      "\n",
      "      33/50      2.28G     0.3966     0.3056     0.8555          1        640: 100%|██████████| 21/21 [00:01<00:00, 14.48it/s]\n",
      "                 Class     Images  Instances      Box(P          R      mAP50  mAP50-95): 100%|██████████| 3/3 [00:00<00:00, 13.44it/s]"
     ]
    },
    {
     "name": "stdout",
     "output_type": "stream",
     "text": [
      "                   all         75         76      0.944      0.974       0.98      0.878\n",
      "\n",
      "      Epoch    GPU_mem   box_loss   cls_loss   dfl_loss  Instances       Size\n"
     ]
    },
    {
     "name": "stderr",
     "output_type": "stream",
     "text": [
      "\n",
      "      34/50      2.28G     0.3872      0.289     0.8716          4        640: 100%|██████████| 21/21 [00:01<00:00, 14.47it/s]\n",
      "                 Class     Images  Instances      Box(P          R      mAP50  mAP50-95): 100%|██████████| 3/3 [00:00<00:00, 13.50it/s]"
     ]
    },
    {
     "name": "stdout",
     "output_type": "stream",
     "text": [
      "                   all         75         76      0.935      0.947      0.966      0.868\n",
      "\n",
      "      Epoch    GPU_mem   box_loss   cls_loss   dfl_loss  Instances       Size\n"
     ]
    },
    {
     "name": "stderr",
     "output_type": "stream",
     "text": [
      "\n",
      "      35/50      2.28G     0.3683     0.2748     0.8553          5        640: 100%|██████████| 21/21 [00:01<00:00, 14.42it/s]\n",
      "                 Class     Images  Instances      Box(P          R      mAP50  mAP50-95): 100%|██████████| 3/3 [00:00<00:00, 13.87it/s]"
     ]
    },
    {
     "name": "stdout",
     "output_type": "stream",
     "text": [
      "                   all         75         76      0.933      0.961      0.972      0.889\n",
      "\n",
      "      Epoch    GPU_mem   box_loss   cls_loss   dfl_loss  Instances       Size\n"
     ]
    },
    {
     "name": "stderr",
     "output_type": "stream",
     "text": [
      "\n",
      "      36/50      2.28G     0.3852     0.2665     0.8664          5        640: 100%|██████████| 21/21 [00:01<00:00, 14.28it/s]\n",
      "                 Class     Images  Instances      Box(P          R      mAP50  mAP50-95): 100%|██████████| 3/3 [00:00<00:00, 13.50it/s]"
     ]
    },
    {
     "name": "stdout",
     "output_type": "stream",
     "text": [
      "                   all         75         76      0.926      0.981      0.976      0.885\n",
      "\n",
      "      Epoch    GPU_mem   box_loss   cls_loss   dfl_loss  Instances       Size\n"
     ]
    },
    {
     "name": "stderr",
     "output_type": "stream",
     "text": [
      "\n",
      "      37/50      2.28G     0.3687     0.2615     0.8631          6        640: 100%|██████████| 21/21 [00:01<00:00, 14.59it/s]\n",
      "                 Class     Images  Instances      Box(P          R      mAP50  mAP50-95): 100%|██████████| 3/3 [00:00<00:00, 13.55it/s]"
     ]
    },
    {
     "name": "stdout",
     "output_type": "stream",
     "text": [
      "                   all         75         76      0.915      0.961       0.98      0.889\n",
      "\n",
      "      Epoch    GPU_mem   box_loss   cls_loss   dfl_loss  Instances       Size\n"
     ]
    },
    {
     "name": "stderr",
     "output_type": "stream",
     "text": [
      "\n",
      "      38/50      2.28G     0.3533     0.2574     0.8476          2        640: 100%|██████████| 21/21 [00:01<00:00, 14.41it/s]\n",
      "                 Class     Images  Instances      Box(P          R      mAP50  mAP50-95): 100%|██████████| 3/3 [00:00<00:00, 13.38it/s]"
     ]
    },
    {
     "name": "stdout",
     "output_type": "stream",
     "text": [
      "                   all         75         76      0.924      0.955      0.969      0.873\n",
      "\n",
      "      Epoch    GPU_mem   box_loss   cls_loss   dfl_loss  Instances       Size\n"
     ]
    },
    {
     "name": "stderr",
     "output_type": "stream",
     "text": [
      "\n",
      "      39/50      2.28G     0.3626     0.2518     0.8488          4        640: 100%|██████████| 21/21 [00:01<00:00, 14.48it/s]\n",
      "                 Class     Images  Instances      Box(P          R      mAP50  mAP50-95): 100%|██████████| 3/3 [00:00<00:00, 14.07it/s]"
     ]
    },
    {
     "name": "stdout",
     "output_type": "stream",
     "text": [
      "                   all         75         76      0.891      0.987      0.965      0.871\n",
      "\n",
      "      Epoch    GPU_mem   box_loss   cls_loss   dfl_loss  Instances       Size\n"
     ]
    },
    {
     "name": "stderr",
     "output_type": "stream",
     "text": [
      "\n",
      "      40/50      2.28G     0.3583     0.2535     0.8339          2        640: 100%|██████████| 21/21 [00:01<00:00, 14.25it/s]\n",
      "                 Class     Images  Instances      Box(P          R      mAP50  mAP50-95): 100%|██████████| 3/3 [00:00<00:00, 13.25it/s]"
     ]
    },
    {
     "name": "stdout",
     "output_type": "stream",
     "text": [
      "                   all         75         76      0.897      0.974      0.973      0.886\n",
      "Closing dataloader mosaic\n"
     ]
    },
    {
     "name": "stderr",
     "output_type": "stream",
     "text": [
      "\n"
     ]
    },
    {
     "name": "stdout",
     "output_type": "stream",
     "text": [
      "\n",
      "      Epoch    GPU_mem   box_loss   cls_loss   dfl_loss  Instances       Size\n"
     ]
    },
    {
     "name": "stderr",
     "output_type": "stream",
     "text": [
      "      41/50      2.28G     0.3682     0.2806     0.8609          1        640: 100%|██████████| 21/21 [00:01<00:00, 14.47it/s]\n",
      "                 Class     Images  Instances      Box(P          R      mAP50  mAP50-95): 100%|██████████| 3/3 [00:00<00:00, 14.33it/s]"
     ]
    },
    {
     "name": "stdout",
     "output_type": "stream",
     "text": [
      "                   all         75         76      0.944      0.934      0.981      0.883\n",
      "\n",
      "      Epoch    GPU_mem   box_loss   cls_loss   dfl_loss  Instances       Size\n"
     ]
    },
    {
     "name": "stderr",
     "output_type": "stream",
     "text": [
      "\n",
      "      42/50      2.28G     0.3244     0.2715     0.8199          3        640: 100%|██████████| 21/21 [00:01<00:00, 15.74it/s]\n",
      "                 Class     Images  Instances      Box(P          R      mAP50  mAP50-95): 100%|██████████| 3/3 [00:00<00:00, 14.53it/s]"
     ]
    },
    {
     "name": "stdout",
     "output_type": "stream",
     "text": [
      "                   all         75         76      0.933       0.91      0.981      0.878\n",
      "\n",
      "      Epoch    GPU_mem   box_loss   cls_loss   dfl_loss  Instances       Size\n"
     ]
    },
    {
     "name": "stderr",
     "output_type": "stream",
     "text": [
      "\n",
      "      43/50      2.28G     0.3476     0.2598     0.8348          2        640: 100%|██████████| 21/21 [00:01<00:00, 15.71it/s]\n",
      "                 Class     Images  Instances      Box(P          R      mAP50  mAP50-95): 100%|██████████| 3/3 [00:00<00:00, 14.61it/s]"
     ]
    },
    {
     "name": "stdout",
     "output_type": "stream",
     "text": [
      "                   all         75         76      0.946      0.947      0.981      0.891\n",
      "\n",
      "      Epoch    GPU_mem   box_loss   cls_loss   dfl_loss  Instances       Size\n"
     ]
    },
    {
     "name": "stderr",
     "output_type": "stream",
     "text": [
      "\n",
      "      44/50      2.28G     0.3133     0.2237     0.8309          2        640: 100%|██████████| 21/21 [00:01<00:00, 15.58it/s]\n",
      "                 Class     Images  Instances      Box(P          R      mAP50  mAP50-95): 100%|██████████| 3/3 [00:00<00:00, 14.76it/s]"
     ]
    },
    {
     "name": "stdout",
     "output_type": "stream",
     "text": [
      "                   all         75         76      0.925      0.974      0.979      0.881\n",
      "\n",
      "      Epoch    GPU_mem   box_loss   cls_loss   dfl_loss  Instances       Size\n"
     ]
    },
    {
     "name": "stderr",
     "output_type": "stream",
     "text": [
      "\n",
      "      45/50      2.28G     0.3265     0.2245     0.8332          2        640: 100%|██████████| 21/21 [00:01<00:00, 15.89it/s]\n",
      "                 Class     Images  Instances      Box(P          R      mAP50  mAP50-95): 100%|██████████| 3/3 [00:00<00:00, 14.82it/s]"
     ]
    },
    {
     "name": "stdout",
     "output_type": "stream",
     "text": [
      "                   all         75         76      0.937      0.984      0.976      0.868\n"
     ]
    },
    {
     "name": "stderr",
     "output_type": "stream",
     "text": [
      "\n"
     ]
    },
    {
     "name": "stdout",
     "output_type": "stream",
     "text": [
      "\n",
      "      Epoch    GPU_mem   box_loss   cls_loss   dfl_loss  Instances       Size\n"
     ]
    },
    {
     "name": "stderr",
     "output_type": "stream",
     "text": [
      "      46/50      2.28G     0.3058     0.2073     0.8174          3        640: 100%|██████████| 21/21 [00:01<00:00, 15.82it/s]\n",
      "                 Class     Images  Instances      Box(P          R      mAP50  mAP50-95): 100%|██████████| 3/3 [00:00<00:00, 14.40it/s]"
     ]
    },
    {
     "name": "stdout",
     "output_type": "stream",
     "text": [
      "                   all         75         76      0.948      0.963       0.98      0.871\n",
      "\n",
      "      Epoch    GPU_mem   box_loss   cls_loss   dfl_loss  Instances       Size\n"
     ]
    },
    {
     "name": "stderr",
     "output_type": "stream",
     "text": [
      "\n",
      "      47/50      2.28G     0.3259     0.2299     0.8131          1        640: 100%|██████████| 21/21 [00:01<00:00, 15.93it/s]\n",
      "                 Class     Images  Instances      Box(P          R      mAP50  mAP50-95): 100%|██████████| 3/3 [00:00<00:00, 13.94it/s]"
     ]
    },
    {
     "name": "stdout",
     "output_type": "stream",
     "text": [
      "                   all         75         76       0.96      0.974      0.982      0.873\n",
      "\n",
      "      Epoch    GPU_mem   box_loss   cls_loss   dfl_loss  Instances       Size\n"
     ]
    },
    {
     "name": "stderr",
     "output_type": "stream",
     "text": [
      "\n",
      "      48/50      2.28G     0.3368      0.223     0.8702          2        640: 100%|██████████| 21/21 [00:01<00:00, 14.65it/s]\n",
      "                 Class     Images  Instances      Box(P          R      mAP50  mAP50-95): 100%|██████████| 3/3 [00:00<00:00, 13.08it/s]"
     ]
    },
    {
     "name": "stdout",
     "output_type": "stream",
     "text": [
      "                   all         75         76      0.946          1      0.969      0.865\n",
      "\n",
      "      Epoch    GPU_mem   box_loss   cls_loss   dfl_loss  Instances       Size\n"
     ]
    },
    {
     "name": "stderr",
     "output_type": "stream",
     "text": [
      "\n",
      "      49/50      2.28G     0.3102     0.2078     0.8033          2        640: 100%|██████████| 21/21 [00:01<00:00, 14.59it/s]\n",
      "                 Class     Images  Instances      Box(P          R      mAP50  mAP50-95): 100%|██████████| 3/3 [00:00<00:00, 13.50it/s]"
     ]
    },
    {
     "name": "stdout",
     "output_type": "stream",
     "text": [
      "                   all         75         76       0.95      0.997      0.969      0.864\n",
      "\n",
      "      Epoch    GPU_mem   box_loss   cls_loss   dfl_loss  Instances       Size\n"
     ]
    },
    {
     "name": "stderr",
     "output_type": "stream",
     "text": [
      "\n",
      "      50/50      2.28G     0.3028     0.2049     0.8263          2        640: 100%|██████████| 21/21 [00:01<00:00, 14.55it/s]\n",
      "                 Class     Images  Instances      Box(P          R      mAP50  mAP50-95): 100%|██████████| 3/3 [00:00<00:00, 13.68it/s]"
     ]
    },
    {
     "name": "stdout",
     "output_type": "stream",
     "text": [
      "                   all         75         76      0.961      0.985      0.977      0.871\n",
      "\n",
      "50 epochs completed in 0.028 hours.\n"
     ]
    },
    {
     "name": "stderr",
     "output_type": "stream",
     "text": [
      "\n"
     ]
    },
    {
     "name": "stdout",
     "output_type": "stream",
     "text": [
      "Optimizer stripped from E:\\yolo\\runs\\detect_ads_model_continued\\weights\\last.pt, 6.2MB\n",
      "Optimizer stripped from E:\\yolo\\runs\\detect_ads_model_continued\\weights\\best.pt, 6.2MB\n",
      "\n",
      "Validating E:\\yolo\\runs\\detect_ads_model_continued\\weights\\best.pt...\n",
      "Ultralytics 8.3.148  Python-3.11.11 torch-2.5.1+cu121 CUDA:0 (NVIDIA GeForce RTX 4070, 12282MiB)\n",
      "Model summary (fused): 72 layers, 3,005,843 parameters, 0 gradients, 8.1 GFLOPs\n"
     ]
    },
    {
     "name": "stderr",
     "output_type": "stream",
     "text": [
      "                 Class     Images  Instances      Box(P          R      mAP50  mAP50-95): 100%|██████████| 3/3 [00:00<00:00,  9.55it/s]\n"
     ]
    },
    {
     "name": "stdout",
     "output_type": "stream",
     "text": [
      "                   all         75         76      0.946      0.947      0.981      0.891\n",
      "Speed: 0.1ms preprocess, 1.7ms inference, 0.0ms loss, 0.6ms postprocess per image\n",
      "Results saved to \u001b[1mE:\\yolo\\runs\\detect_ads_model_continued\u001b[0m\n"
     ]
    },
    {
     "ename": "AttributeError",
     "evalue": "'DetMetrics' object has no attribute 'best'. See valid attributes below.\n\n    Utility class for computing detection metrics such as precision, recall, and mean average precision (mAP).\n\n    Attributes:\n        save_dir (Path): A path to the directory where the output plots will be saved.\n        plot (bool): A flag that indicates whether to plot precision-recall curves for each class.\n        names (Dict[int, str]): A dictionary of class names.\n        box (Metric): An instance of the Metric class for storing detection results.\n        speed (Dict[str, float]): A dictionary for storing execution times of different parts of the detection process.\n        task (str): The task type, set to 'detect'.\n    ",
     "output_type": "error",
     "traceback": [
      "\u001b[31m---------------------------------------------------------------------------\u001b[39m",
      "\u001b[31mAttributeError\u001b[39m                            Traceback (most recent call last)",
      "\u001b[36mCell\u001b[39m\u001b[36m \u001b[39m\u001b[32mIn[6]\u001b[39m\u001b[32m, line 25\u001b[39m\n\u001b[32m     12\u001b[39m results = model.train(\n\u001b[32m     13\u001b[39m     data=data_path,       \u001b[38;5;66;03m# Đường dẫn đến file data.yaml\u001b[39;00m\n\u001b[32m     14\u001b[39m     epochs=\u001b[32m50\u001b[39m,           \u001b[38;5;66;03m# Tổng số epochs (sẽ huấn luyện thêm 50 epochs nữa)\u001b[39;00m\n\u001b[32m   (...)\u001b[39m\u001b[32m     21\u001b[39m     \u001b[38;5;66;03m# resume=True           # Quan trọng: Tham số này cho biết bạn đang tiếp tục huấn luyện\u001b[39;00m\n\u001b[32m     22\u001b[39m )\n\u001b[32m     24\u001b[39m \u001b[38;5;66;03m# In ra đường dẫn đến model tốt nhất\u001b[39;00m\n\u001b[32m---> \u001b[39m\u001b[32m25\u001b[39m \u001b[38;5;28mprint\u001b[39m(\u001b[33mf\u001b[39m\u001b[33m\"\u001b[39m\u001b[33mBest model saved at: \u001b[39m\u001b[38;5;132;01m{\u001b[39;00m\u001b[43mresults\u001b[49m\u001b[43m.\u001b[49m\u001b[43mbest\u001b[49m\u001b[38;5;132;01m}\u001b[39;00m\u001b[33m\"\u001b[39m)\n\u001b[32m     27\u001b[39m \u001b[38;5;66;03m# Đánh giá mô hình trên tập validation\u001b[39;00m\n\u001b[32m     28\u001b[39m metrics = model.val()\n",
      "\u001b[36mFile \u001b[39m\u001b[32mc:\\Users\\Admin\\miniconda3\\envs\\yolov12\\Lib\\site-packages\\ultralytics\\utils\\__init__.py:394\u001b[39m, in \u001b[36mSimpleClass.__getattr__\u001b[39m\u001b[34m(self, attr)\u001b[39m\n\u001b[32m    392\u001b[39m \u001b[38;5;250m\u001b[39m\u001b[33;03m\"\"\"Provide a custom attribute access error message with helpful information.\"\"\"\u001b[39;00m\n\u001b[32m    393\u001b[39m name = \u001b[38;5;28mself\u001b[39m.\u001b[34m__class__\u001b[39m.\u001b[34m__name__\u001b[39m\n\u001b[32m--> \u001b[39m\u001b[32m394\u001b[39m \u001b[38;5;28;01mraise\u001b[39;00m \u001b[38;5;167;01mAttributeError\u001b[39;00m(\u001b[33mf\u001b[39m\u001b[33m\"\u001b[39m\u001b[33m'\u001b[39m\u001b[38;5;132;01m{\u001b[39;00mname\u001b[38;5;132;01m}\u001b[39;00m\u001b[33m'\u001b[39m\u001b[33m object has no attribute \u001b[39m\u001b[33m'\u001b[39m\u001b[38;5;132;01m{\u001b[39;00mattr\u001b[38;5;132;01m}\u001b[39;00m\u001b[33m'\u001b[39m\u001b[33m. See valid attributes below.\u001b[39m\u001b[38;5;130;01m\\n\u001b[39;00m\u001b[38;5;132;01m{\u001b[39;00m\u001b[38;5;28mself\u001b[39m.\u001b[34m__doc__\u001b[39m\u001b[38;5;132;01m}\u001b[39;00m\u001b[33m\"\u001b[39m)\n",
      "\u001b[31mAttributeError\u001b[39m: 'DetMetrics' object has no attribute 'best'. See valid attributes below.\n\n    Utility class for computing detection metrics such as precision, recall, and mean average precision (mAP).\n\n    Attributes:\n        save_dir (Path): A path to the directory where the output plots will be saved.\n        plot (bool): A flag that indicates whether to plot precision-recall curves for each class.\n        names (Dict[int, str]): A dictionary of class names.\n        box (Metric): An instance of the Metric class for storing detection results.\n        speed (Dict[str, float]): A dictionary for storing execution times of different parts of the detection process.\n        task (str): The task type, set to 'detect'.\n    "
     ]
    }
   ],
   "source": [
    "# Import các thư viện cần thiết\n",
    "from ultralytics import YOLO\n",
    "\n",
    "# Tải mô hình đã huấn luyện trước đó\n",
    "model = YOLO('E:/yolo/runs/detect_ads_model/weights/last.pt')  # Sử dụng checkpoint cuối cùng\n",
    "# Hoặc dùng model tốt nhất: 'E:/yolo/runs/detect_ads_model/weights/best.pt'\n",
    "\n",
    "# Đường dẫn đến dataset\n",
    "data_path = \"E:/yolo/detect_ads-2/data.yaml\"\n",
    "\n",
    "# Tiếp tục huấn luyện\n",
    "results = model.train(\n",
    "    data=data_path,       # Đường dẫn đến file data.yaml\n",
    "    epochs=50,           # Tổng số epochs (sẽ huấn luyện thêm 50 epochs nữa)\n",
    "    imgsz=640,            # Kích thước ảnh đầu vào\n",
    "    batch=16,             # Kích thước batch\n",
    "    device=0,             # Sử dụng GPU\n",
    "    name='detect_ads_model_continued',  # Tên mới cho lần huấn luyện tiếp theo\n",
    "    project='E:/yolo/runs',  # Thư mục lưu kết quả\n",
    "    exist_ok=True,        # Ghi đè thư mục nếu đã tồn tại\n",
    "    # resume=True           # Quan trọng: Tham số này cho biết bạn đang tiếp tục huấn luyện\n",
    ")\n",
    "\n",
    "# In ra đường dẫn đến model tốt nhất\n",
    "print(f\"Best model saved at: {results.best}\")\n",
    "\n",
    "# Đánh giá mô hình trên tập validation\n",
    "metrics = model.val()\n",
    "print(f\"Validation results:\")\n",
    "print(f\"mAP50-95: {metrics.box.map:.4f}\")\n",
    "print(f\"mAP50: {metrics.box.map50:.4f}\")"
   ]
  }
 ],
 "metadata": {
  "kernelspec": {
   "display_name": "yolov12",
   "language": "python",
   "name": "python3"
  },
  "language_info": {
   "codemirror_mode": {
    "name": "ipython",
    "version": 3
   },
   "file_extension": ".py",
   "mimetype": "text/x-python",
   "name": "python",
   "nbconvert_exporter": "python",
   "pygments_lexer": "ipython3",
   "version": "3.11.11"
  }
 },
 "nbformat": 4,
 "nbformat_minor": 5
}
